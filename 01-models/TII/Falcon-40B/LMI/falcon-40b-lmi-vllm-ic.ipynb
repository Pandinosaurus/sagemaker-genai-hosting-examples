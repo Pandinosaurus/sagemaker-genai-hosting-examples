{
 "cells": [
  {
   "cell_type": "markdown",
   "id": "71a329f0",
   "metadata": {},
   "source": [
    "# Deploy Falcon 40B on Amazon SageMaker using LMI and vLLM\n",
    "\n",
    "## Resources\n",
    "- [Falcon-40B model card](https://huggingface.co/tiiuae/falcon-40b)\n",
    "- [LMI Configuration Documentation](https://docs.djl.ai/docs/serving/serving/docs/lmi/configurations_large_model_inference_containers.html)\n",
    "- [DJL-Demo Samples](https://github.com/deepjavalibrary/djl-demo/tree/2a5152f578f5954b8b68acdee18eed4e2a75c81f/aws/sagemaker/large-model-inference/sample-llm)\n",
    "- [vLLM documentation](https://docs.vllm.ai/en/latest/)"
   ]
  },
  {
   "cell_type": "markdown",
   "id": "8974eee7-cc31-4dac-8795-aec6b8765051",
   "metadata": {},
   "source": [
    "## Step 1: Setup"
   ]
  },
  {
   "cell_type": "code",
   "execution_count": 27,
   "id": "67fa3208",
   "metadata": {
    "tags": []
   },
   "outputs": [],
   "source": [
    "# %pip install --upgrade --quiet sagemaker"
   ]
  },
  {
   "cell_type": "code",
   "execution_count": 28,
   "id": "ec9ac353",
   "metadata": {
    "tags": []
   },
   "outputs": [
    {
     "name": "stdout",
     "output_type": "stream",
     "text": [
      "boto3 version: 1.34.39\n",
      "sagemaker version: 2.209.0\n"
     ]
    }
   ],
   "source": [
    "import sagemaker\n",
    "import boto3\n",
    "import json\n",
    "print(f\"boto3 version: {boto3.__version__}\")\n",
    "print(f\"sagemaker version: {sagemaker.__version__}\")"
   ]
  },
  {
   "cell_type": "code",
   "execution_count": 29,
   "id": "94eba2f6-e1b6-41c6-94d1-2b2bfbe3308b",
   "metadata": {
    "tags": []
   },
   "outputs": [],
   "source": [
    "role = sagemaker.get_execution_role()  # execution role for the endpoint\n",
    "sess = sagemaker.session.Session()  # sagemaker session for interacting with different AWS APIs\n",
    "bucket = sess.default_bucket()  # bucket to house artifacts\n",
    "region = sess._region_name\n",
    "\n",
    "sm_client = boto3.client(\"sagemaker\")\n",
    "smr_client = boto3.client(\"sagemaker-runtime\")"
   ]
  },
  {
   "cell_type": "markdown",
   "id": "2e58cf33",
   "metadata": {},
   "source": [
    "## Step 2: Create a model, endpoint configuration and endpoint"
   ]
  },
  {
   "cell_type": "markdown",
   "id": "6dbef0bb-14ce-47e9-b99f-7cdd4afe7f7c",
   "metadata": {},
   "source": [
    "Retrieve the ECR image URI for the DJL TensorRT accelerated large language model framework. The image URI is looked up based on the framework name, AWS region, and framework version. This allows us to dynamically select the right Docker image for our environment.\n",
    "\n",
    "Functions for generating ECR image URIs for pre-built SageMaker Docker images. See available Large Model Inference DLC's [here](https://github.com/aws/deep-learning-containers/blob/master/available_images.md#large-model-inference-containers)"
   ]
  },
  {
   "cell_type": "code",
   "execution_count": 30,
   "id": "7a174b36",
   "metadata": {
    "tags": []
   },
   "outputs": [
    {
     "name": "stdout",
     "output_type": "stream",
     "text": [
      "Image going to be used is ----> 763104351884.dkr.ecr.us-west-2.amazonaws.com/djl-inference:0.26.0-deepspeed0.12.6-cu121\n"
     ]
    }
   ],
   "source": [
    "version = \"0.26.0\"\n",
    "inference_image_uri = sagemaker.image_uris.retrieve(\n",
    "    \"djl-deepspeed\", region=region, version=version\n",
    ")\n",
    "print(f\"Image going to be used is ----> {inference_image_uri}\")"
   ]
  },
  {
   "cell_type": "code",
   "execution_count": 31,
   "id": "66472473-8b8f-4db4-996c-e7de9487b100",
   "metadata": {
    "tags": []
   },
   "outputs": [
    {
     "name": "stdout",
     "output_type": "stream",
     "text": [
      "falcon40b-lmi-vllm-2024-02-26-22-26-24-860\n",
      "Created Model: arn:aws:sagemaker:us-west-2:461312420708:model/falcon40b-lmi-vllm-2024-02-26-22-26-24-860\n"
     ]
    }
   ],
   "source": [
    "model_name = sagemaker.utils.name_from_base(\"falcon40b-lmi-vllm\")\n",
    "print(model_name)\n",
    "\n",
    "env = {\n",
    "    \"SERVING_LOAD_MODELS\": \"test::Python=/opt/ml/model\",\n",
    "    \"OPTION_MODEL_ID\": \"tiiuae/falcon-40b\",\n",
    "    \"OPTION_ROLLING_BATCH\": \"vllm\",\n",
    "    \"OPTION_TENSOR_PARALLEL_DEGREE\": \"8\",\n",
    "}\n",
    "\n",
    "create_model_response = sm_client.create_model(\n",
    "    ModelName = model_name,\n",
    "    ExecutionRoleArn = role,\n",
    "    PrimaryContainer = {\n",
    "        \"Image\": inference_image_uri, \n",
    "        \"Environment\": env,\n",
    "    },\n",
    ")\n",
    "model_arn = create_model_response[\"ModelArn\"]\n",
    "\n",
    "print(f\"Created Model: {model_arn}\")"
   ]
  },
  {
   "cell_type": "markdown",
   "id": "88456f4c-0336-4b69-b015-4c220520edfb",
   "metadata": {},
   "source": [
    "These two cells below deploy the model to a SageMaker endpoint for real-time inference. The instance_type defines the machine instance for the endpoint. The endpoint name is programmatically generated based on the base name. The model is deployed with a large container startup timeout specified, as the TensorRT model takes time to initialize on the GPU instance."
   ]
  },
  {
   "cell_type": "code",
   "execution_count": 32,
   "id": "0499885a-e95f-4342-88cc-450ca076dc8a",
   "metadata": {
    "tags": []
   },
   "outputs": [],
   "source": [
    "endpoint_config_name = f\"{model_name}-config\""
   ]
  },
  {
   "cell_type": "code",
   "execution_count": 33,
   "id": "65d67461-7753-4c92-8179-88c47cd11120",
   "metadata": {
    "tags": []
   },
   "outputs": [
    {
     "name": "stdout",
     "output_type": "stream",
     "text": [
      "Initial instance count: 1\n",
      "Max instance count: 2\n"
     ]
    },
    {
     "data": {
      "text/plain": [
       "{'EndpointConfigArn': 'arn:aws:sagemaker:us-west-2:461312420708:endpoint-config/falcon40b-lmi-vllm-2024-02-26-22-26-24-860-config',\n",
       " 'ResponseMetadata': {'RequestId': 'a7f162c3-144d-4815-b643-72015b12d05c',\n",
       "  'HTTPStatusCode': 200,\n",
       "  'HTTPHeaders': {'x-amzn-requestid': 'a7f162c3-144d-4815-b643-72015b12d05c',\n",
       "   'content-type': 'application/x-amz-json-1.1',\n",
       "   'content-length': '130',\n",
       "   'date': 'Mon, 26 Feb 2024 22:26:25 GMT'},\n",
       "  'RetryAttempts': 0}}"
      ]
     },
     "execution_count": 33,
     "metadata": {},
     "output_type": "execute_result"
    }
   ],
   "source": [
    "# Set varient name and instance type for hosting\n",
    "variant_name = \"AllTraffic\"\n",
    "instance_type = \"ml.g5.48xlarge\"\n",
    "model_data_download_timeout_in_seconds = 1200\n",
    "container_startup_health_check_timeout_in_seconds = 1200\n",
    "\n",
    "initial_instance_count = 1\n",
    "max_instance_count = 2 # will use for managed instance scaling later\n",
    "print(f\"Initial instance count: {initial_instance_count}\")\n",
    "print(f\"Max instance count: {max_instance_count}\")\n",
    "\n",
    "sm_client.create_endpoint_config(\n",
    "    EndpointConfigName = endpoint_config_name,\n",
    "    ExecutionRoleArn = role,\n",
    "    ProductionVariants = [\n",
    "        {\n",
    "            \"VariantName\": variant_name,\n",
    "            \"InstanceType\": instance_type,\n",
    "            \"InitialInstanceCount\": initial_instance_count,\n",
    "            \"ModelDataDownloadTimeoutInSeconds\": model_data_download_timeout_in_seconds,\n",
    "            \"ContainerStartupHealthCheckTimeoutInSeconds\": container_startup_health_check_timeout_in_seconds,\n",
    "            \"ManagedInstanceScaling\": {\n",
    "                \"Status\": \"ENABLED\",\n",
    "                \"MinInstanceCount\": initial_instance_count,\n",
    "                \"MaxInstanceCount\": max_instance_count,\n",
    "            },\n",
    "            \"RoutingConfig\": {\"RoutingStrategy\": \"LEAST_OUTSTANDING_REQUESTS\"},\n",
    "        }\n",
    "    ]\n",
    ")"
   ]
  },
  {
   "cell_type": "code",
   "execution_count": 34,
   "id": "e5ecb90b-4443-4e35-bea2-a6bc77e3f193",
   "metadata": {
    "tags": []
   },
   "outputs": [],
   "source": [
    "endpoint_name = f\"{model_name}-endpoint\""
   ]
  },
  {
   "cell_type": "code",
   "execution_count": 35,
   "id": "d2e0a6c8-a1dc-4e4d-81a8-526c723231dd",
   "metadata": {
    "tags": []
   },
   "outputs": [
    {
     "name": "stdout",
     "output_type": "stream",
     "text": [
      "Created Endpoint: arn:aws:sagemaker:us-west-2:461312420708:endpoint/falcon40b-lmi-vllm-2024-02-26-22-26-24-860-endpoint\n"
     ]
    }
   ],
   "source": [
    "create_endpoint_response = sm_client.create_endpoint(\n",
    "    EndpointName = endpoint_name, EndpointConfigName = endpoint_config_name\n",
    ")\n",
    "print(f\"Created Endpoint: {create_endpoint_response['EndpointArn']}\")"
   ]
  },
  {
   "cell_type": "markdown",
   "id": "079b56f3-ba5a-4423-ba75-bdc40f597ba6",
   "metadata": {},
   "source": [
    "### This step can take ~ 10 min or longer so please be patient"
   ]
  },
  {
   "cell_type": "code",
   "execution_count": 36,
   "id": "d993dd7b-792e-4992-add7-8d3d49492cbe",
   "metadata": {
    "tags": []
   },
   "outputs": [
    {
     "name": "stdout",
     "output_type": "stream",
     "text": [
      "-----!"
     ]
    },
    {
     "data": {
      "text/plain": [
       "{'EndpointName': 'falcon40b-lmi-vllm-2024-02-26-22-26-24-860-endpoint',\n",
       " 'EndpointArn': 'arn:aws:sagemaker:us-west-2:461312420708:endpoint/falcon40b-lmi-vllm-2024-02-26-22-26-24-860-endpoint',\n",
       " 'EndpointConfigName': 'falcon40b-lmi-vllm-2024-02-26-22-26-24-860-config',\n",
       " 'ProductionVariants': [{'VariantName': 'AllTraffic',\n",
       "   'CurrentInstanceCount': 1,\n",
       "   'DesiredInstanceCount': 1,\n",
       "   'ManagedInstanceScaling': {'Status': 'ENABLED',\n",
       "    'MinInstanceCount': 1,\n",
       "    'MaxInstanceCount': 2},\n",
       "   'RoutingConfig': {'RoutingStrategy': 'LEAST_OUTSTANDING_REQUESTS'}}],\n",
       " 'EndpointStatus': 'InService',\n",
       " 'CreationTime': datetime.datetime(2024, 2, 26, 22, 26, 26, 189000, tzinfo=tzlocal()),\n",
       " 'LastModifiedTime': datetime.datetime(2024, 2, 26, 22, 29, 17, 267000, tzinfo=tzlocal()),\n",
       " 'ResponseMetadata': {'RequestId': 'c15a5b08-a007-438a-bf31-4b80e5a7cecd',\n",
       "  'HTTPStatusCode': 200,\n",
       "  'HTTPHeaders': {'x-amzn-requestid': 'c15a5b08-a007-438a-bf31-4b80e5a7cecd',\n",
       "   'content-type': 'application/x-amz-json-1.1',\n",
       "   'content-length': '613',\n",
       "   'date': 'Mon, 26 Feb 2024 22:29:26 GMT'},\n",
       "  'RetryAttempts': 0}}"
      ]
     },
     "execution_count": 36,
     "metadata": {},
     "output_type": "execute_result"
    }
   ],
   "source": [
    "#\n",
    "# Using helper function to wait for the endpoint to be ready\n",
    "#\n",
    "sess.wait_for_endpoint(endpoint_name)"
   ]
  },
  {
   "cell_type": "code",
   "execution_count": 42,
   "id": "bfbf6932-735f-435b-95e2-c7c28e9e8a4c",
   "metadata": {
    "tags": []
   },
   "outputs": [],
   "source": [
    "inference_component_name = f\"{model_name}-ic\""
   ]
  },
  {
   "cell_type": "code",
   "execution_count": 45,
   "id": "ca7c1c01-cdca-46ab-b19c-3e78e379cf35",
   "metadata": {
    "tags": []
   },
   "outputs": [
    {
     "name": "stdout",
     "output_type": "stream",
     "text": [
      "Test inference component name: falcon40b-lmi-vllm-2024-02-26-22-26-24-860-ic\n"
     ]
    },
    {
     "data": {
      "text/plain": [
       "{'InferenceComponentArn': 'arn:aws:sagemaker:us-west-2:461312420708:inference-component/falcon40b-lmi-vllm-2024-02-26-22-26-24-860-ic',\n",
       " 'ResponseMetadata': {'RequestId': '6c9e67b4-fa2c-4ad8-b016-ef48bd64b028',\n",
       "  'HTTPStatusCode': 200,\n",
       "  'HTTPHeaders': {'x-amzn-requestid': '6c9e67b4-fa2c-4ad8-b016-ef48bd64b028',\n",
       "   'content-type': 'application/x-amz-json-1.1',\n",
       "   'content-length': '134',\n",
       "   'date': 'Mon, 26 Feb 2024 23:15:35 GMT'},\n",
       "  'RetryAttempts': 0}}"
      ]
     },
     "execution_count": 45,
     "metadata": {},
     "output_type": "execute_result"
    }
   ],
   "source": [
    "print(f\"Test inference component name: {inference_component_name}\")\n",
    "\n",
    "initial_copy_count = 1\n",
    "max_copy_count_per_instance = 4  # will use later for autoscaling\n",
    "\n",
    "variant_name = \"AllTraffic\"\n",
    "\n",
    "min_memory_required_in_mb = 1024 \n",
    "number_of_accelerator_devices_required = 8\n",
    "\n",
    "sm_client.create_inference_component(\n",
    "    InferenceComponentName = inference_component_name,\n",
    "    EndpointName = endpoint_name,\n",
    "    VariantName = variant_name,\n",
    "    Specification={\n",
    "        \"ModelName\": model_name,\n",
    "        \"StartupParameters\": {\n",
    "            \"ModelDataDownloadTimeoutInSeconds\": model_data_download_timeout_in_seconds,\n",
    "            \"ContainerStartupHealthCheckTimeoutInSeconds\": container_startup_health_check_timeout_in_seconds,\n",
    "        },\n",
    "        \"ComputeResourceRequirements\": {\n",
    "            \"MinMemoryRequiredInMb\": min_memory_required_in_mb,\n",
    "            \"NumberOfAcceleratorDevicesRequired\": number_of_accelerator_devices_required,\n",
    "        },\n",
    "    },\n",
    "    RuntimeConfig={\n",
    "        \"CopyCount\": initial_copy_count,\n",
    "    },\n",
    ")"
   ]
  },
  {
   "cell_type": "markdown",
   "id": "c7f32dda-db04-459c-97af-010f214473d0",
   "metadata": {},
   "source": [
    "### This step can take ~ 10 min or longer so please be patient"
   ]
  },
  {
   "cell_type": "code",
   "execution_count": 46,
   "id": "318969f4-ee22-421a-91bc-60db8975ae10",
   "metadata": {
    "tags": []
   },
   "outputs": [
    {
     "name": "stdout",
     "output_type": "stream",
     "text": [
      "-----------------------------!"
     ]
    },
    {
     "data": {
      "text/plain": [
       "{'InferenceComponentName': 'falcon40b-lmi-vllm-2024-02-26-22-26-24-860-ic',\n",
       " 'InferenceComponentArn': 'arn:aws:sagemaker:us-west-2:461312420708:inference-component/falcon40b-lmi-vllm-2024-02-26-22-26-24-860-ic',\n",
       " 'EndpointName': 'falcon40b-lmi-vllm-2024-02-26-22-26-24-860-endpoint',\n",
       " 'EndpointArn': 'arn:aws:sagemaker:us-west-2:461312420708:endpoint/falcon40b-lmi-vllm-2024-02-26-22-26-24-860-endpoint',\n",
       " 'VariantName': 'AllTraffic',\n",
       " 'Specification': {'ModelName': 'falcon40b-lmi-vllm-2024-02-26-22-26-24-860',\n",
       "  'StartupParameters': {'ModelDataDownloadTimeoutInSeconds': 1200,\n",
       "   'ContainerStartupHealthCheckTimeoutInSeconds': 1200},\n",
       "  'ComputeResourceRequirements': {'NumberOfAcceleratorDevicesRequired': 8.0,\n",
       "   'MinMemoryRequiredInMb': 1024}},\n",
       " 'RuntimeConfig': {'DesiredCopyCount': 1, 'CurrentCopyCount': 1},\n",
       " 'CreationTime': datetime.datetime(2024, 2, 26, 23, 15, 35, 574000, tzinfo=tzlocal()),\n",
       " 'LastModifiedTime': datetime.datetime(2024, 2, 26, 23, 25, 25, 982000, tzinfo=tzlocal()),\n",
       " 'InferenceComponentStatus': 'InService',\n",
       " 'ResponseMetadata': {'RequestId': 'f7a281d8-1196-4e1a-a14c-8c54b7aa4c90',\n",
       "  'HTTPStatusCode': 200,\n",
       "  'HTTPHeaders': {'x-amzn-requestid': 'f7a281d8-1196-4e1a-a14c-8c54b7aa4c90',\n",
       "   'content-type': 'application/x-amz-json-1.1',\n",
       "   'content-length': '879',\n",
       "   'date': 'Mon, 26 Feb 2024 23:25:42 GMT'},\n",
       "  'RetryAttempts': 0}}"
      ]
     },
     "execution_count": 46,
     "metadata": {},
     "output_type": "execute_result"
    }
   ],
   "source": [
    "sess.wait_for_inference_component(inference_component_name)"
   ]
  },
  {
   "cell_type": "markdown",
   "id": "58be20f4-15ba-4659-b8a9-358e79e7c119",
   "metadata": {},
   "source": [
    "## Step 3: Invoke the Endpoint"
   ]
  },
  {
   "cell_type": "code",
   "execution_count": 47,
   "id": "993ac417-6a69-4ad9-a311-0bc7f0de5b72",
   "metadata": {
    "tags": []
   },
   "outputs": [
    {
     "name": "stdout",
     "output_type": "stream",
     "text": [
      "CPU times: user 15.4 ms, sys: 57 µs, total: 15.4 ms\n",
      "Wall time: 8.6 s\n"
     ]
    },
    {
     "data": {
      "text/plain": [
       "'{\"generated_text\": \" How to get registered for the same.\\\\nAWS re:Invent is a four-day conference in Las Vegas, where Amazon web services will announce new features, evidence for new technologies, products and solutions to solve the challenges and prepare their users for future demands.\\\\nIf anyone is willing to attend and doesn\\'t know the process to get registered, if you can take a look at, once you land on this website follow the steps mentioned there. If you have any queries related to the AWS solution then you can also visit Amoli website here you will find solutions related to AWS. Amoli can also help you in implementing Digital Transformation in modern era with the help of AWS solutions.\\\\n4 Answers\\\\nAWS re:Invent is a four-day conference in Las Vegas, where Amazon web services will announce new features (or showcase new... The event acquires millions of dollars worth of annual attendee business from restaurants, hotels, and other tourism services benefiting the local economy.\\\\nHere is snippet from the site: \\\\\"to re: Invent, one must apply and be accepted into the program. Acceptance is at the discretion of AWS\\\\\"\\\\nHello, fellow AWS users.\\\\nre:Invent was first introduced in 2012 in Las Vegas, Nevada, and\"}'"
      ]
     },
     "execution_count": 47,
     "metadata": {},
     "output_type": "execute_result"
    }
   ],
   "source": [
    "%%time\n",
    "\n",
    "response_model = smr_client.invoke_endpoint(\n",
    "    EndpointName = endpoint_name,\n",
    "    InferenceComponentName = inference_component_name,\n",
    "    Body = json.dumps(\n",
    "        {\n",
    "            \"inputs\": \"What is AWS re:invent? Where does it happen every year?\", \n",
    "            \"parameters\": {\"max_new_tokens\": 256, \"do_sample\": True}\n",
    "        }\n",
    "    ),\n",
    "    ContentType = \"application/json\",\n",
    ")\n",
    "\n",
    "response_model[\"Body\"].read().decode(\"utf8\")"
   ]
  },
  {
   "cell_type": "markdown",
   "id": "9251aed4-20fe-4b98-aaf9-ee7eb4cdfc27",
   "metadata": {},
   "source": [
    "## (Optional) Step 4: Define and test autoscaling policy\n",
    "\n",
    "We define the scaling policy for desired copy count of inference component instances.\n",
    "\n",
    "**Please note:**\n",
    "- SageMaker endpoint will have to perform JIT compilation for every IC we start\n",
    "- We created our endpoint with managed instance scaling thus SageMaker endpoint will start additional instances automatically to satisfy the requested number of inference component instances"
   ]
  },
  {
   "cell_type": "code",
   "execution_count": null,
   "id": "adaa0bcc-3e33-49d4-87e3-6680fd3e1bd4",
   "metadata": {},
   "outputs": [],
   "source": [
    "aas_client = sess.boto_session.client(\"application-autoscaling\")"
   ]
  },
  {
   "cell_type": "code",
   "execution_count": null,
   "id": "74ccf1f4-06c6-45fd-bb7d-80590898e762",
   "metadata": {},
   "outputs": [],
   "source": [
    "max_copy_count = max_copy_count_per_instance * max_instance_count\n",
    "print(f\"Initial copy count: {initial_copy_count}\")\n",
    "print(f\"Max copy county: {max_copy_count}\")"
   ]
  },
  {
   "cell_type": "code",
   "execution_count": null,
   "id": "0f38563e-b112-491b-9f11-d4fe31baa1a5",
   "metadata": {},
   "outputs": [],
   "source": [
    "# Autoscaling parameters\n",
    "resource_id = f\"inference-component/{inference_component_name}\"\n",
    "service_namespace = \"sagemaker\"\n",
    "scalable_dimension = \"sagemaker:inference-component:DesiredCopyCount\""
   ]
  },
  {
   "cell_type": "code",
   "execution_count": null,
   "id": "65a421aa-203f-45c8-b169-22165278db95",
   "metadata": {},
   "outputs": [],
   "source": [
    "aas_client.register_scalable_target(\n",
    "    ServiceNamespace=service_namespace,\n",
    "    ResourceId=resource_id,\n",
    "    ScalableDimension=scalable_dimension,\n",
    "    MinCapacity=initial_copy_count,\n",
    "    MaxCapacity=max_copy_count,\n",
    ")"
   ]
  },
  {
   "cell_type": "code",
   "execution_count": null,
   "id": "420d7e1f-4ccf-49a2-9eb2-dc5bfe1c4422",
   "metadata": {},
   "outputs": [],
   "source": [
    "# Sanity check\n",
    "#aas_client.describe_scalable_targets(\n",
    "#    ServiceNamespace=service_namespace,\n",
    "#    ResourceIds=[resource_id],\n",
    "#    ScalableDimension=scalable_dimension,\n",
    "#)"
   ]
  },
  {
   "cell_type": "code",
   "execution_count": null,
   "id": "a2fe62c8-5f12-4f08-9425-e7b2f16aac6f",
   "metadata": {},
   "outputs": [],
   "source": [
    "#\n",
    "# Scalable policy\n",
    "#\n",
    "aas_client.put_scaling_policy(\n",
    "    PolicyName=endpoint_name,\n",
    "    PolicyType=\"TargetTrackingScaling\",\n",
    "    ServiceNamespace=service_namespace,\n",
    "    ResourceId=resource_id,\n",
    "    ScalableDimension=scalable_dimension,\n",
    "    TargetTrackingScalingPolicyConfiguration={\n",
    "        \"PredefinedMetricSpecification\": {\n",
    "            \"PredefinedMetricType\": \"SageMakerInferenceComponentInvocationsPerCopy\",\n",
    "        },\n",
    "        \"TargetValue\": 1,  # you need to adjust this value based on your use case\n",
    "        \"ScaleInCooldown\": 60,\n",
    "        \"ScaleOutCooldown\": 300,\n",
    "        \"DisableScaleIn\": False\n",
    "    },\n",
    ")"
   ]
  },
  {
   "cell_type": "code",
   "execution_count": null,
   "id": "ad8d47b2-6216-4c9c-9c87-af2f9cda3bd5",
   "metadata": {},
   "outputs": [],
   "source": [
    "# Sanity check\n",
    "#aas_client.describe_scaling_policies(\n",
    "#    PolicyNames=[endpoint_name],\n",
    "#    ServiceNamespace=service_namespace,\n",
    "#    ResourceId=resource_id,\n",
    "#    ScalableDimension=scalable_dimension,\n",
    "#)"
   ]
  },
  {
   "cell_type": "code",
   "execution_count": null,
   "id": "a270428b-674b-4aaf-aa21-0110211b44ea",
   "metadata": {},
   "outputs": [],
   "source": [
    "#\n",
    "# Initial state\n",
    "#\n",
    "endpoint_desc = sm_client.describe_endpoint(EndpointName=endpoint_name)\n",
    "print(f\"EndpointStatus: {endpoint_desc['EndpointStatus']}\")\n",
    "print(f\"\\tCurrentInstanceCount: {endpoint_desc['ProductionVariants'][0]['CurrentInstanceCount']}\")\n",
    "print(f\"\\tDesiredInstanceCount: {endpoint_desc['ProductionVariants'][0]['DesiredInstanceCount']}\")\n",
    "\n",
    "ic_desc = sm_client.describe_inference_component(InferenceComponentName=inference_component_name)\n",
    "print(f\"InferenceComponentStatus: {ic_desc['InferenceComponentStatus']}\")\n",
    "print(f\"\\tCurrentCopyCount: {ic_desc['RuntimeConfig']['CurrentCopyCount']}\")\n",
    "print(f\"\\tDesiredCopyCount: {ic_desc['RuntimeConfig']['DesiredCopyCount']}\")"
   ]
  },
  {
   "cell_type": "code",
   "execution_count": null,
   "id": "ef733e4a-7232-4e20-b3fc-8ec55fe9b469",
   "metadata": {},
   "outputs": [],
   "source": [
    "#\n",
    "# Test the timing only\n",
    "#\n",
    "#sm_client.update_inference_component(\n",
    "#    InferenceComponentName = inference_component_name,\n",
    "#    RuntimeConfig = {\n",
    "#        'CopyCount': 6\n",
    "#    }\n",
    "#)"
   ]
  },
  {
   "cell_type": "code",
   "execution_count": null,
   "id": "95f79cc4-82e7-46f2-a943-f3e872e12984",
   "metadata": {},
   "outputs": [],
   "source": [
    "!pip install --quiet locust"
   ]
  },
  {
   "cell_type": "code",
   "execution_count": null,
   "id": "a7dd9bcb-9baf-4513-87e1-735143dea700",
   "metadata": {},
   "outputs": [],
   "source": [
    "!cat distributed.sh #adjust users and workers to increase traffic, users are a multiple of the workers in locust"
   ]
  },
  {
   "cell_type": "code",
   "execution_count": null,
   "id": "14442648-b7a3-4f4e-83a2-18a1b77346ac",
   "metadata": {},
   "outputs": [],
   "source": [
    "#\n",
    "# We recommend you run this command in a terminal (it generates a lot of output)\n",
    "#\n",
    "#%%bash -s \"$endpoint_name/$inference_component_name\"\n",
    "#./distributed.sh $1"
   ]
  },
  {
   "cell_type": "code",
   "execution_count": null,
   "id": "6d86a31c-5534-415a-b46d-5043fb7fe47a",
   "metadata": {},
   "outputs": [],
   "source": [
    "# Test\n",
    "# define some helper functions\n",
    "import time\n",
    "from dataclasses import dataclass\n",
    "from datetime import datetime\n",
    "\n",
    "@dataclass\n",
    "class AutoscalingStatus:\n",
    "    status_name: str  # endpoint status or inference component status\n",
    "    start_time: datetime  # when was the status changed\n",
    "    current_instance_count: int\n",
    "    desired_instance_count: int\n",
    "    current_copy_count: int\n",
    "    desired_copy_count: int"
   ]
  },
  {
   "cell_type": "markdown",
   "id": "89f526e6-ff86-4b6a-bb71-75b77988f58e",
   "metadata": {},
   "source": [
    "Helper code to illustrate scaling out and scaling in timings.\n",
    "Stop the cell execution when done."
   ]
  },
  {
   "cell_type": "code",
   "execution_count": null,
   "id": "ac3c79ae-05a5-4323-ab98-792d8d26e791",
   "metadata": {},
   "outputs": [],
   "source": [
    "statuses = []\n",
    "\n",
    "while True:\n",
    "    endpoint_desc = sm_client.describe_endpoint(EndpointName=endpoint_name)\n",
    "    status = endpoint_desc['EndpointStatus']\n",
    "    current_instance_count = endpoint_desc['ProductionVariants'][0]['CurrentInstanceCount']\n",
    "    desired_instance_count = endpoint_desc['ProductionVariants'][0]['DesiredInstanceCount']\n",
    "    ic_desc = sm_client.describe_inference_component(InferenceComponentName=inference_component_name)\n",
    "    ic_status = ic_desc['InferenceComponentStatus']\n",
    "    current_copy_count = ic_desc['RuntimeConfig']['CurrentCopyCount']\n",
    "    desired_copy_count = ic_desc['RuntimeConfig']['DesiredCopyCount']\n",
    "    status_name = f\"{status}_{ic_status}\"\n",
    "    if not statuses or statuses[-1].status_name != status_name:\n",
    "        statuses.append(AutoscalingStatus(\n",
    "            status_name=status_name,\n",
    "            start_time=datetime.utcnow(),\n",
    "            current_instance_count=current_instance_count,\n",
    "            desired_instance_count=desired_instance_count,\n",
    "            current_copy_count=current_copy_count,\n",
    "            desired_copy_count=desired_copy_count,\n",
    "        ))\n",
    "        print(statuses[-1])\n",
    "    time.sleep(1)"
   ]
  },
  {
   "cell_type": "markdown",
   "id": "228deadb-92df-4d85-9be3-8c0c39ff1a75",
   "metadata": {},
   "source": [
    "## Step 5: Autoscaling cleanup"
   ]
  },
  {
   "cell_type": "code",
   "execution_count": null,
   "id": "52328dbe-4ade-40fe-95ca-5fbd85d717b5",
   "metadata": {},
   "outputs": [],
   "source": [
    "aas_client.delete_scaling_policy(\n",
    "    PolicyName=endpoint_name,\n",
    "    ServiceNamespace=service_namespace,\n",
    "    ResourceId=resource_id,\n",
    "    ScalableDimension=scalable_dimension,\n",
    ")"
   ]
  },
  {
   "cell_type": "code",
   "execution_count": null,
   "id": "c71fddf0-505f-4fe5-b588-aa845c824b32",
   "metadata": {},
   "outputs": [],
   "source": [
    "aas_client.deregister_scalable_target(\n",
    "    ServiceNamespace=service_namespace,\n",
    "    ResourceId=resource_id,\n",
    "    ScalableDimension=scalable_dimension,\n",
    ")"
   ]
  },
  {
   "cell_type": "markdown",
   "id": "c1cd9042",
   "metadata": {},
   "source": [
    "## Step 6: Clean up the environment"
   ]
  },
  {
   "cell_type": "code",
   "execution_count": 48,
   "id": "10b1abd0-eb91-4717-a116-a87f81654fc7",
   "metadata": {},
   "outputs": [],
   "source": [
    "sess.delete_inference_component(inference_component_name, wait = True)"
   ]
  },
  {
   "cell_type": "code",
   "execution_count": 49,
   "id": "3d674b41",
   "metadata": {
    "tags": []
   },
   "outputs": [],
   "source": [
    "sess.delete_endpoint(endpoint_name)\n",
    "sess.delete_endpoint_config(endpoint_config_name)\n",
    "sess.delete_model(model_name)"
   ]
  },
  {
   "cell_type": "code",
   "execution_count": null,
   "id": "2ee9f6c1-24ab-4654-9a11-bef835fc1641",
   "metadata": {},
   "outputs": [],
   "source": [
    "#\n",
    "# Helper code - find my IP to use in locust_script.py (localhost does not work)\n",
    "#\n",
    "\n",
    "#import socket\n",
    "#s = socket.socket(socket.AF_INET, socket.SOCK_DGRAM)\n",
    "#s.connect((\"8.8.8.8\", 80))\n",
    "#print(s.getsockname()[0])\n",
    "#s.close()"
   ]
  },
  {
   "cell_type": "code",
   "execution_count": null,
   "id": "4c0c773d-5631-4a0e-8156-82e860dc5892",
   "metadata": {},
   "outputs": [],
   "source": []
  }
 ],
 "metadata": {
  "availableInstances": [
   {
    "_defaultOrder": 0,
    "_isFastLaunch": true,
    "category": "General purpose",
    "gpuNum": 0,
    "hideHardwareSpecs": false,
    "memoryGiB": 4,
    "name": "ml.t3.medium",
    "vcpuNum": 2
   },
   {
    "_defaultOrder": 1,
    "_isFastLaunch": false,
    "category": "General purpose",
    "gpuNum": 0,
    "hideHardwareSpecs": false,
    "memoryGiB": 8,
    "name": "ml.t3.large",
    "vcpuNum": 2
   },
   {
    "_defaultOrder": 2,
    "_isFastLaunch": false,
    "category": "General purpose",
    "gpuNum": 0,
    "hideHardwareSpecs": false,
    "memoryGiB": 16,
    "name": "ml.t3.xlarge",
    "vcpuNum": 4
   },
   {
    "_defaultOrder": 3,
    "_isFastLaunch": false,
    "category": "General purpose",
    "gpuNum": 0,
    "hideHardwareSpecs": false,
    "memoryGiB": 32,
    "name": "ml.t3.2xlarge",
    "vcpuNum": 8
   },
   {
    "_defaultOrder": 4,
    "_isFastLaunch": true,
    "category": "General purpose",
    "gpuNum": 0,
    "hideHardwareSpecs": false,
    "memoryGiB": 8,
    "name": "ml.m5.large",
    "vcpuNum": 2
   },
   {
    "_defaultOrder": 5,
    "_isFastLaunch": false,
    "category": "General purpose",
    "gpuNum": 0,
    "hideHardwareSpecs": false,
    "memoryGiB": 16,
    "name": "ml.m5.xlarge",
    "vcpuNum": 4
   },
   {
    "_defaultOrder": 6,
    "_isFastLaunch": false,
    "category": "General purpose",
    "gpuNum": 0,
    "hideHardwareSpecs": false,
    "memoryGiB": 32,
    "name": "ml.m5.2xlarge",
    "vcpuNum": 8
   },
   {
    "_defaultOrder": 7,
    "_isFastLaunch": false,
    "category": "General purpose",
    "gpuNum": 0,
    "hideHardwareSpecs": false,
    "memoryGiB": 64,
    "name": "ml.m5.4xlarge",
    "vcpuNum": 16
   },
   {
    "_defaultOrder": 8,
    "_isFastLaunch": false,
    "category": "General purpose",
    "gpuNum": 0,
    "hideHardwareSpecs": false,
    "memoryGiB": 128,
    "name": "ml.m5.8xlarge",
    "vcpuNum": 32
   },
   {
    "_defaultOrder": 9,
    "_isFastLaunch": false,
    "category": "General purpose",
    "gpuNum": 0,
    "hideHardwareSpecs": false,
    "memoryGiB": 192,
    "name": "ml.m5.12xlarge",
    "vcpuNum": 48
   },
   {
    "_defaultOrder": 10,
    "_isFastLaunch": false,
    "category": "General purpose",
    "gpuNum": 0,
    "hideHardwareSpecs": false,
    "memoryGiB": 256,
    "name": "ml.m5.16xlarge",
    "vcpuNum": 64
   },
   {
    "_defaultOrder": 11,
    "_isFastLaunch": false,
    "category": "General purpose",
    "gpuNum": 0,
    "hideHardwareSpecs": false,
    "memoryGiB": 384,
    "name": "ml.m5.24xlarge",
    "vcpuNum": 96
   },
   {
    "_defaultOrder": 12,
    "_isFastLaunch": false,
    "category": "General purpose",
    "gpuNum": 0,
    "hideHardwareSpecs": false,
    "memoryGiB": 8,
    "name": "ml.m5d.large",
    "vcpuNum": 2
   },
   {
    "_defaultOrder": 13,
    "_isFastLaunch": false,
    "category": "General purpose",
    "gpuNum": 0,
    "hideHardwareSpecs": false,
    "memoryGiB": 16,
    "name": "ml.m5d.xlarge",
    "vcpuNum": 4
   },
   {
    "_defaultOrder": 14,
    "_isFastLaunch": false,
    "category": "General purpose",
    "gpuNum": 0,
    "hideHardwareSpecs": false,
    "memoryGiB": 32,
    "name": "ml.m5d.2xlarge",
    "vcpuNum": 8
   },
   {
    "_defaultOrder": 15,
    "_isFastLaunch": false,
    "category": "General purpose",
    "gpuNum": 0,
    "hideHardwareSpecs": false,
    "memoryGiB": 64,
    "name": "ml.m5d.4xlarge",
    "vcpuNum": 16
   },
   {
    "_defaultOrder": 16,
    "_isFastLaunch": false,
    "category": "General purpose",
    "gpuNum": 0,
    "hideHardwareSpecs": false,
    "memoryGiB": 128,
    "name": "ml.m5d.8xlarge",
    "vcpuNum": 32
   },
   {
    "_defaultOrder": 17,
    "_isFastLaunch": false,
    "category": "General purpose",
    "gpuNum": 0,
    "hideHardwareSpecs": false,
    "memoryGiB": 192,
    "name": "ml.m5d.12xlarge",
    "vcpuNum": 48
   },
   {
    "_defaultOrder": 18,
    "_isFastLaunch": false,
    "category": "General purpose",
    "gpuNum": 0,
    "hideHardwareSpecs": false,
    "memoryGiB": 256,
    "name": "ml.m5d.16xlarge",
    "vcpuNum": 64
   },
   {
    "_defaultOrder": 19,
    "_isFastLaunch": false,
    "category": "General purpose",
    "gpuNum": 0,
    "hideHardwareSpecs": false,
    "memoryGiB": 384,
    "name": "ml.m5d.24xlarge",
    "vcpuNum": 96
   },
   {
    "_defaultOrder": 20,
    "_isFastLaunch": false,
    "category": "General purpose",
    "gpuNum": 0,
    "hideHardwareSpecs": true,
    "memoryGiB": 0,
    "name": "ml.geospatial.interactive",
    "supportedImageNames": [
     "sagemaker-geospatial-v1-0"
    ],
    "vcpuNum": 0
   },
   {
    "_defaultOrder": 21,
    "_isFastLaunch": true,
    "category": "Compute optimized",
    "gpuNum": 0,
    "hideHardwareSpecs": false,
    "memoryGiB": 4,
    "name": "ml.c5.large",
    "vcpuNum": 2
   },
   {
    "_defaultOrder": 22,
    "_isFastLaunch": false,
    "category": "Compute optimized",
    "gpuNum": 0,
    "hideHardwareSpecs": false,
    "memoryGiB": 8,
    "name": "ml.c5.xlarge",
    "vcpuNum": 4
   },
   {
    "_defaultOrder": 23,
    "_isFastLaunch": false,
    "category": "Compute optimized",
    "gpuNum": 0,
    "hideHardwareSpecs": false,
    "memoryGiB": 16,
    "name": "ml.c5.2xlarge",
    "vcpuNum": 8
   },
   {
    "_defaultOrder": 24,
    "_isFastLaunch": false,
    "category": "Compute optimized",
    "gpuNum": 0,
    "hideHardwareSpecs": false,
    "memoryGiB": 32,
    "name": "ml.c5.4xlarge",
    "vcpuNum": 16
   },
   {
    "_defaultOrder": 25,
    "_isFastLaunch": false,
    "category": "Compute optimized",
    "gpuNum": 0,
    "hideHardwareSpecs": false,
    "memoryGiB": 72,
    "name": "ml.c5.9xlarge",
    "vcpuNum": 36
   },
   {
    "_defaultOrder": 26,
    "_isFastLaunch": false,
    "category": "Compute optimized",
    "gpuNum": 0,
    "hideHardwareSpecs": false,
    "memoryGiB": 96,
    "name": "ml.c5.12xlarge",
    "vcpuNum": 48
   },
   {
    "_defaultOrder": 27,
    "_isFastLaunch": false,
    "category": "Compute optimized",
    "gpuNum": 0,
    "hideHardwareSpecs": false,
    "memoryGiB": 144,
    "name": "ml.c5.18xlarge",
    "vcpuNum": 72
   },
   {
    "_defaultOrder": 28,
    "_isFastLaunch": false,
    "category": "Compute optimized",
    "gpuNum": 0,
    "hideHardwareSpecs": false,
    "memoryGiB": 192,
    "name": "ml.c5.24xlarge",
    "vcpuNum": 96
   },
   {
    "_defaultOrder": 29,
    "_isFastLaunch": true,
    "category": "Accelerated computing",
    "gpuNum": 1,
    "hideHardwareSpecs": false,
    "memoryGiB": 16,
    "name": "ml.g4dn.xlarge",
    "vcpuNum": 4
   },
   {
    "_defaultOrder": 30,
    "_isFastLaunch": false,
    "category": "Accelerated computing",
    "gpuNum": 1,
    "hideHardwareSpecs": false,
    "memoryGiB": 32,
    "name": "ml.g4dn.2xlarge",
    "vcpuNum": 8
   },
   {
    "_defaultOrder": 31,
    "_isFastLaunch": false,
    "category": "Accelerated computing",
    "gpuNum": 1,
    "hideHardwareSpecs": false,
    "memoryGiB": 64,
    "name": "ml.g4dn.4xlarge",
    "vcpuNum": 16
   },
   {
    "_defaultOrder": 32,
    "_isFastLaunch": false,
    "category": "Accelerated computing",
    "gpuNum": 1,
    "hideHardwareSpecs": false,
    "memoryGiB": 128,
    "name": "ml.g4dn.8xlarge",
    "vcpuNum": 32
   },
   {
    "_defaultOrder": 33,
    "_isFastLaunch": false,
    "category": "Accelerated computing",
    "gpuNum": 4,
    "hideHardwareSpecs": false,
    "memoryGiB": 192,
    "name": "ml.g4dn.12xlarge",
    "vcpuNum": 48
   },
   {
    "_defaultOrder": 34,
    "_isFastLaunch": false,
    "category": "Accelerated computing",
    "gpuNum": 1,
    "hideHardwareSpecs": false,
    "memoryGiB": 256,
    "name": "ml.g4dn.16xlarge",
    "vcpuNum": 64
   },
   {
    "_defaultOrder": 35,
    "_isFastLaunch": false,
    "category": "Accelerated computing",
    "gpuNum": 1,
    "hideHardwareSpecs": false,
    "memoryGiB": 61,
    "name": "ml.p3.2xlarge",
    "vcpuNum": 8
   },
   {
    "_defaultOrder": 36,
    "_isFastLaunch": false,
    "category": "Accelerated computing",
    "gpuNum": 4,
    "hideHardwareSpecs": false,
    "memoryGiB": 244,
    "name": "ml.p3.8xlarge",
    "vcpuNum": 32
   },
   {
    "_defaultOrder": 37,
    "_isFastLaunch": false,
    "category": "Accelerated computing",
    "gpuNum": 8,
    "hideHardwareSpecs": false,
    "memoryGiB": 488,
    "name": "ml.p3.16xlarge",
    "vcpuNum": 64
   },
   {
    "_defaultOrder": 38,
    "_isFastLaunch": false,
    "category": "Accelerated computing",
    "gpuNum": 8,
    "hideHardwareSpecs": false,
    "memoryGiB": 768,
    "name": "ml.p3dn.24xlarge",
    "vcpuNum": 96
   },
   {
    "_defaultOrder": 39,
    "_isFastLaunch": false,
    "category": "Memory Optimized",
    "gpuNum": 0,
    "hideHardwareSpecs": false,
    "memoryGiB": 16,
    "name": "ml.r5.large",
    "vcpuNum": 2
   },
   {
    "_defaultOrder": 40,
    "_isFastLaunch": false,
    "category": "Memory Optimized",
    "gpuNum": 0,
    "hideHardwareSpecs": false,
    "memoryGiB": 32,
    "name": "ml.r5.xlarge",
    "vcpuNum": 4
   },
   {
    "_defaultOrder": 41,
    "_isFastLaunch": false,
    "category": "Memory Optimized",
    "gpuNum": 0,
    "hideHardwareSpecs": false,
    "memoryGiB": 64,
    "name": "ml.r5.2xlarge",
    "vcpuNum": 8
   },
   {
    "_defaultOrder": 42,
    "_isFastLaunch": false,
    "category": "Memory Optimized",
    "gpuNum": 0,
    "hideHardwareSpecs": false,
    "memoryGiB": 128,
    "name": "ml.r5.4xlarge",
    "vcpuNum": 16
   },
   {
    "_defaultOrder": 43,
    "_isFastLaunch": false,
    "category": "Memory Optimized",
    "gpuNum": 0,
    "hideHardwareSpecs": false,
    "memoryGiB": 256,
    "name": "ml.r5.8xlarge",
    "vcpuNum": 32
   },
   {
    "_defaultOrder": 44,
    "_isFastLaunch": false,
    "category": "Memory Optimized",
    "gpuNum": 0,
    "hideHardwareSpecs": false,
    "memoryGiB": 384,
    "name": "ml.r5.12xlarge",
    "vcpuNum": 48
   },
   {
    "_defaultOrder": 45,
    "_isFastLaunch": false,
    "category": "Memory Optimized",
    "gpuNum": 0,
    "hideHardwareSpecs": false,
    "memoryGiB": 512,
    "name": "ml.r5.16xlarge",
    "vcpuNum": 64
   },
   {
    "_defaultOrder": 46,
    "_isFastLaunch": false,
    "category": "Memory Optimized",
    "gpuNum": 0,
    "hideHardwareSpecs": false,
    "memoryGiB": 768,
    "name": "ml.r5.24xlarge",
    "vcpuNum": 96
   },
   {
    "_defaultOrder": 47,
    "_isFastLaunch": false,
    "category": "Accelerated computing",
    "gpuNum": 1,
    "hideHardwareSpecs": false,
    "memoryGiB": 16,
    "name": "ml.g5.xlarge",
    "vcpuNum": 4
   },
   {
    "_defaultOrder": 48,
    "_isFastLaunch": false,
    "category": "Accelerated computing",
    "gpuNum": 1,
    "hideHardwareSpecs": false,
    "memoryGiB": 32,
    "name": "ml.g5.2xlarge",
    "vcpuNum": 8
   },
   {
    "_defaultOrder": 49,
    "_isFastLaunch": false,
    "category": "Accelerated computing",
    "gpuNum": 1,
    "hideHardwareSpecs": false,
    "memoryGiB": 64,
    "name": "ml.g5.4xlarge",
    "vcpuNum": 16
   },
   {
    "_defaultOrder": 50,
    "_isFastLaunch": false,
    "category": "Accelerated computing",
    "gpuNum": 1,
    "hideHardwareSpecs": false,
    "memoryGiB": 128,
    "name": "ml.g5.8xlarge",
    "vcpuNum": 32
   },
   {
    "_defaultOrder": 51,
    "_isFastLaunch": false,
    "category": "Accelerated computing",
    "gpuNum": 1,
    "hideHardwareSpecs": false,
    "memoryGiB": 256,
    "name": "ml.g5.16xlarge",
    "vcpuNum": 64
   },
   {
    "_defaultOrder": 52,
    "_isFastLaunch": false,
    "category": "Accelerated computing",
    "gpuNum": 4,
    "hideHardwareSpecs": false,
    "memoryGiB": 192,
    "name": "ml.g5.12xlarge",
    "vcpuNum": 48
   },
   {
    "_defaultOrder": 53,
    "_isFastLaunch": false,
    "category": "Accelerated computing",
    "gpuNum": 4,
    "hideHardwareSpecs": false,
    "memoryGiB": 384,
    "name": "ml.g5.24xlarge",
    "vcpuNum": 96
   },
   {
    "_defaultOrder": 54,
    "_isFastLaunch": false,
    "category": "Accelerated computing",
    "gpuNum": 8,
    "hideHardwareSpecs": false,
    "memoryGiB": 768,
    "name": "ml.g5.48xlarge",
    "vcpuNum": 192
   },
   {
    "_defaultOrder": 55,
    "_isFastLaunch": false,
    "category": "Accelerated computing",
    "gpuNum": 8,
    "hideHardwareSpecs": false,
    "memoryGiB": 1152,
    "name": "ml.p4d.24xlarge",
    "vcpuNum": 96
   },
   {
    "_defaultOrder": 56,
    "_isFastLaunch": false,
    "category": "Accelerated computing",
    "gpuNum": 8,
    "hideHardwareSpecs": false,
    "memoryGiB": 1152,
    "name": "ml.p4de.24xlarge",
    "vcpuNum": 96
   },
   {
    "_defaultOrder": 57,
    "_isFastLaunch": false,
    "category": "Accelerated computing",
    "gpuNum": 0,
    "hideHardwareSpecs": false,
    "memoryGiB": 32,
    "name": "ml.trn1.2xlarge",
    "vcpuNum": 8
   },
   {
    "_defaultOrder": 58,
    "_isFastLaunch": false,
    "category": "Accelerated computing",
    "gpuNum": 0,
    "hideHardwareSpecs": false,
    "memoryGiB": 512,
    "name": "ml.trn1.32xlarge",
    "vcpuNum": 128
   },
   {
    "_defaultOrder": 59,
    "_isFastLaunch": false,
    "category": "Accelerated computing",
    "gpuNum": 0,
    "hideHardwareSpecs": false,
    "memoryGiB": 512,
    "name": "ml.trn1n.32xlarge",
    "vcpuNum": 128
   }
  ],
  "instance_type": "ml.t3.medium",
  "kernelspec": {
   "display_name": "Python 3 (ipykernel)",
   "language": "python",
   "name": "python3"
  },
  "language_info": {
   "codemirror_mode": {
    "name": "ipython",
    "version": 3
   },
   "file_extension": ".py",
   "mimetype": "text/x-python",
   "name": "python",
   "nbconvert_exporter": "python",
   "pygments_lexer": "ipython3",
   "version": "3.10.13"
  }
 },
 "nbformat": 4,
 "nbformat_minor": 5
}
