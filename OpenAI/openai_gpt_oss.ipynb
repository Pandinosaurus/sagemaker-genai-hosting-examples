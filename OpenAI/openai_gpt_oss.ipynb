{
 "cells": [
  {
   "cell_type": "markdown",
   "id": "993dcf59-dd85-4a31-a8cc-02c5d4be5dfe",
   "metadata": {},
   "source": [
    "# Deploy OpenAI gpt-oss model on SageMaker AI"
   ]
  },
  {
   "cell_type": "markdown",
   "id": "86ef819c-5aff-4e14-a07d-27c227204560",
   "metadata": {},
   "source": [
    "In this notebook we deploy OpenAI gpt-oss model on SageMaker AI using several options.\n",
    "\n",
    "Please see the OpenAI introduction [blog](https://simonwillison.net/2025/Aug/5/gpt-oss/) for more details"
   ]
  },
  {
   "cell_type": "markdown",
   "id": "b23a1755-ddcb-416c-aa74-33920280fed2",
   "metadata": {},
   "source": [
    "## Step 1: Setup\n",
    "\n",
    "Fetch and import dependencies"
   ]
  },
  {
   "cell_type": "code",
   "execution_count": null,
   "id": "2c01a4b2-b0d3-420c-8335-4efd984bb5dc",
   "metadata": {},
   "outputs": [],
   "source": [
    "%pip install sagemaker --upgrade --quiet --no-warn-conflicts"
   ]
  },
  {
   "cell_type": "code",
   "execution_count": null,
   "id": "9183bf15-3f3f-4d70-91da-fe269ff421b2",
   "metadata": {},
   "outputs": [],
   "source": [
    "import json\n",
    "import sagemaker\n",
    "import boto3\n",
    "\n",
    "role = sagemaker.get_execution_role()  # execution role for the endpoint\n",
    "sess = sagemaker.session.Session()  # sagemaker session for interacting with different AWS APIs\n",
    "bucket = sess.default_bucket()  # bucket to house artifacts\n",
    "region = sess._region_name  # region name of the current SageMaker Studio environment\n",
    "\n",
    "sm_client = boto3.client(\"sagemaker\")  # client to intreract with SageMaker\n",
    "smr_client = boto3.client(\"sagemaker-runtime\")  # client to intreract with SageMaker Endpoints\n",
    "\n",
    "print(f\"sagemaker role arn: {role}\")\n",
    "print(f\"sagemaker bucket: {sess.default_bucket()}\")\n",
    "print(f\"sagemaker session region: {sess.boto_region_name}\")\n",
    "print(f\"sagemaker version: {sagemaker.__version__}\")"
   ]
  },
  {
   "cell_type": "markdown",
   "id": "c7c44ad6-de5f-42c9-acef-67d525741307",
   "metadata": {},
   "source": [
    "## Option 1. Deploy gpt-oss-120b from JumpStart \n",
    "\n",
    "We will use Inference Component enabled endpoint"
   ]
  },
  {
   "cell_type": "code",
   "execution_count": null,
   "id": "f7246627-0df7-4326-91ce-4a9db828a8cb",
   "metadata": {},
   "outputs": [],
   "source": [
    "from sagemaker.jumpstart.model import JumpStartModel\n",
    "from sagemaker.compute_resource_requirements.resource_requirements import ResourceRequirements\n",
    "\n",
    "accept_eula = False  # Change to True to agree to term and conditions and accept EULA\n",
    "model_id, model_version = \"openai-reasoning-gpt-oss-120b\", \"1.0.0\"\n",
    "\n",
    "model_name = endpoint_name = sagemaker.utils.name_from_base(\"gpt-oss-120b\")\n",
    "inference_component_name = f\"ic-{model_name}\"\n",
    "\n",
    "jumpstart_model = JumpStartModel(\n",
    "    model_id=model_id,\n",
    "    model_version=model_version,\n",
    "    name=model_name\n",
    ")\n",
    "\n",
    "jumpstart_model.deploy(\n",
    "    accept_eula=accept_eula,\n",
    "    instance_type=\"ml.p5en.48xlarge\",\n",
    "    initial_instance_count=1,\n",
    "    container_startup_health_check_timeout=900,\n",
    "    endpoint_name=endpoint_name,\n",
    "    endpoint_type=sagemaker.enums.EndpointType.INFERENCE_COMPONENT_BASED,\n",
    "    inference_component_name=inference_component_name,\n",
    "    resources=ResourceRequirements(requests={\"num_accelerators\": 8, \"memory\": 1024*10, \"copies\": 1,}),\n",
    ")\n",
    "llm = sagemaker.Predictor(\n",
    "    endpoint_name=endpoint_name,\n",
    "    sagemaker_session=sess,\n",
    "    serializer=sagemaker.serializers.JSONSerializer(),\n",
    "    deserializer=sagemaker.deserializers.JSONDeserializer(),\n",
    "    component_name=inference_component_name\n",
    ")"
   ]
  },
  {
   "cell_type": "markdown",
   "id": "212fde0a-1a56-4f2b-95b8-bc98d7854d5c",
   "metadata": {},
   "source": [
    "## Inference Examples"
   ]
  },
  {
   "cell_type": "code",
   "execution_count": 7,
   "id": "533da82f-f84b-4d2a-8a23-ecc344929f9b",
   "metadata": {
    "execution": {
     "iopub.execute_input": "2025-08-05T23:51:00.937326Z",
     "iopub.status.busy": "2025-08-05T23:51:00.937006Z",
     "iopub.status.idle": "2025-08-05T23:51:04.235880Z",
     "shell.execute_reply": "2025-08-05T23:51:04.235372Z",
     "shell.execute_reply.started": "2025-08-05T23:51:00.937302Z"
    }
   },
   "outputs": [
    {
     "name": "stdout",
     "output_type": "stream",
     "text": [
      "-----\n",
      "analysisThe user asks: \"Name popular places to visit in London?\" Simple answer. Provide list. Possibly brief description. Should be concise.assistantfinalHere are some of the most popular attractions and neighborhoods that visitors love to explore in London:\n",
      "\n",
      "| Attraction / Area | What to See / Do | Why It’s Popular |\n",
      "|-------------------|------------------|------------------|\n",
      "| **The British Museum** | World‑class art and antiquities (Rosetta Stone, Egyptian mummies) | Free entry and a treasure‑trove of global history |\n",
      "| **The Tower of London** | Crown Jewels, historic royal palace, Yeoman Warders | Dark, dramatic history + iconic medieval walls |\n",
      "| **Buckingham Palace** | Changing of the Guard, State Rooms (summer) | Symbol of the British monarchy |\n",
      "| **Westminster Abbey & Houses of Parliament** | Gothic architecture, Big Ben, Westminster Hall | Political and religious heart of the nation |\n",
      "| **The London Eye** | 30‑minute rotation with panoramic city views | Modern skyline experience on the South Bank |\n",
      "| **Tate Modern** | Contemporary art housed in a former power station | Free galleries, striking installations |\n",
      "| **National Gallery (Trafalgar Square)** | Masterpieces by Van Gogh, Da Vinci, Turner | Free, central location with a classic art collection |\n",
      "| **Covent Garden** | Market stalls, street performers, boutique shops, restaurants | Vibrant pedestrian hub with historic market arches |\n",
      "| **Camden Market** | Eclectic stalls, food from around the world, live music | Alternative vibe and great for unique souvenirs |\n",
      "| **Southbank Centre & Shakespeare’s Globe** | Theatre, concerts, riverside walks | Cultural hotspot with a reconstructed Elizabethan playhouse |\n",
      "| **Hyde Park & Kensington Gardens** | Serpentine Lake, Speaker’s Corner, Diana Memorial Fountain | One of the world’s largest Royal Parks—great for picnics and exercise |\n",
      "| **St Paul’s Cathedral** | Whispering Gallery, dome climb, beautiful mosaics | Architectural masterpiece with stunning city views |\n",
      "| **The Shard** | Observation deck (The View from The Shard) | Tallest building in the UK, offering unrivaled vistas |\n",
      "| **West End Theatre District** | Musicals, plays, comedy shows | World‑renowned productions (e.g., *The Lion King*, *Hamilton*) |\n",
      "| **Notting Hill & Portobello Road Market** | Vintage clothing, antique stalls, pastel houses | Famous film location and bustling Saturday market |\n",
      "| **The Victoria & Albert Museum** | Decorative arts, fashion, design exhibitions | Free, eclectic collections from around the globe |\n",
      "| **Greenwich** | Royal Observatory, Cutty Sark, Greenwich Park, market | Maritime history and the Prime Meridian line |\n",
      "| **Borough Market** | Gourmet food stalls, fresh produce, artisanal treats | One of London’s oldest and most beloved food markets |\n",
      "| **Science Museum** | Interactive exhibits, Space Hall, IMAX cinema | Family‑friendly learning with free entry to main galleries |\n",
      "| **The Natural History Museum** | Dinosaur skeletons, Earth Hall, earthquake simulator | Iconic architecture and spectacular natural‑history displays |\n",
      "\n",
      "**Tips for Visiting**\n",
      "\n",
      "1. **Plan ahead** – Some sites (e.g., the Crown Jewels, West End shows) require tickets in advance.  \n",
      "2. **Use an Oyster card or contactless payment** for easy travel on the Tube, buses, and trains.  \n",
      "3. **Combine nearby attractions** – many are within walking distance (e.g., the River Thames walk links the London Eye, Southbank Centre, and Tate Modern).  \n",
      "4. **Check free‑entry days** – museums like the V&A and Natural History Museum are always free, but special exhibitions may have a charge.  \n",
      "\n",
      "Enjoy exploring London’s mix of history, culture, and modern excitement!\n",
      "-----\n",
      "\n",
      "{'prompt_tokens': 89, 'total_tokens': 889, 'completion_tokens': 800, 'prompt_tokens_details': None}\n"
     ]
    }
   ],
   "source": [
    "payload={\n",
    "    \"messages\": [\n",
    "        {\"role\": \"user\", \"content\": \"Name popular places to visit in London?\"}\n",
    "    ],\n",
    "}\n",
    "res = llm.predict(payload)\n",
    "print(\"-----\\n\" + res[\"choices\"][0][\"message\"][\"content\"] + \"\\n-----\\n\")\n",
    "print(res[\"usage\"])"
   ]
  },
  {
   "cell_type": "code",
   "execution_count": 8,
   "id": "7830157c-db47-468b-b6e7-510546aaf703",
   "metadata": {
    "execution": {
     "iopub.execute_input": "2025-08-05T23:51:10.127034Z",
     "iopub.status.busy": "2025-08-05T23:51:10.126704Z",
     "iopub.status.idle": "2025-08-05T23:51:10.427407Z",
     "shell.execute_reply": "2025-08-05T23:51:10.426896Z",
     "shell.execute_reply.started": "2025-08-05T23:51:10.127012Z"
    }
   },
   "outputs": [
    {
     "name": "stdout",
     "output_type": "stream",
     "text": [
      "-----\n",
      "analysisThe user asks: \"What is bigger 9.11 or 9.8?\" Basically asking which number is larger. 9.8 is larger than 9.11. Provide answer. Possibly explain.assistantfinal9.8 is the larger number. It’s greater than 9.11.\n",
      "-----\n",
      "\n",
      "{'prompt_tokens': 94, 'total_tokens': 164, 'completion_tokens': 70, 'prompt_tokens_details': None}\n"
     ]
    }
   ],
   "source": [
    "payload={\n",
    "    \"messages\": [\n",
    "        {\"role\": \"user\", \"content\": \"What is bigger 9.11 or 9.8?\"}\n",
    "    ],\n",
    "}\n",
    "res = llm.predict(payload)\n",
    "print(\"-----\\n\" + res[\"choices\"][0][\"message\"][\"content\"] + \"\\n-----\\n\")\n",
    "print(res[\"usage\"])"
   ]
  },
  {
   "cell_type": "markdown",
   "id": "f97335e2-65eb-4571-83dd-1cb7fae9bf9a",
   "metadata": {},
   "source": [
    "## Cleanup"
   ]
  },
  {
   "cell_type": "code",
   "execution_count": 9,
   "id": "90af74a3-54f2-4576-8fac-9095ebb086cd",
   "metadata": {
    "execution": {
     "iopub.execute_input": "2025-08-05T23:52:43.190801Z",
     "iopub.status.busy": "2025-08-05T23:52:43.190475Z",
     "iopub.status.idle": "2025-08-05T23:52:43.853362Z",
     "shell.execute_reply": "2025-08-05T23:52:43.852842Z",
     "shell.execute_reply.started": "2025-08-05T23:52:43.190780Z"
    }
   },
   "outputs": [],
   "source": [
    "sess.delete_inference_component(inference_component_name)\n",
    "sess.delete_endpoint(endpoint_name)\n",
    "sess.delete_endpoint_config(endpoint_name)\n",
    "sess.delete_model(model_name)"
   ]
  },
  {
   "cell_type": "code",
   "execution_count": null,
   "id": "1675d61f-160e-490f-b59c-c77677786e04",
   "metadata": {},
   "outputs": [],
   "source": []
  },
  {
   "cell_type": "code",
   "execution_count": null,
   "id": "7e9127a5-b04d-4d72-bcdb-8c03bc66d6f5",
   "metadata": {},
   "outputs": [],
   "source": []
  }
 ],
 "metadata": {
  "kernelspec": {
   "display_name": "Python 3 (ipykernel)",
   "language": "python",
   "name": "python3"
  },
  "language_info": {
   "codemirror_mode": {
    "name": "ipython",
    "version": 3
   },
   "file_extension": ".py",
   "mimetype": "text/x-python",
   "name": "python",
   "nbconvert_exporter": "python",
   "pygments_lexer": "ipython3",
   "version": "3.12.9"
  }
 },
 "nbformat": 4,
 "nbformat_minor": 5
}
