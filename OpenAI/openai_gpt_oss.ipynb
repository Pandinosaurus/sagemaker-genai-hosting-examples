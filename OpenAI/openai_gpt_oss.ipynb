{
 "cells": [
  {
   "cell_type": "markdown",
   "id": "993dcf59-dd85-4a31-a8cc-02c5d4be5dfe",
   "metadata": {},
   "source": [
    "# Deploy OpenAI gpt-oss model on SageMaker AI"
   ]
  },
  {
   "cell_type": "markdown",
   "id": "86ef819c-5aff-4e14-a07d-27c227204560",
   "metadata": {},
   "source": [
    "In this notebook we deploy OpenAI gpt-oss model on SageMaker AI using several options.\n",
    "\n",
    "Please see the OpenAI introduction [blog](https://simonwillison.net/2025/Aug/5/gpt-oss/) for more details"
   ]
  },
  {
   "cell_type": "markdown",
   "id": "b23a1755-ddcb-416c-aa74-33920280fed2",
   "metadata": {},
   "source": [
    "## Step 1: Setup\n",
    "\n",
    "Fetch and import dependencies"
   ]
  },
  {
   "cell_type": "code",
   "execution_count": null,
   "id": "2c01a4b2-b0d3-420c-8335-4efd984bb5dc",
   "metadata": {},
   "outputs": [],
   "source": [
    "%pip install sagemaker --upgrade --quiet --no-warn-conflicts"
   ]
  },
  {
   "cell_type": "code",
   "execution_count": null,
   "id": "9183bf15-3f3f-4d70-91da-fe269ff421b2",
   "metadata": {},
   "outputs": [],
   "source": [
    "import json\n",
    "import sagemaker\n",
    "import boto3\n",
    "\n",
    "role = sagemaker.get_execution_role()  # execution role for the endpoint\n",
    "sess = sagemaker.session.Session()  # sagemaker session for interacting with different AWS APIs\n",
    "bucket = sess.default_bucket()  # bucket to house artifacts\n",
    "region = sess._region_name  # region name of the current SageMaker Studio environment\n",
    "\n",
    "sm_client = boto3.client(\"sagemaker\")  # client to intreract with SageMaker\n",
    "smr_client = boto3.client(\"sagemaker-runtime\")  # client to intreract with SageMaker Endpoints\n",
    "\n",
    "print(f\"sagemaker role arn: {role}\")\n",
    "print(f\"sagemaker bucket: {sess.default_bucket()}\")\n",
    "print(f\"sagemaker session region: {sess.boto_region_name}\")\n",
    "print(f\"sagemaker version: {sagemaker.__version__}\")"
   ]
  },
  {
   "cell_type": "markdown",
   "id": "c7c44ad6-de5f-42c9-acef-67d525741307",
   "metadata": {},
   "source": [
    "## Option 1. Deploy gpt-oss-120b from JumpStart \n",
    "\n",
    "We will use Inference Component enabled endpoint"
   ]
  },
  {
   "cell_type": "code",
   "execution_count": null,
   "id": "f7246627-0df7-4326-91ce-4a9db828a8cb",
   "metadata": {},
   "outputs": [],
   "source": [
    "from sagemaker.jumpstart.model import JumpStartModel\n",
    "from sagemaker.compute_resource_requirements.resource_requirements import ResourceRequirements\n",
    "\n",
    "accept_eula = False  # Change to True to agree to term and conditions and accept EULA\n",
    "model_id, model_version = \"openai-reasoning-gpt-oss-120b\", \"1.0.0\"\n",
    "\n",
    "model_name = endpoint_name = sagemaker.utils.name_from_base(\"gpt-oss-120b\")\n",
    "inference_component_name = f\"ic-{model_name}\"\n",
    "\n",
    "jumpstart_model = JumpStartModel(\n",
    "    model_id=model_id,\n",
    "    model_version=model_version,\n",
    "    name=model_name\n",
    ")\n",
    "\n",
    "jumpstart_model.deploy(\n",
    "    accept_eula=accept_eula,\n",
    "    instance_type=\"ml.p5en.48xlarge\",\n",
    "    initial_instance_count=1,\n",
    "    container_startup_health_check_timeout=900,\n",
    "    endpoint_name=endpoint_name,\n",
    "    endpoint_type=sagemaker.enums.EndpointType.INFERENCE_COMPONENT_BASED,\n",
    "    inference_component_name=inference_component_name,\n",
    "    resources=ResourceRequirements(requests={\"num_accelerators\": 8, \"memory\": 1024*10, \"copies\": 1,}),\n",
    ")\n",
    "llm = sagemaker.Predictor(\n",
    "    endpoint_name=endpoint_name,\n",
    "    sagemaker_session=sess,\n",
    "    serializer=sagemaker.serializers.JSONSerializer(),\n",
    "    deserializer=sagemaker.deserializers.JSONDeserializer(),\n",
    "    component_name=inference_component_name\n",
    ")"
   ]
  },
  {
   "cell_type": "markdown",
   "id": "30d14498-2e3c-455f-b291-e2b66be72f5c",
   "metadata": {},
   "source": [
    "## Option 2. Deploy gpt-oss model from S3\n",
    "\n",
    "If you need to deploy these models from S3 (for example, after fine-tuning) you can use the code below.\n",
    "\n",
    "Please change the `model_s3_path` to the S3 prefix with your model weights"
   ]
  },
  {
   "cell_type": "code",
   "execution_count": null,
   "id": "d4aa137e-dc85-4b4b-b457-47a06b219452",
   "metadata": {},
   "outputs": [],
   "source": [
    "inference_image = f\"763104351884.dkr.ecr.{region}.amazonaws.com/djl-inference:0.0.0.dev1-lmi0.0.0-cu128\"\n",
    "instance_type = \"ml.p5en.48xlarge\"\n",
    "\n",
    "model_s3_path = \"s3://<BUCKET>/<PREFIX>/\"\n",
    "\n",
    "lmi_env = {\n",
    "    \"OPTION_MODEL_ID\": \"/opt/ml/model\",\n",
    "    #\"TIKTOKEN_ENCODINGS_BASE\": \"/opt/ml/model\",\n",
    "    \"OPTION_TENSOR_PARALLEL_SIZE\": \"8\",\n",
    "}\n",
    "\n",
    "model_name = sagemaker.utils.name_from_base(\"model-lmi\")\n",
    "endpoint_name = model_name\n",
    "inference_component_name = f\"ic-{model_name}\""
   ]
  },
  {
   "cell_type": "code",
   "execution_count": null,
   "id": "97a7a8cf-ce28-46e1-a716-a0d30abff790",
   "metadata": {},
   "outputs": [],
   "source": [
    "from sagemaker.compute_resource_requirements.resource_requirements import ResourceRequirements\n",
    "\n",
    "lmi_model = sagemaker.Model(\n",
    "    image_uri=inference_image,\n",
    "    env=lmi_env,\n",
    "    role=role,\n",
    "    name=model_name,\n",
    "    model_data={\n",
    "        'S3DataSource': {\n",
    "            'S3Uri': model_s3_path,\n",
    "            'S3DataType': 'S3Prefix',\n",
    "            'CompressionType': 'None'\n",
    "        }\n",
    "    },\n",
    ")\n",
    "\n",
    "lmi_model.deploy(\n",
    "    initial_instance_count=1,\n",
    "    instance_type=instance_type,\n",
    "    container_startup_health_check_timeout=600,\n",
    "    endpoint_name=endpoint_name,\n",
    "    endpoint_type=sagemaker.enums.EndpointType.INFERENCE_COMPONENT_BASED,\n",
    "    inference_component_name=inference_component_name,\n",
    "    resources=ResourceRequirements(requests={\"num_accelerators\": 8, \"memory\": 1024*10, \"copies\": 1,}),\n",
    ")\n",
    "\n",
    "llm = sagemaker.Predictor(\n",
    "    endpoint_name=endpoint_name,\n",
    "    sagemaker_session=sess,\n",
    "    serializer=sagemaker.serializers.JSONSerializer(),\n",
    "    deserializer=sagemaker.deserializers.JSONDeserializer(),\n",
    "    component_name=inference_component_name\n",
    ")"
   ]
  },
  {
   "cell_type": "markdown",
   "id": "212fde0a-1a56-4f2b-95b8-bc98d7854d5c",
   "metadata": {},
   "source": [
    "## Inference Examples"
   ]
  },
  {
   "cell_type": "code",
   "execution_count": 36,
   "id": "533da82f-f84b-4d2a-8a23-ecc344929f9b",
   "metadata": {
    "execution": {
     "iopub.execute_input": "2025-08-07T00:36:36.129099Z",
     "iopub.status.busy": "2025-08-07T00:36:36.128781Z",
     "iopub.status.idle": "2025-08-07T00:36:40.216661Z",
     "shell.execute_reply": "2025-08-07T00:36:40.216169Z",
     "shell.execute_reply.started": "2025-08-07T00:36:36.129079Z"
    }
   },
   "outputs": [
    {
     "name": "stdout",
     "output_type": "stream",
     "text": [
      "-----\n",
      "analysisUser asks: \"Name popular places to visit in London?\" Likely expecting a list of popular tourist attractions. Provide many and brief notes. Could categorize: historical, iconic. Provide maybe 10-15. Provide short description. No need to be exhaustive. I'll output nicely formatted list.assistantfinalHere’s a quick “London Must‑Visit” list that covers the city’s most iconic sights, historic landmarks, cultural hubs, and hidden gems. Feel free to tweak the list based on your interests (history, art, shopping, nature, etc.)!\n",
      "\n",
      "| # | Attraction | Why It’s Popular | Quick Tip |\n",
      "|---|------------|------------------|-----------|\n",
      "| 1 | **The British Museum** | Houses the Rosetta Stone, Egyptian mummies, and a vast collection of world artefacts. | Free entry; early morning or mid‑week slots avoid crowds. |\n",
      "| 2 | **Buckingham Palace** & **Changing of the Guard** | The official residence of the monarch; the guard ceremony is a quintessential London spectacle. | Check the guard change schedule online; best viewed from Westminster Bridge. |\n",
      "| 3 | **The Tower of London** + **Tower Bridge** | A medieval fortress and the home of the Crown Jewels; Tower Bridge offers panoramic city views. | Book a timed ticket for the Crown Jewels; the park behind is great for photos. |\n",
      "| 4 | **Westminster Abbey** | A UNESCO World Heritage site, coronation church of the British monarchs. | Dress code applies; skip-line tickets available. |\n",
      "| 5 | **Sky Garden** | Elevated garden with 360° city views and free admission (book in advance). | Gorgeous at sunset—great for photos. |\n",
      "| 6 | **The Shard** | Western Europe’s tallest building; observation deck offers spectacular vistas. | Includes a glass floor experience in “Open 24.” |\n",
      "| 7 | **Camden Market & Camden Town** | Bohemian vibe: street food, vintage shops, and live music. | Open Saturdays and Sundays; be ready to wander! |\n",
      "| 8 | **Covent Garden** | Historic market, street performers, chic boutiques, and the Royal Opera House. | The Apple Market stalls are best in the mornings. |\n",
      "| 9 | **Hampstead Heath** | Extensive green space, Parliament Hill and a sweeping view of the city skyline. | Free entry; sunrise views over the Houses of Parliament are unbeatable. |\n",
      "| 10 | **Tate Modern & National Gallery** | World‑class modern and classic art housed in former power stations and historic palaces. | Tate Modern is free; free tickets to the National Gallery counter. |\n",
      "| 11 | **Hyde Park & Kensington Gardens** | Iconic parks that host music festivals, Speaker’s Corner, Kensington Palace. | Rent a pedal boat on the Serpentine or attend the Summer Commons concerts. |\n",
      "| 12 | **The Royal Observatory, Greenwich** | Stand on the Prime Meridian line; the National Maritime Museum is nearby. | Great for lovers of astronomy and history; free entry. |\n",
      "| 13 | **Notting Hill & Portobello Road Market** | Colourful houses, the Portobello antiques market, and Bollywood‑style cafés. | Ideal for a morning stroll—markets are busiest on Saturdays. |\n",
      "| 14 | **The Victoria and Albert Museum** | Specialises in decorative arts and design from across the globe. | Free entry; special exhibitions may charge. |\n",
      "| 15 | **The London Eye** | A giant Ferris wheel on the South Bank offering expansive river views. | Book online; try to catch the ride near sunset. |\n",
      "| 16 | **St. Paul’s Cathedral** | Domed masterpiece with Whispering Gallery and panoramic views from the dome. | Tickets include the Underground City tour. |\n",
      "| 17 | **The O2 Arena & Roof Gardens** | Indoor arena and outdoor space with plant & animal exhibits. | Great for a late‑night concert; rooftop garden is free on certain mornings. |\n",
      "| 18 | **Shakespeare’s Globe Theatre** | A faithful reconstruction of the original Globe; enjoy a play or tour the building. | Book tickets for a performance or take a backstage tour. |\n",
      "| 19 | **The Churchill War Rooms** | WWII secret underground bunker; interactive museum. | Free entry; dig deeper into Britain’s wartime strategies. |\n",
      "| 20 | **Holland Park & Kyoto Garden** | Japanese zen garden in a picturesque park, often overlooked by tourists. | Best in the early afternoon for quiet contemplation. |\n",
      "\n",
      "### Extra Tips\n",
      "\n",
      "- **Transport:** The Oyster card or contactless payment works on all Tube, Bus, Tube, DLR, and many river services.\n",
      "- **Timing:** Arrive early morning or late afternoon to dodge the biggest crowds, especially at the most famous sites.\n",
      "- **Bookings:** For popular attractions (e.g., Tower of London, The Shard, London Eye, Shakespeare’s Globe), pre‑book indicating your preferred time slot to save time.\n",
      "- **Food:** Each district has specialty food; sample fish & chips on the Thames, curry in Southall, or afternoon tea at a traditional hotel like The Ritz.\n",
      "\n",
      "Enjoy planning—and then enjoying—your London adventure!\n",
      "-----\n",
      "\n",
      "{'prompt_tokens': 75, 'total_tokens': 1163, 'completion_tokens': 1088, 'prompt_tokens_details': None}\n"
     ]
    }
   ],
   "source": [
    "payload={\n",
    "    \"messages\": [\n",
    "        {\"role\": \"user\", \"content\": \"Name popular places to visit in London?\"}\n",
    "    ],\n",
    "}\n",
    "res = llm.predict(payload)\n",
    "print(\"-----\\n\" + res[\"choices\"][0][\"message\"][\"content\"] + \"\\n-----\\n\")\n",
    "print(res[\"usage\"])"
   ]
  },
  {
   "cell_type": "code",
   "execution_count": 37,
   "id": "7830157c-db47-468b-b6e7-510546aaf703",
   "metadata": {
    "execution": {
     "iopub.execute_input": "2025-08-07T00:36:58.996305Z",
     "iopub.status.busy": "2025-08-07T00:36:58.995949Z",
     "iopub.status.idle": "2025-08-07T00:36:59.838347Z",
     "shell.execute_reply": "2025-08-07T00:36:59.837849Z",
     "shell.execute_reply.started": "2025-08-07T00:36:58.996283Z"
    }
   },
   "outputs": [
    {
     "name": "stdout",
     "output_type": "stream",
     "text": [
      "-----\n",
      "analysisThe user asks: \"What is bigger 9.11 or 9.8?\" They likely refer to numeric values. 9.8 > 9.11? Let's compare: 9.8 equals 9.80 as decimal. 9.11 is 9.11. 9.8 > 9.11 because 9.8 is 9.80 which is greater than 9.11. Indeed, 9.80 > 9.11. So answer: 9.8 is bigger. Provide explanation. Also maybe mention that 9.11 is 9.11. 9.8 > 9.11. Provide maybe some context if they refer to something else. Probably ask to pick bigger numeric value. Provide simple answer. Also can mention that 9.8 > 9.11. Show decimal places one by one. 9.8 = 9.80 > 9.11. So answer: 9.8.assistantfinal**9.8 is bigger.**\n",
      "\n",
      "- 9.8 is the same as 9.80.\n",
      "- 9.80 > 9.11 because 0.80 > 0.11.\n",
      "\n",
      "So among the two numbers, 9.8 is the larger value.\n",
      "-----\n",
      "\n",
      "{'prompt_tokens': 80, 'total_tokens': 354, 'completion_tokens': 274, 'prompt_tokens_details': None}\n"
     ]
    }
   ],
   "source": [
    "payload={\n",
    "    \"messages\": [\n",
    "        {\"role\": \"user\", \"content\": \"What is bigger 9.11 or 9.8?\"}\n",
    "    ],\n",
    "}\n",
    "res = llm.predict(payload)\n",
    "print(\"-----\\n\" + res[\"choices\"][0][\"message\"][\"content\"] + \"\\n-----\\n\")\n",
    "print(res[\"usage\"])"
   ]
  },
  {
   "cell_type": "markdown",
   "id": "f97335e2-65eb-4571-83dd-1cb7fae9bf9a",
   "metadata": {},
   "source": [
    "## Cleanup"
   ]
  },
  {
   "cell_type": "code",
   "execution_count": 38,
   "id": "90af74a3-54f2-4576-8fac-9095ebb086cd",
   "metadata": {
    "execution": {
     "iopub.execute_input": "2025-08-07T00:37:10.329021Z",
     "iopub.status.busy": "2025-08-07T00:37:10.328702Z",
     "iopub.status.idle": "2025-08-07T00:37:11.117188Z",
     "shell.execute_reply": "2025-08-07T00:37:11.116649Z",
     "shell.execute_reply.started": "2025-08-07T00:37:10.329000Z"
    }
   },
   "outputs": [],
   "source": [
    "sess.delete_inference_component(inference_component_name)\n",
    "sess.delete_endpoint(endpoint_name)\n",
    "sess.delete_endpoint_config(endpoint_name)\n",
    "sess.delete_model(model_name)"
   ]
  },
  {
   "cell_type": "code",
   "execution_count": null,
   "id": "1675d61f-160e-490f-b59c-c77677786e04",
   "metadata": {},
   "outputs": [],
   "source": []
  },
  {
   "cell_type": "code",
   "execution_count": null,
   "id": "7e9127a5-b04d-4d72-bcdb-8c03bc66d6f5",
   "metadata": {},
   "outputs": [],
   "source": []
  }
 ],
 "metadata": {
  "kernelspec": {
   "display_name": "Python 3 (ipykernel)",
   "language": "python",
   "name": "python3"
  },
  "language_info": {
   "codemirror_mode": {
    "name": "ipython",
    "version": 3
   },
   "file_extension": ".py",
   "mimetype": "text/x-python",
   "name": "python",
   "nbconvert_exporter": "python",
   "pygments_lexer": "ipython3",
   "version": "3.12.9"
  }
 },
 "nbformat": 4,
 "nbformat_minor": 5
}
