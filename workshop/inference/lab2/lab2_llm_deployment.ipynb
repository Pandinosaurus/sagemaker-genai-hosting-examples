{
 "cells": [
  {
   "cell_type": "markdown",
   "id": "993dcf59-dd85-4a31-a8cc-02c5d4be5dfe",
   "metadata": {},
   "source": [
    "# Deploy modern Foundation Models on SageMaker AI"
   ]
  },
  {
   "cell_type": "markdown",
   "id": "86ef819c-5aff-4e14-a07d-27c227204560",
   "metadata": {},
   "source": [
    "In this notebook we show how to deploy modern Foundation Models on SageMaker AI endpoints.\n",
    "\n",
    "We will start with simple use-cases (deploying JumpStart Model) and then move to more advanced use-cases - deploying model from S3, using Inference Component enabled endpoints and custom containers."
   ]
  },
  {
   "cell_type": "markdown",
   "id": "b23a1755-ddcb-416c-aa74-33920280fed2",
   "metadata": {},
   "source": [
    "## Setup\n",
    "\n",
    "- Fetch and import dependencies\n",
    "- Initialize SageMaker environment and required clients to access AWS services"
   ]
  },
  {
   "cell_type": "code",
   "execution_count": null,
   "id": "2c01a4b2-b0d3-420c-8335-4efd984bb5dc",
   "metadata": {},
   "outputs": [],
   "source": [
    "%pip install sagemaker --upgrade --quiet --no-warn-conflicts"
   ]
  },
  {
   "cell_type": "code",
   "execution_count": null,
   "id": "9183bf15-3f3f-4d70-91da-fe269ff421b2",
   "metadata": {},
   "outputs": [],
   "source": [
    "import json\n",
    "import sagemaker\n",
    "import boto3\n",
    "\n",
    "role = sagemaker.get_execution_role()  # execution role for the endpoint\n",
    "sess = sagemaker.session.Session()  # sagemaker session for interacting with different AWS APIs\n",
    "bucket = sess.default_bucket()  # bucket to house artifacts\n",
    "region = sess._region_name  # region name of the current SageMaker Studio environment\n",
    "account_id = sess.account_id()\n",
    "\n",
    "sm_client = boto3.client(\"sagemaker\")  # client to intreract with SageMaker\n",
    "smr_client = boto3.client(\"sagemaker-runtime\")  # client to intreract with SageMaker Endpoints\n",
    "\n",
    "print(f\"sagemaker role arn: {role}\")\n",
    "print(f\"sagemaker bucket: {sess.default_bucket()}\")\n",
    "print(f\"sagemaker session region: {sess.boto_region_name}\")\n",
    "print(f\"sagemaker version: {sagemaker.__version__}\")"
   ]
  },
  {
   "cell_type": "markdown",
   "id": "a06b0739-c4ca-4b43-b809-0624950cd743",
   "metadata": {},
   "source": [
    "### Helper functions"
   ]
  },
  {
   "cell_type": "code",
   "execution_count": null,
   "id": "44ee3d22-7cb8-47d7-87cb-ce9393fe8dd0",
   "metadata": {},
   "outputs": [],
   "source": [
    "import io\n",
    "import json\n",
    "import time\n",
    "import boto3\n",
    "from IPython.display import clear_output\n",
    "\n",
    "class LineIterator:\n",
    "    def __init__(self, stream):\n",
    "        self.byte_iterator = iter(stream)\n",
    "        self.buffer = io.BytesIO()\n",
    "        self.read_pos = 0\n",
    "\n",
    "    def __iter__(self):\n",
    "        return self\n",
    "\n",
    "    def __next__(self):\n",
    "        while True:\n",
    "            self.buffer.seek(self.read_pos)\n",
    "            line = self.buffer.readline()\n",
    "            if line and line[-1] == ord(\"\\n\"):\n",
    "                self.read_pos += len(line)\n",
    "                return line[:-1]\n",
    "            try:\n",
    "                chunk = next(self.byte_iterator)\n",
    "            except StopIteration:\n",
    "                if self.read_pos < self.buffer.getbuffer().nbytes:\n",
    "                    continue\n",
    "                raise\n",
    "            if \"PayloadPart\" not in chunk:\n",
    "                print(\"Unknown event type:\" + chunk)\n",
    "                continue\n",
    "            self.buffer.seek(0, io.SEEK_END)\n",
    "            self.buffer.write(chunk[\"PayloadPart\"][\"Bytes\"])\n",
    "\n",
    "def stream_response(endpoint_name, inputs, max_tokens=8189, temperature=0.7, top_p=0.9):\n",
    "    body = {\n",
    "      \"messages\": [\n",
    "        {\"role\": \"user\", \"content\": [{\"type\": \"text\", \"text\": inputs}]}\n",
    "        ],\n",
    "        \"max_tokens\": max_tokens,\n",
    "        \"temperature\": temperature,\n",
    "        \"top_p\": top_p,\n",
    "        \"stream\": True,\n",
    "    }\n",
    "\n",
    "    resp = smr_client.invoke_endpoint_with_response_stream(\n",
    "        EndpointName=endpoint_name,\n",
    "        Body=json.dumps(body),\n",
    "        ContentType=\"application/json\",\n",
    "    )\n",
    "\n",
    "    event_stream = resp[\"Body\"]\n",
    "    start_json = b\"{\"\n",
    "    full_response = \"\"\n",
    "    start_time = time.time()\n",
    "    token_count = 0\n",
    "\n",
    "    for line in LineIterator(event_stream):\n",
    "        if line != b\"\" and start_json in line:\n",
    "            data = json.loads(line[line.find(start_json):].decode(\"utf-8\"))\n",
    "            token_text = data['choices'][0]['delta'].get('content', '')\n",
    "            full_response += token_text\n",
    "            token_count += 1\n",
    "\n",
    "            # Calculate tokens per second\n",
    "            elapsed_time = time.time() - start_time\n",
    "            tps = token_count / elapsed_time if elapsed_time > 0 else 0\n",
    "\n",
    "            # Clear the output and reprint everything\n",
    "            clear_output(wait=True)\n",
    "            print(full_response)\n",
    "            print(f\"\\nTokens per Second: {tps:.2f}\", end=\"\")\n",
    "\n",
    "    print(\"\\n\") # Add a newline after response is complete\n",
    "\n",
    "    return full_response"
   ]
  },
  {
   "cell_type": "markdown",
   "id": "e4039c65-7c85-496b-9f4e-9b7d29bacdb5",
   "metadata": {},
   "source": [
    "## 1. Deployment (simple)\n",
    "\n",
    "In this section, we will:\n",
    "- Deploy a `Llama-3.2-3B-Instruct` from SageMaker JumpStart using SageMaker Python SDK\n",
    "- Deploy a `Qwen3-4B-Thinking-2507` model from HuggingFace hub using managed LMI container"
   ]
  },
  {
   "cell_type": "markdown",
   "id": "c7c44ad6-de5f-42c9-acef-67d525741307",
   "metadata": {},
   "source": [
    "### Option 1.1. Deploy `Meta-Llama-3.2-3B-Instruct` from JumpStart \n",
    "\n",
    "This is easiest way to deploy a model on SageMaker AI. All models hosted on JumpStart contains metadata that define model weights location, serving container and all serving environment variables."
   ]
  },
  {
   "cell_type": "code",
   "execution_count": null,
   "id": "f7246627-0df7-4326-91ce-4a9db828a8cb",
   "metadata": {},
   "outputs": [],
   "source": [
    "from sagemaker.jumpstart.model import JumpStartModel\n",
    "\n",
    "accept_eula = False  # Change to True to agree to term and conditions and accept EULA\n",
    "\n",
    "model_id, model_version = \"meta-textgeneration-llama-3-2-3b-instruct\", \"1.1.7\"\n",
    "model_name = endpoint_name = sagemaker.utils.name_from_base(\"workshop-js\")\n",
    "instance_type = \"ml.g5.2xlarge\"\n",
    "timeout = 600\n",
    "\n",
    "jumpstart_model = JumpStartModel(\n",
    "    model_id=model_id,\n",
    "    model_version=model_version,\n",
    "    name=model_name\n",
    ")\n",
    "\n",
    "jumpstart_model.deploy(\n",
    "    accept_eula=accept_eula,\n",
    "    instance_type=instance_type,\n",
    "    initial_instance_count=1,\n",
    "    container_startup_health_check_timeout=timeout,\n",
    "    endpoint_name=endpoint_name,\n",
    ")\n",
    "\n",
    "llm = sagemaker.Predictor(\n",
    "    endpoint_name=endpoint_name,\n",
    "    sagemaker_session=sess,\n",
    "    serializer=sagemaker.serializers.JSONSerializer(),\n",
    "    deserializer=sagemaker.deserializers.JSONDeserializer(),\n",
    ")"
   ]
  },
  {
   "cell_type": "markdown",
   "id": "ccc6b572-348a-4dd5-8c2a-c21042f30b1e",
   "metadata": {
    "execution": {
     "iopub.execute_input": "2025-08-12T18:44:39.601083Z",
     "iopub.status.busy": "2025-08-12T18:44:39.600761Z",
     "iopub.status.idle": "2025-08-12T18:44:39.603768Z",
     "shell.execute_reply": "2025-08-12T18:44:39.603284Z",
     "shell.execute_reply.started": "2025-08-12T18:44:39.601063Z"
    }
   },
   "source": [
    "#### Inference test"
   ]
  },
  {
   "cell_type": "code",
   "execution_count": null,
   "id": "f061d655-0c49-4033-9748-65b511a23651",
   "metadata": {},
   "outputs": [],
   "source": [
    "payload={\n",
    "    \"messages\": [\n",
    "        {\"role\": \"user\", \"content\": \"What is Amazon SageMaker?\"}\n",
    "    ],\n",
    "}\n",
    "res = llm.predict(payload)\n",
    "print(\"-----\\n\" + res[\"choices\"][0][\"message\"][\"content\"] + \"\\n-----\\n\")\n",
    "print(res[\"usage\"])"
   ]
  },
  {
   "cell_type": "markdown",
   "id": "f290ba8b-93a5-49e0-90e0-0255d52f2463",
   "metadata": {},
   "source": [
    "#### Cleanup"
   ]
  },
  {
   "cell_type": "code",
   "execution_count": null,
   "id": "9173237d-6aac-4876-a253-e88f81e5f537",
   "metadata": {},
   "outputs": [],
   "source": [
    "sess.delete_endpoint(endpoint_name)\n",
    "sess.delete_endpoint_config(endpoint_name)\n",
    "sess.delete_model(model_name)"
   ]
  },
  {
   "cell_type": "markdown",
   "id": "30d14498-2e3c-455f-b291-e2b66be72f5c",
   "metadata": {},
   "source": [
    "### Option 1.2. Deploy `Qwen/Qwen3-4B-Thinking-2507` from HuggingFace HUB using LMI container\n",
    "\n",
    "HuggingFace hub is a de-facto standard for hosting various models.\n",
    "\n",
    "Large Model Inference (LMI) container is a first-party container provided by SageMaker AI team which was designed to host Foundation Models efficiently on Amazon SageMaker AI. It's powered by vLLM backend for state of the art inference performance."
   ]
  },
  {
   "cell_type": "code",
   "execution_count": null,
   "id": "d4aa137e-dc85-4b4b-b457-47a06b219452",
   "metadata": {},
   "outputs": [],
   "source": [
    "CONTAINER_VERSION = \"0.33.0-lmi15.0.0-cu128\"\n",
    "\n",
    "inference_image = f\"763104351884.dkr.ecr.{region}.amazonaws.com/djl-inference:{CONTAINER_VERSION}\"\n",
    "model_name = sagemaker.utils.name_from_base(\"workshop-hf-lmi\")\n",
    "endpoint_name = model_name\n",
    "instance_type = \"ml.g5.2xlarge\"\n",
    "timeout = 600\n",
    "\n",
    "common_env = {\n",
    "    \"HF_MODEL_ID\": \"Qwen/Qwen3-4B-Thinking-2507\",\n",
    "}\n",
    "lmi_env = {\n",
    "    \"SERVING_FAIL_FAST\": \"true\",\n",
    "    \"OPTION_ASYNC_MODE\": \"true\",\n",
    "    \"OPTION_ROLLING_BATCH\": \"disable\",\n",
    "    \"OPTION_MAX_MODEL_LEN\": \"16384\",\n",
    "    \"OPTION_TENSOR_PARALLEL_DEGREE\": \"max\",\n",
    "    \"OPTION_ENTRYPOINT\": \"djl_python.lmi_vllm.vllm_async_service\",\n",
    "    \"OPTION_TRUST_REMOTE_CODE\": \"true\",\n",
    "}\n",
    "env = common_env | lmi_env"
   ]
  },
  {
   "cell_type": "code",
   "execution_count": null,
   "id": "97a7a8cf-ce28-46e1-a716-a0d30abff790",
   "metadata": {},
   "outputs": [],
   "source": [
    "lmi_model = sagemaker.Model(\n",
    "    image_uri=inference_image,\n",
    "    env=env,\n",
    "    role=role,\n",
    "    name=model_name\n",
    ")\n",
    "\n",
    "lmi_model.deploy(\n",
    "    initial_instance_count=1,\n",
    "    instance_type=instance_type,\n",
    "    container_startup_health_check_timeout=timeout,\n",
    "    endpoint_name=endpoint_name,\n",
    ")\n",
    "\n",
    "llm = sagemaker.Predictor(\n",
    "    endpoint_name=endpoint_name,\n",
    "    sagemaker_session=sess,\n",
    "    serializer=sagemaker.serializers.JSONSerializer(),\n",
    "    deserializer=sagemaker.deserializers.JSONDeserializer(),\n",
    ")"
   ]
  },
  {
   "cell_type": "markdown",
   "id": "7eaef30f-80dc-4eb4-a6ca-f8c4917fa1a1",
   "metadata": {},
   "source": [
    "#### Inference Test"
   ]
  },
  {
   "cell_type": "code",
   "execution_count": null,
   "id": "471ed7b6-60bd-41f1-801c-13fdb869ad54",
   "metadata": {},
   "outputs": [],
   "source": [
    "payload={\n",
    "    \"messages\": [\n",
    "        {\"role\": \"user\", \"content\": \"What is bigger 9.11 or 9.8?\"}\n",
    "    ],\n",
    "}\n",
    "res = llm.predict(payload)\n",
    "print(\"-----\\n\" + res[\"choices\"][0][\"message\"][\"content\"] + \"\\n-----\\n\")\n",
    "print(res[\"usage\"])"
   ]
  },
  {
   "cell_type": "markdown",
   "id": "36aee80f-4512-4ea2-91d9-1291e31da735",
   "metadata": {},
   "source": [
    "#### Cleanup"
   ]
  },
  {
   "cell_type": "code",
   "execution_count": null,
   "id": "aa55b422-50e5-4fef-a191-f46da5397765",
   "metadata": {},
   "outputs": [],
   "source": [
    "sess.delete_endpoint(endpoint_name)\n",
    "sess.delete_endpoint_config(endpoint_name)\n",
    "sess.delete_model(model_name)"
   ]
  },
  {
   "cell_type": "markdown",
   "id": "ad155481-288e-489b-ba9e-d3cbd346dfaf",
   "metadata": {},
   "source": [
    "## 2. Deployment (advanced)\n",
    "\n",
    "In this section, we will show how to use more advanced deployment scenarios:\n",
    "- How to deploy a model from S3 location and update Python libraries inside the conatiner at startup\n",
    "- How to deploy a ***quantized*** model on Inference Component enabled endpoint\n",
    "- How to deploy a model using CloudFormation\n",
    "- How to deploy a model using your own custom container"
   ]
  },
  {
   "cell_type": "markdown",
   "id": "c273cb40-1efb-422a-9d3c-8ccb96b15286",
   "metadata": {},
   "source": [
    "### Option 2.1: Deploy `deepseek-ai/DeepSeek-R1-Distill-Qwen-7B` from S3 (and update Python modules)\n",
    "\n",
    "Although using deployment from HuggingFace Hub is very convinient during experimentation, in a real production deployment scenarios, the models are deployed from a customer S3 bucket.\n",
    "This example demonstrate how to do this and how to update Python libraries during deployment (for example, to a newer version).\n",
    "\n",
    "We the purpose of this workshop, we will download the model to S3 first."
   ]
  },
  {
   "cell_type": "markdown",
   "id": "ab436ec3-b999-44af-b4e9-7d3d5b1fee20",
   "metadata": {},
   "source": [
    "#### Download the model from HF and upload to S3"
   ]
  },
  {
   "cell_type": "code",
   "execution_count": null,
   "id": "89dfc887-3b78-405a-8b0c-7aa7091f9fb3",
   "metadata": {},
   "outputs": [],
   "source": [
    "from huggingface_hub import snapshot_download\n",
    "from pathlib import Path\n",
    "\n",
    "local_model_path = Path(\"./model\")\n",
    "local_model_path.mkdir(exist_ok=True)\n",
    "model_name = \"deepseek-ai/DeepSeek-R1-Distill-Qwen-7B\"\n",
    "\n",
    "model_path = snapshot_download(\n",
    "    repo_id=model_name,\n",
    "    local_dir=local_model_path,\n",
    ")"
   ]
  },
  {
   "cell_type": "markdown",
   "id": "f19d335a-b34c-4298-ac09-7793c1756a4f",
   "metadata": {},
   "source": [
    "As an example, let's update the vLLM version in the container."
   ]
  },
  {
   "cell_type": "code",
   "execution_count": null,
   "id": "b554fc7b-3af7-4e88-87bf-ea921ea0ed68",
   "metadata": {},
   "outputs": [],
   "source": [
    "!echo \"vllm==0.8.5\" > {model_path}/requirements.txt"
   ]
  },
  {
   "cell_type": "code",
   "execution_count": null,
   "id": "667b148a-26f0-4eed-ba9f-9937a2639416",
   "metadata": {},
   "outputs": [],
   "source": [
    "from sagemaker.s3 import S3Uploader\n",
    "\n",
    "s3_path = f\"s3://{bucket}/workshop/model\"\n",
    "\n",
    "# upload to S3\n",
    "uploaded_s3_uri = S3Uploader.upload(\n",
    "    local_path=model_path,\n",
    "    desired_s3_uri=s3_path\n",
    ")"
   ]
  },
  {
   "cell_type": "markdown",
   "id": "9f8e87b3-83d9-40a6-aacd-08e0d2fbda2f",
   "metadata": {},
   "source": [
    "#### Deploy the model from S3 (Python modules will be updated)"
   ]
  },
  {
   "cell_type": "code",
   "execution_count": null,
   "id": "72602902-90ac-4575-acea-ee597565fcae",
   "metadata": {},
   "outputs": [],
   "source": [
    "CONTAINER_VERSION = \"0.33.0-lmi15.0.0-cu128\"\n",
    "\n",
    "inference_image = f\"763104351884.dkr.ecr.{region}.amazonaws.com/djl-inference:{CONTAINER_VERSION}\"\n",
    "model_name = sagemaker.utils.name_from_base(\"workshop-s3-lmi\")\n",
    "endpoint_name = model_name\n",
    "instance_type = \"ml.g5.2xlarge\"\n",
    "timeout = 600\n",
    "\n",
    "common_env = {\n",
    "    \"HF_MODEL_ID\": \"/opt/ml/model\",\n",
    "}\n",
    "lmi_env = {\n",
    "    \"SERVING_FAIL_FAST\": \"true\",\n",
    "    \"OPTION_ASYNC_MODE\": \"true\",\n",
    "    \"OPTION_ROLLING_BATCH\": \"disable\",\n",
    "    \"OPTION_MAX_MODEL_LEN\": \"16384\",\n",
    "    \"OPTION_TENSOR_PARALLEL_DEGREE\": \"max\",\n",
    "    \"OPTION_ENTRYPOINT\": \"djl_python.lmi_vllm.vllm_async_service\",\n",
    "    \"OPTION_TRUST_REMOTE_CODE\": \"true\",\n",
    "}\n",
    "env = common_env | lmi_env"
   ]
  },
  {
   "cell_type": "markdown",
   "id": "19a66362-1241-422e-b547-db0f63dc38cd",
   "metadata": {
    "execution": {
     "iopub.execute_input": "2025-08-22T17:02:28.159410Z",
     "iopub.status.busy": "2025-08-22T17:02:28.159102Z",
     "iopub.status.idle": "2025-08-22T17:02:28.163173Z",
     "shell.execute_reply": "2025-08-22T17:02:28.162533Z",
     "shell.execute_reply.started": "2025-08-22T17:02:28.159387Z"
    }
   },
   "source": [
    "Please note that we use `model_data` parameter when creating a model object that points to S3 prefix with uncompressed model weights"
   ]
  },
  {
   "cell_type": "code",
   "execution_count": null,
   "id": "1de600ca-d5a7-4479-9790-8a76ed8715d4",
   "metadata": {},
   "outputs": [],
   "source": [
    "lmi_model = sagemaker.Model(\n",
    "    image_uri=inference_image,\n",
    "    env=env,\n",
    "    role=role,\n",
    "    name=model_name,\n",
    "    model_data={\n",
    "        'S3DataSource': {\n",
    "            'S3Uri': uploaded_s3_uri + \"/\",\n",
    "            'S3DataType': 'S3Prefix',\n",
    "            'CompressionType': 'None'\n",
    "        }\n",
    "    },\n",
    ")\n",
    "\n",
    "lmi_model.deploy(\n",
    "    initial_instance_count=1,\n",
    "    instance_type=instance_type,\n",
    "    container_startup_health_check_timeout=timeout,\n",
    "    endpoint_name=endpoint_name,\n",
    ")\n",
    "\n",
    "llm = sagemaker.Predictor(\n",
    "    endpoint_name=endpoint_name,\n",
    "    sagemaker_session=sess,\n",
    "    serializer=sagemaker.serializers.JSONSerializer(),\n",
    "    deserializer=sagemaker.deserializers.JSONDeserializer(),\n",
    ")"
   ]
  },
  {
   "attachments": {
    "97c933bf-34cd-4202-90b4-d3a7544ebf4c.png": {
     "image/png": "[encoded data removed]"
    }
   },
   "cell_type": "markdown",
   "id": "4921bff0-0cfa-4f39-8008-054dbb8d97e2",
   "metadata": {},
   "source": [
    "You should see a message below as a confirmation that all required Python modules were installed\n",
    "![Screenshot 2025-08-12 at 2.29.23 PM.png](attachment:97c933bf-34cd-4202-90b4-d3a7544ebf4c.png)"
   ]
  },
  {
   "cell_type": "markdown",
   "id": "cbcd6c4b-8deb-48ff-946e-a06431cab68b",
   "metadata": {},
   "source": [
    "#### Inference Test"
   ]
  },
  {
   "cell_type": "code",
   "execution_count": null,
   "id": "4cb09d60-8b0d-4958-900c-791e2b8f584a",
   "metadata": {},
   "outputs": [],
   "source": [
    "payload={\n",
    "    \"messages\": [\n",
    "        {\"role\": \"user\", \"content\": \"Name popular places to visit in London?\"}\n",
    "    ],\n",
    "}\n",
    "res = llm.predict(payload)\n",
    "print(\"-----\\n\" + res[\"choices\"][0][\"message\"][\"content\"] + \"\\n-----\\n\")\n",
    "print(res[\"usage\"])"
   ]
  },
  {
   "cell_type": "markdown",
   "id": "666bb637-2c85-4ba8-b740-5f4ef400b0a9",
   "metadata": {},
   "source": [
    "#### Cleanup"
   ]
  },
  {
   "cell_type": "code",
   "execution_count": null,
   "id": "584a1961-8a48-4a9f-a77b-1f3d0ceb5f8f",
   "metadata": {},
   "outputs": [],
   "source": [
    "!rm -rf {local_model_path}"
   ]
  },
  {
   "cell_type": "code",
   "execution_count": null,
   "id": "cb246f82-bf69-484e-ae47-a9a179356495",
   "metadata": {},
   "outputs": [],
   "source": [
    "sess.delete_endpoint(endpoint_name)\n",
    "sess.delete_endpoint_config(endpoint_name)\n",
    "sess.delete_model(model_name)"
   ]
  },
  {
   "cell_type": "markdown",
   "id": "aa6d6ba1-7bc3-4afe-bfdc-851cebfbd711",
   "metadata": {},
   "source": [
    "### Option 2.2: Deploy a ***quantized*** model (`Qwen/Qwen2.5-VL-7B-Instruct-AWQ`) to Inference Component endpoint\n",
    "\n",
    "It's very common to use quantized models to reduce the GPU memoery requirements and speed up the inference. \n",
    "\n",
    "It's very straight-forward to deploy a quantized version on SageMaker AI, the serving backend recognize that the model weights are quantized after loading `config.json` and handles them correctly.\n",
    "\n",
    "In this example, we will deploy a model to Inference Component enabled endpoint. Inference Components allow deployment of multiple models on the same endpoint in case of multi-GPU instance types."
   ]
  },
  {
   "cell_type": "code",
   "execution_count": null,
   "id": "56ebbc68-b1d0-4c55-ab6b-9bddf1c342b6",
   "metadata": {},
   "outputs": [],
   "source": [
    "CONTAINER_VERSION = \"0.33.0-lmi15.0.0-cu128\"\n",
    "\n",
    "inference_image = f\"763104351884.dkr.ecr.{region}.amazonaws.com/djl-inference:{CONTAINER_VERSION}\"\n",
    "model_name = sagemaker.utils.name_from_base(\"workshop-ic\")\n",
    "endpoint_name = model_name\n",
    "instance_type = \"ml.g5.2xlarge\"\n",
    "timeout = 600\n",
    "\n",
    "common_env = {\n",
    "    \"HF_MODEL_ID\": \"Qwen/Qwen2.5-VL-7B-Instruct-AWQ\",\n",
    "}\n",
    "lmi_env = {\n",
    "    \"SERVING_FAIL_FAST\": \"true\",\n",
    "    \"OPTION_ASYNC_MODE\": \"true\",\n",
    "    \"OPTION_ROLLING_BATCH\": \"disable\",\n",
    "    \"OPTION_MAX_MODEL_LEN\": \"16384\",\n",
    "    \"OPTION_TENSOR_PARALLEL_DEGREE\": \"max\",\n",
    "    \"OPTION_ENTRYPOINT\": \"djl_python.lmi_vllm.vllm_async_service\",\n",
    "    \"OPTION_TRUST_REMOTE_CODE\": \"true\",\n",
    "}\n",
    "env = common_env | lmi_env"
   ]
  },
  {
   "cell_type": "code",
   "execution_count": null,
   "id": "94922bc6-4570-482d-a66f-de61d839d90e",
   "metadata": {},
   "outputs": [],
   "source": [
    "from sagemaker.compute_resource_requirements.resource_requirements import ResourceRequirements\n",
    "\n",
    "inference_component_name = f\"ic-{model_name}\"\n",
    "\n",
    "lmi_model = sagemaker.Model(\n",
    "    image_uri=inference_image,\n",
    "    env=env,\n",
    "    role=role,\n",
    "    name=model_name,\n",
    ")\n",
    "\n",
    "lmi_model.deploy(\n",
    "    initial_instance_count=1,\n",
    "    instance_type=instance_type,\n",
    "    container_startup_health_check_timeout=timeout,\n",
    "    endpoint_name=endpoint_name,\n",
    "    endpoint_type=sagemaker.enums.EndpointType.INFERENCE_COMPONENT_BASED,\n",
    "    inference_component_name=inference_component_name,\n",
    "    resources=ResourceRequirements(requests={\"num_accelerators\": 1, \"memory\": 1024*5, \"copies\": 1,}),\n",
    ")\n",
    "\n",
    "llm = sagemaker.Predictor(\n",
    "    endpoint_name=endpoint_name,\n",
    "    sagemaker_session=sess,\n",
    "    serializer=sagemaker.serializers.JSONSerializer(),\n",
    "    deserializer=sagemaker.deserializers.JSONDeserializer(),\n",
    "    component_name=inference_component_name\n",
    ")"
   ]
  },
  {
   "cell_type": "code",
   "execution_count": null,
   "id": "ad41a9eb-ba36-4618-8cdf-25ba8559cde9",
   "metadata": {},
   "outputs": [],
   "source": [
    "import base64\n",
    "\n",
    "def image_to_base64_data_uri(file_path):\n",
    "    with open(file_path, \"rb\") as img_file:\n",
    "        base64_data = base64.b64encode(img_file.read()).decode('utf-8')\n",
    "        return f\"{base64_data}\""
   ]
  },
  {
   "cell_type": "markdown",
   "id": "3be71147-b4b7-4e04-aeed-b9b33d116cdf",
   "metadata": {},
   "source": [
    "Let's try to use remote image:\n",
    "\n",
    "<img src=\"https://huggingface.co/datasets/huggingface/documentation-images/resolve/0052a70beed5bf71b92610a43a52df6d286cd5f3/diffusers/rabbit.jpg\" alt=\"remote\" width=\"500\">"
   ]
  },
  {
   "cell_type": "code",
   "execution_count": null,
   "id": "1b58d890-aad9-4239-92e0-9f219caf1c78",
   "metadata": {},
   "outputs": [],
   "source": [
    "payload = {\n",
    "    \"messages\": [\n",
    "        {\n",
    "            \"role\": \"user\",\n",
    "            \"content\": [\n",
    "                {\n",
    "                    \"type\": \"image_url\",\n",
    "                    \"image_url\": {\"url\": \"https://huggingface.co/datasets/huggingface/documentation-images/resolve/0052a70beed5bf71b92610a43a52df6d286cd5f3/diffusers/rabbit.jpg\"},\n",
    "                },\n",
    "                {\"type\": \"text\", \"text\": \"Describe this image in details, identify which novel is it from.\"},\n",
    "            ],\n",
    "        }\n",
    "    ],\n",
    "}\n",
    "res = llm.predict(payload)\n",
    "print(\"-----\\n\" + res[\"choices\"][0][\"message\"][\"content\"] + \"\\n-----\\n\")\n",
    "print(res[\"usage\"])"
   ]
  },
  {
   "cell_type": "markdown",
   "id": "bd7e301f-6c63-4f83-9459-c3724742415c",
   "metadata": {},
   "source": [
    "Let's try to use local image:\n",
    "\n",
    "![image](./img/trip.png)"
   ]
  },
  {
   "cell_type": "code",
   "execution_count": null,
   "id": "0ada3ae6-1b50-419e-b2b2-a5680d1447a3",
   "metadata": {},
   "outputs": [],
   "source": [
    "file_path = './img/trip.png'\n",
    "data_uri = image_to_base64_data_uri(file_path)\n",
    "\n",
    "payload = {\n",
    "        \"messages\": [\n",
    "            {\n",
    "                \"role\": \"user\",\n",
    "                \"content\": [\n",
    "                    {\n",
    "                        \"type\": \"text\",\n",
    "                        \"text\": \"Describe the location and season in detail please.\",\n",
    "                    },\n",
    "                    {\n",
    "                        \"type\": \"image_url\",\n",
    "                        \"image_url\": {\"url\": f\"data:image/jpg;base64,{data_uri}\"}\n",
    "                    },\n",
    "                ],\n",
    "            },\n",
    "        ],\n",
    "}\n",
    "res = llm.predict(payload)\n",
    "print(\"-----\\n\" + res[\"choices\"][0][\"message\"][\"content\"] + \"\\n-----\\n\")\n",
    "print(res[\"usage\"])"
   ]
  },
  {
   "cell_type": "code",
   "execution_count": null,
   "id": "6a385542-1c29-4456-b569-bf32cb9453a6",
   "metadata": {},
   "outputs": [],
   "source": [
    "sess.delete_inference_component(inference_component_name, wait = True)\n",
    "sess.delete_endpoint(endpoint_name)\n",
    "sess.delete_endpoint_config(endpoint_name)\n",
    "sess.delete_model(model_name)"
   ]
  },
  {
   "cell_type": "markdown",
   "id": "b4673686-69ae-450d-ac86-4348bf764f18",
   "metadata": {},
   "source": [
    "### Option 2.3: Deploy `deepseek-ai/DeepSeek-R1-Distill-Qwen-7B` using CloudFormation template\n",
    "\n",
    "There is a good chance that your organization using CloudFormation template to deploy and manage AWS resources in production environment.\n",
    "\n",
    "This example shows how to use CloudFormation teamplate to deploy a mode to the endpoint"
   ]
  },
  {
   "cell_type": "code",
   "execution_count": null,
   "id": "0809bcc2-9d45-4e4d-b052-74ed0d3fd9aa",
   "metadata": {},
   "outputs": [],
   "source": [
    "from datetime import datetime\n",
    "\n",
    "CONTAINER_VERSION = \"0.33.0-lmi15.0.0-cu128\"\n",
    "\n",
    "inference_image = f\"763104351884.dkr.ecr.{region}.amazonaws.com/djl-inference:{CONTAINER_VERSION}\"\n",
    "stack_timestamp = datetime.now().isoformat(timespec=\"seconds\").replace(\":\", \"-\")\n",
    "stack_name = f\"deepseek-r1-0528-{stack_timestamp}\"\n",
    "print(\"stack_name:\", stack_name)\n",
    "\n",
    "cloudformation = boto3.client(\"cloudformation\")\n",
    "model_name = sagemaker.utils.name_from_base(\"workshop-cfn\")\n",
    "instance_type = \"ml.g5.4xlarge\""
   ]
  },
  {
   "cell_type": "markdown",
   "id": "003b2207-d031-4d28-b2e7-780238263356",
   "metadata": {},
   "source": [
    "We will define string variable that holds CloudFormation template.\n",
    "\n",
    "You can save it to the actual yaml-file and use outside of this notebook example.\n",
    "\n",
    "Please refer to CloudFormation documentation for more details"
   ]
  },
  {
   "cell_type": "code",
   "execution_count": null,
   "id": "b437c288-4c7b-4ab5-a861-c0f7eb2d45e3",
   "metadata": {},
   "outputs": [],
   "source": [
    "cfn_deploy = f\"\"\"\n",
    "AWSTemplateFormatVersion: 2010-09-09\n",
    "\n",
    "Parameters:\n",
    "\n",
    "  DockerImageArn:\n",
    "    Type: String\n",
    "    Default: {inference_image}\n",
    "  RoleArn:\n",
    "    Type: String\n",
    "    Default: {role}\n",
    "  ModelName:\n",
    "    Type: String\n",
    "    Default: {model_name}\n",
    "  InstanceType:\n",
    "    Type: String\n",
    "    Default: {instance_type}\n",
    "  InitialInstanceCount:\n",
    "    Type: Number\n",
    "    Default: 1\n",
    "\n",
    "\n",
    "Resources:\n",
    "\n",
    "  Model:\n",
    "    Type: \"AWS::SageMaker::Model\"\n",
    "    Properties:\n",
    "      ModelName: !Ref ModelName\n",
    "      Containers:\n",
    "        -\n",
    "          ContainerHostname: 'GenericContainer'\n",
    "          Image: !Ref DockerImageArn\n",
    "          Environment:\n",
    "            HF_MODEL_ID: \"deepseek-ai/DeepSeek-R1-Distill-Qwen-7B\"\n",
    "            SERVING_FAIL_FAST: \"True\"\n",
    "            OPTION_ASYNC_MODE: \"True\"\n",
    "            OPTION_ROLLING_BATCH: \"disable\"\n",
    "            OPTION_ENTRYPOINT: \"djl_python.lmi_vllm.vllm_async_service\"\n",
    "            OPTION_TRUST_REMOTE_CODE: \"True\"\n",
    "            OPTION_MAX_ROLLING_BATCH_SIZE: 16\n",
    "            OPTION_MAX_MODEL_LEN: 16384\n",
    "            OPTION_TENSOR_PARALLEL_DEGREE: \"max\"\n",
    "      ExecutionRoleArn: !Ref RoleArn\n",
    "\n",
    "  EndpointConfig:\n",
    "    Type: \"AWS::SageMaker::EndpointConfig\"\n",
    "    Properties:\n",
    "      EndpointConfigName: !GetAtt Model.ModelName\n",
    "      ProductionVariants:\n",
    "        - ModelName: !GetAtt Model.ModelName\n",
    "          VariantName: default\n",
    "          InitialInstanceCount: !Ref InitialInstanceCount\n",
    "          InstanceType: !Ref InstanceType\n",
    "          ModelDataDownloadTimeoutInSeconds: 600\n",
    "          ContainerStartupHealthCheckTimeoutInSeconds: 600\n",
    "\n",
    "  GenericPredictEndpoint:\n",
    "    Type: \"AWS::SageMaker::Endpoint\"\n",
    "    Properties:\n",
    "      EndpointConfigName: !GetAtt EndpointConfig.EndpointConfigName\n",
    "      EndpointName: !GetAtt Model.ModelName\n",
    "\n",
    "Outputs:\n",
    "  EndpointArn:\n",
    "    Value: !Ref GenericPredictEndpoint\n",
    "  EndpointName:\n",
    "    Value: !GetAtt GenericPredictEndpoint.EndpointName\n",
    "\"\"\""
   ]
  },
  {
   "cell_type": "code",
   "execution_count": null,
   "id": "7351eadd-d5e5-4bf2-92d4-da4f87386c70",
   "metadata": {},
   "outputs": [],
   "source": [
    "stack_parameters = {\n",
    "    \"DockerImageArn\": inference_image,\n",
    "    \"RoleArn\": role,\n",
    "    \"ModelName\": model_name,\n",
    "    \"InstanceType\": instance_type,\n",
    "}\n",
    "\n",
    "stack_parameters = [\n",
    "    {'ParameterKey': key, 'ParameterValue': str(value)}\n",
    "    for key, value in stack_parameters.items()\n",
    "]"
   ]
  },
  {
   "cell_type": "code",
   "execution_count": null,
   "id": "8179876d-cc60-4d54-85a0-a985436db1e2",
   "metadata": {},
   "outputs": [],
   "source": [
    "create_result = cloudformation.create_stack(\n",
    "        StackName=stack_name,\n",
    "        TemplateBody=cfn_deploy,\n",
    "        Parameters=stack_parameters,\n",
    "        Capabilities=['CAPABILITY_IAM'],\n",
    "        OnFailure='ROLLBACK'\n",
    ")\n",
    "create_result"
   ]
  },
  {
   "cell_type": "code",
   "execution_count": null,
   "id": "2572a3fc-dd5f-4447-bb0f-a02f866fee68",
   "metadata": {},
   "outputs": [],
   "source": [
    "create_start = datetime.now()\n",
    "\n",
    "print(f'\\nWaiting for {stack_name} stack to be in service...')\n",
    "\n",
    "waiter = cloudformation.get_waiter('stack_create_complete')\n",
    "waiter.wait(StackName = stack_name)\n",
    "\n",
    "print(f\"Creation of stack {stack_name} took {datetime.now() - create_start}\\n\")"
   ]
  },
  {
   "cell_type": "code",
   "execution_count": null,
   "id": "40ca2cbb-3d87-40dd-bf7a-eb622c6f7980",
   "metadata": {},
   "outputs": [],
   "source": [
    "resources = cloudformation.describe_stack_resources(StackName=stack_name)\n",
    "endpoint_arn = next(r[\"PhysicalResourceId\"] for r in resources[\"StackResources\"] if r[\"LogicalResourceId\"] == \"GenericPredictEndpoint\")\n",
    "endpoint_name = endpoint_arn.split(\"/\")[-1]\n",
    "endpoint_name"
   ]
  },
  {
   "cell_type": "markdown",
   "id": "8b9ef0b1-598b-4af5-a759-fcd862dc51c2",
   "metadata": {},
   "source": [
    "#### Inference Test"
   ]
  },
  {
   "cell_type": "code",
   "execution_count": null,
   "id": "2734d51c-582e-4d71-a350-469b270cd8e1",
   "metadata": {},
   "outputs": [],
   "source": [
    "inputs = \"How many R in a word 'strawberry'?\"\n",
    "output = stream_response(endpoint_name, inputs, max_tokens=8000)"
   ]
  },
  {
   "cell_type": "markdown",
   "id": "9c0cb990-9dec-4ee8-93e6-4cc394e139e6",
   "metadata": {},
   "source": [
    "#### Cleanup"
   ]
  },
  {
   "cell_type": "code",
   "execution_count": null,
   "id": "f05858b1-45e3-4a94-8db4-9c4811bc366a",
   "metadata": {},
   "outputs": [],
   "source": [
    "cloudformation.delete_stack(StackName=stack_name)"
   ]
  },
  {
   "cell_type": "markdown",
   "id": "1b070f66-bbe8-4f6b-8143-190a36bf31e0",
   "metadata": {},
   "source": [
    "### Option 2.4. Deploy `openai/gpt-oss-20b` using BYOC\n",
    "\n",
    "Amazon SageMaker AI provides the ability to build Docker containers to run on SageMaker endpoints, where they listen for health checks on `/ping` and receive real-time inference requests on `/invocations`.\n",
    "\n",
    "Below, we'll demonstrate how to adapt the [vLLM](https://github.com/vllm-project/vllm) framework to run on SageMaker AI endpoints."
   ]
  },
  {
   "cell_type": "markdown",
   "id": "1e93294b-e807-445e-8b79-85c7a91d4b5b",
   "metadata": {},
   "source": [
    "#### Container preparation:\n",
    "1. Enable Docker access in your Studio domain. Please see [documentation](https://docs.aws.amazon.com/sagemaker/latest/dg/studio-updated-local-get-started.html#studio-updated-local-enable) for details\n",
    "2. Install Docker in your Studion environment. See this [link](https://docs.aws.amazon.com/sagemaker/latest/dg/studio-updated-local-get-started.html#studio-updated-local-docker-installation) for details\n",
    "3. Please modify `build.sh` to change the account_id, region, repository name, and tag if required\n",
    "4. Build the image and push to ECR repository using `build.sh` in docker directory\n"
   ]
  },
  {
   "cell_type": "code",
   "execution_count": null,
   "id": "fd487d64",
   "metadata": {},
   "outputs": [],
   "source": [
    "!./docker/sm-docker-install.sh"
   ]
  },
  {
   "cell_type": "code",
   "execution_count": null,
   "id": "ca4b18a7-c0be-4ab0-8fa1-be907ab959f8",
   "metadata": {},
   "outputs": [],
   "source": [
    "repo_name=\"vllm\"\n",
    "tag=\"v0.10.1\"\n",
    "\n",
    "build_sh = f\"\"\"\n",
    "full_name=\"{account_id}.dkr.ecr.{region}.amazonaws.com/{repo_name}:{tag}\"\n",
    "\n",
    "DOCKER_BUILDKIT=1 docker build . --tag {repo_name}:{tag} --file Dockerfile\n",
    "\n",
    "aws ecr get-login-password --region {region} | docker login --username AWS --password-stdin {account_id}.dkr.ecr.{region}.amazonaws.com\n",
    "\n",
    "# If the repository doesn't exist in ECR, create it.\n",
    "aws ecr describe-repositories --region {region} --repository-names \"{repo_name}\" > /dev/null 2>&1\n",
    "\n",
    "if [ $? -ne 0 ]\n",
    "then\n",
    "    aws ecr create-repository --region {region} --repository-name \"{repo_name}\" > /dev/null\n",
    "fi\n",
    "\n",
    "docker tag {repo_name}:{tag} $full_name\n",
    "docker push $full_name\n",
    "\"\"\"\n",
    "with open('docker/build.sh', 'w') as fp:\n",
    "    fp.write(build_sh)"
   ]
  },
  {
   "cell_type": "code",
   "execution_count": null,
   "id": "76af4d9f-8757-4d84-99f8-e8348ad015d6",
   "metadata": {},
   "outputs": [],
   "source": [
    "!cd docker; chmod 755 ./build.sh; ./build.sh; cd .."
   ]
  },
  {
   "cell_type": "code",
   "execution_count": null,
   "id": "5bee101e-52fb-4f92-834d-11cef5b53700",
   "metadata": {},
   "outputs": [],
   "source": [
    "#\n",
    "# Please make sure you are using the image that you pushed into ECR in a previous step\n",
    "#\n",
    "inference_image = f\"{account_id}.dkr.ecr.{region}.amazonaws.com/vllm:v0.10.1\"\n",
    "#instance_type = \"ml.g6e.4xlarge\"\n",
    "instance_type = \"ml.g5.2xlarge\"\n",
    "num_gpu = 1\n",
    "model_name = sagemaker.utils.name_from_base(\"model-byoc\")\n",
    "endpoint_name = model_name\n",
    "inference_component_name = f\"ic-{model_name}\"\n",
    "\n",
    "config = {\n",
    "    \"OPTION_MODEL\": \"openai/gpt-oss-20b\",\n",
    "    \"OPTION_SERVED_MODEL_NAME\": \"model\",\n",
    "    \"OPTION_TENSOR_PARALLEL_SIZE\": json.dumps(num_gpu),\n",
    "    \"OPTION_ASYNC_SCHEDULING\": \"true\",\n",
    "}"
   ]
  },
  {
   "cell_type": "code",
   "execution_count": null,
   "id": "b11ae72d-4e66-442d-af11-0d0e4020f22a",
   "metadata": {},
   "outputs": [],
   "source": [
    "from sagemaker.compute_resource_requirements.resource_requirements import ResourceRequirements\n",
    "\n",
    "lmi_model = sagemaker.Model(\n",
    "    image_uri=inference_image,\n",
    "    env=config,\n",
    "    role=role,\n",
    "    name=model_name,\n",
    "\n",
    ")\n",
    "\n",
    "lmi_model.deploy(\n",
    "    initial_instance_count=1,\n",
    "    instance_type=instance_type,\n",
    "    container_startup_health_check_timeout=600,\n",
    "    endpoint_name=endpoint_name,\n",
    "    endpoint_type=sagemaker.enums.EndpointType.INFERENCE_COMPONENT_BASED,\n",
    "    inference_component_name=inference_component_name,\n",
    "    resources=ResourceRequirements(requests={\"num_accelerators\": num_gpu, \"memory\": 1024*3, \"copies\": 1,}),\n",
    ")\n",
    "\n",
    "llm = sagemaker.Predictor(\n",
    "    endpoint_name=endpoint_name,\n",
    "    sagemaker_session=sess,\n",
    "    serializer=sagemaker.serializers.JSONSerializer(),\n",
    "    deserializer=sagemaker.deserializers.JSONDeserializer(),\n",
    "    component_name=inference_component_name\n",
    ")"
   ]
  },
  {
   "cell_type": "markdown",
   "id": "212fde0a-1a56-4f2b-95b8-bc98d7854d5c",
   "metadata": {},
   "source": [
    "#### Inference Test"
   ]
  },
  {
   "cell_type": "code",
   "execution_count": null,
   "id": "533da82f-f84b-4d2a-8a23-ecc344929f9b",
   "metadata": {},
   "outputs": [],
   "source": [
    "payload={\n",
    "    \"messages\": [\n",
    "        {\"role\": \"user\", \"content\": \"Name popular places to visit in London?\"}\n",
    "    ],\n",
    "}\n",
    "res = llm.predict(payload)\n",
    "print(\"-----\\n\" + res[\"choices\"][0][\"message\"][\"content\"] + \"\\n-----\\n\")\n",
    "print(res[\"usage\"])"
   ]
  },
  {
   "cell_type": "code",
   "execution_count": null,
   "id": "7830157c-db47-468b-b6e7-510546aaf703",
   "metadata": {},
   "outputs": [],
   "source": [
    "payload={\n",
    "    \"messages\": [\n",
    "        {\"role\": \"user\", \"content\": \"How many `b' in a word `blueberry`?\"}\n",
    "    ],\n",
    "}\n",
    "res = llm.predict(payload)\n",
    "print(\"-----\\n\" + res[\"choices\"][0][\"message\"][\"content\"] + \"\\n-----\\n\")\n",
    "print(res[\"usage\"])"
   ]
  },
  {
   "cell_type": "markdown",
   "id": "f97335e2-65eb-4571-83dd-1cb7fae9bf9a",
   "metadata": {},
   "source": [
    "#### Cleanup"
   ]
  },
  {
   "cell_type": "code",
   "execution_count": null,
   "id": "90af74a3-54f2-4576-8fac-9095ebb086cd",
   "metadata": {},
   "outputs": [],
   "source": [
    "sess.delete_inference_component(inference_component_name)\n",
    "sess.delete_endpoint(endpoint_name)\n",
    "sess.delete_endpoint_config(endpoint_name)\n",
    "sess.delete_model(model_name)"
   ]
  },
  {
   "cell_type": "code",
   "execution_count": null,
   "id": "7e9127a5-b04d-4d72-bcdb-8c03bc66d6f5",
   "metadata": {},
   "outputs": [],
   "source": []
  }
 ],
 "metadata": {
  "kernelspec": {
   "display_name": "Python 3 (ipykernel)",
   "language": "python",
   "name": "python3"
  },
  "language_info": {
   "codemirror_mode": {
    "name": "ipython",
    "version": 3
   },
   "file_extension": ".py",
   "mimetype": "text/x-python",
   "name": "python",
   "nbconvert_exporter": "python",
   "pygments_lexer": "ipython3",
   "version": "3.12.9"
  }
 },
 "nbformat": 4,
 "nbformat_minor": 5
}
