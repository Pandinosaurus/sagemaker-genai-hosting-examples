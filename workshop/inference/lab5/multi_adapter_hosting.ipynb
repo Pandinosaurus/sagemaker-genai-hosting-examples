{
 "cells": [
  {
   "cell_type": "markdown",
   "id": "71a329f0",
   "metadata": {},
   "source": [
    "# Using SageMaker Efficient Multi-Adapter Serving to host LoRA adapters at Scale\n",
    "\n",
    "In this notebook, we will show you how to deploy a SageMaker AI endpoint with a single base model **Llama 3.1 8B Instruct** with **3 fine tuned LoRA adapters**, and change adapters for different requests using SageMaker Large Model Inference Containers[SageMaker Large Model Inference Containers](https://github.com/aws/deep-learning-containers/blob/master/available_images.md#large-model-inference-containers).\n",
    "\n",
    "WHY LoRA?\n",
    "- LoRA (Low Rank Adapters) is a powerful technique for fine-tuning large language models.\n",
    "- This technique significantly reduces the number of trainable parameters compared to traditional fine-tuning while achieving comparable or superior performance.\n",
    "- A major benefit of LoRA is that the fine-tuned adapters can easily be added to and removed from the base model, which makes switching adapters pretty cheap and viable at runtime.(demonstrated in step5)\n",
    "\n",
    "Multi-Adapter serving allows for multiple fine-tuned models to be hosted in a cost efficient manner on a singular endpoint. Via a multi-adapter, approach we can tackle multiple different tasks with a singular base LLM. In this example, you will use a pre-trained LoRA adapter that was fine tuned from *Llama 3.1 8B Instruct* on the [ECTSum dataset](https://huggingface.co/datasets/mrSoul7766/ECTSum).\n",
    "\n",
    "You will also see how to dynamically load and unload these adapters using [SageMaker Inference Components](https://aws.amazon.com/blogs/aws/amazon-sagemaker-adds-new-inference-capabilities-to-help-reduce-foundation-model-deployment-costs-and-latency/), in this example, we specifically explore the Inference Component Adapter feature which will allow for us to load hundreds of adapters on a SageMaker real-time endpoint.\n",
    "\n",
    "![](./images/ic-adapter-architecture.png)"
   ]
  },
  {
   "cell_type": "markdown",
   "id": "ad88858f-8f1a-47fe-88dd-78c4faa2b84d",
   "metadata": {},
   "source": [
    "#### Details of Steps:\n",
    "\n",
    "- **Step 0: Prerequisites**\n",
    "- **Step 1: Set up**\n",
    "    - Fetch and import dependencies\n",
    "    - Restart kernel before continuing\n",
    "    - Configure development environment and boto3 clients\n",
    "- **Step 2: Deploy a base model to SageMaker IC-based endpoint**\n",
    "  - Select a Large Model Inference (LMI) container image\n",
    "  - Configure model container environment\n",
    "  - Pick one option to deploy base model\n",
    "  - View logs for the base inference component (and adapters after they're loaded)\n",
    "  - Create the Inference Components (ICs) for the adapters\n",
    "  - Copy the compressed local adapter ectsum-adapter.tar.gz to S3\n",
    "  - Create ECTSum adapter inference component\n",
    "  - View Cloudwatch Inference logs\n",
    "- **Step 3: Invoking the Endpoint**\n",
    "  - get Sample Dataset\n",
    "  - Create the prompt to invoke the LLM\n",
    "  - Invoke base model without any adapters and observe response\n",
    "  - Invoke ECTSum adapter and observe response\n",
    "  - Compare outputs\n",
    "- **Step 4:Swapping adapters between GPU/CPU/disk**\n",
    "  - Create second adapter\n",
    "  - Create third adapter\n",
    "- **Step 5:Upload a new ECTSum adapter artifact and update the live adapter inference component**\n",
    "  - Upload compressed adapter to S3\n",
    "  - Update Inference component adapter\n",
    "  - Retest the updated adapter\n",
    "- **Step 6: Clean up the environment**\n",
    "  - Delete adapters\n",
    "  - Delete base inference components and model\n",
    "  - Delete Sagemaker endpoint and config\n",
    "\n"
   ]
  },
  {
   "cell_type": "markdown",
   "id": "b7f85d52-5ee2-4be2-92cf-d609f7d88d0f",
   "metadata": {},
   "source": [
    "## Step 0 : Prerequisites\n",
    "\n",
    "- Make sure you have access to ml.g5.2xlarge for endpoint usage\n",
    "- Run these two commands in terminal\n",
    "    - `sudo apt-get install git-lfs`\n",
    "    - `git clone https://github.com/aws-samples/sagemaker-genai-hosting-examples.git`"
   ]
  },
  {
   "cell_type": "markdown",
   "id": "8974eee7-cc31-4dac-8795-aec6b8765051",
   "metadata": {},
   "source": [
    "## Step 1: Setup"
   ]
  },
  {
   "cell_type": "markdown",
   "id": "8f8b2b57-37e9-4c8b-882e-8c728c01dc70",
   "metadata": {},
   "source": [
    "### 1.1 Fetch and import dependencies \n",
    "Ignore incompatability errors"
   ]
  },
  {
   "cell_type": "code",
   "execution_count": 26,
   "id": "67fa3208",
   "metadata": {
    "tags": []
   },
   "outputs": [
    {
     "name": "stdout",
     "output_type": "stream",
     "text": [
      "Note: you may need to restart the kernel to use updated packages.\n"
     ]
    }
   ],
   "source": [
    "%pip install -Uq datasets==3.0.0 --no-warn-conflicts"
   ]
  },
  {
   "cell_type": "code",
   "execution_count": 27,
   "id": "c50ec728-086a-4ac7-8f8d-8e096a6d8891",
   "metadata": {},
   "outputs": [
    {
     "name": "stdout",
     "output_type": "stream",
     "text": [
      "Note: you may need to restart the kernel to use updated packages.\n"
     ]
    }
   ],
   "source": [
    "%pip install sagemaker --upgrade --quiet --no-warn-conflicts"
   ]
  },
  {
   "cell_type": "markdown",
   "id": "e3504dde-39c4-411f-86c9-c473d46b0831",
   "metadata": {},
   "source": [
    "### 1.2 Restart kernel before continuing \n",
    " Menu Bar > Kernel > Restart Kernel..."
   ]
  },
  {
   "cell_type": "code",
   "execution_count": 1,
   "id": "ec9ac353",
   "metadata": {
    "tags": []
   },
   "outputs": [
    {
     "name": "stdout",
     "output_type": "stream",
     "text": [
      "sagemaker.config INFO - Not applying SDK defaults from location: /etc/xdg/sagemaker/config.yaml\n",
      "sagemaker.config INFO - Not applying SDK defaults from location: /home/sagemaker-user/.config/sagemaker/config.yaml\n",
      "boto3 version: 1.40.18\n",
      "sagemaker version: 2.251.0\n"
     ]
    }
   ],
   "source": [
    "import sagemaker\n",
    "import boto3\n",
    "import json\n",
    "\n",
    "print(f\"boto3 version: {boto3.__version__}\")\n",
    "print(f\"sagemaker version: {sagemaker.__version__}\")"
   ]
  },
  {
   "cell_type": "markdown",
   "id": "11a27613-3975-4ddd-80ee-d22990647978",
   "metadata": {},
   "source": [
    "### 1.3 Configure development environment and boto3 clients"
   ]
  },
  {
   "cell_type": "code",
   "execution_count": 2,
   "id": "94eba2f6-e1b6-41c6-94d1-2b2bfbe3308b",
   "metadata": {
    "tags": []
   },
   "outputs": [
    {
     "name": "stdout",
     "output_type": "stream",
     "text": [
      "sagemaker-us-east-1-230904922206\n"
     ]
    }
   ],
   "source": [
    "role = sagemaker.get_execution_role() # execution role for the endpoint\n",
    "sess = sagemaker.session.Session()  # sagemaker session for interacting with different AWS APIs\n",
    "bucket = sess.default_bucket()  # bucket to house artifacts\n",
    "region = sess._region_name\n",
    "\n",
    "sm_client = boto3.client(service_name=\"sagemaker\")\n",
    "sm_runtime = boto3.client(service_name=\"sagemaker-runtime\")\n",
    "print(bucket)"
   ]
  },
  {
   "cell_type": "markdown",
   "id": "2e58cf33",
   "metadata": {},
   "source": [
    "## Step 2: Deploy a Base model to SageMaker IC-based endpoint\n",
    "\n"
   ]
  },
  {
   "cell_type": "markdown",
   "id": "3f52d91b-af19-4763-8584-0e1c8f3d531e",
   "metadata": {},
   "source": [
    "### 2.1 Select a Large Model Inference (LMI) container image"
   ]
  },
  {
   "cell_type": "markdown",
   "id": "6dbef0bb-14ce-47e9-b99f-7cdd4afe7f7c",
   "metadata": {},
   "source": [
    "Select one of the [available Large Model Inference (LMI) container images for hosting](https://github.com/aws/deep-learning-containers/blob/master/available_images.md#large-model-inference-containers). Efficient adapter inference capability is available in `0.33.0-lmi14.0.0` and higher. Ensure that you are using the image URI for the region that corresponds with your deployment region."
   ]
  },
  {
   "cell_type": "code",
   "execution_count": 4,
   "id": "7a174b36",
   "metadata": {
    "tags": []
   },
   "outputs": [
    {
     "name": "stdout",
     "output_type": "stream",
     "text": [
      "Inference container image : 763104351884.dkr.ecr.us-east-1.amazonaws.com/djl-inference:0.32.0-lmi14.0.0-cu124\n"
     ]
    }
   ],
   "source": [
    "inference_image_uri = f\"763104351884.dkr.ecr.{region}.amazonaws.com/djl-inference:0.32.0-lmi14.0.0-cu124\"\n",
    "\n",
    "print(f\"Inference container image : {inference_image_uri}\")"
   ]
  },
  {
   "cell_type": "markdown",
   "id": "09491292-b7cc-47ac-a1ca-136b5ad5fa86",
   "metadata": {},
   "source": [
    "### 2.2 Configure model container environment\n",
    "\n",
    "Create an container environment for the hosting container. LMI container parameters can be found in the [LMI User Guides](https://docs.djl.ai/master/docs/serving/serving/docs/lmi/user_guides/index.html).\n",
    "\n",
    "By using the `OPTION_MAX_LORAS` and `OPTION_MAX_CPU_LORAS` parameters, you can control how adapters are loaded and unloaded into GPU/CPU memory. The `OPTION_MAX_LORAS` parameter defines the number of adapters that will be held in GPU memory. The `OPTION_MAX_CPU_LORAS` parameter controls the number of adapters that will be held in CPU memory. It is important to note that adapters which are loaded to GPU have to be precached in CPU memory and will occupy space in the CPU cache. This means `OPTION_MAX_CPU_LORAS` should be set to `OPTION_MAX_LORAS + <number of adapters you want to cache in CPU>`. Any adapters beyond this will be offloaded to local SSD. \n",
    "\n",
    "In the following example, the container will hold 30 adapters in GPU memory, and 70 adapters in CPU memory. Out of the 70, 30 will be precached adapters that already reside in GPU, leaving you with 40 slots free.\n",
    "\n",
    "```\n",
    "env = {\n",
    "    \"HF_MODEL_ID\": f\"{s3_model_path}\",\n",
    "    \"OPTION_ROLLING_BATCH\": \"lmi-dist\",\n",
    "    \"OPTION_MAX_ROLLING_BATCH_SIZE\": \"16\",\n",
    "    \"OPTION_TENSOR_PARALLEL_DEGREE\": \"max\",\n",
    "    \"OPTION_ENABLE_LORA\": \"true\",\n",
    "    \"OPTION_MAX_LORAS\": \"30\",\n",
    "    \"OPTION_MAX_CPU_LORAS\": \"70\",\n",
    "    \"OPTION_DTYPE\": \"fp16\",\n",
    "    \"OPTION_MAX_MODEL_LEN\": \"6000\"\n",
    "}\n",
    "```\n"
   ]
  },
  {
   "cell_type": "markdown",
   "id": "e0189411-799d-48d4-9cb7-8935b609da22",
   "metadata": {},
   "source": [
    "Later in this workshop you will test scenarios where you will force adapters to swap between different tiers. To make this easier, you will set the `OPTION_MAX_LORAS` property to `1` and the `OPTION_MAX_CPU_LORAS` to `2`. This will allow you to hold 1 adapter in GPU memory and 1 in CPU memory (plus 1 precached from GPU) before moving adapters to disk."
   ]
  },
  {
   "cell_type": "markdown",
   "id": "db1717b6-3d6d-4170-ae4c-4a6e277ccc7d",
   "metadata": {},
   "source": [
    "### 2.3 Options to deploy base model\n",
    "\n",
    "You can deploy the base model on SageMaker endpoint from several sources:\n",
    "- Option 1 : SageMaker JumpStart(**Use this for AWS provisioned lab**)\n",
    "- Option 2 : HuggingFace model hub \n",
    "- Option 3 : Amazon S3 bucket \n",
    "\n",
    "**Note: Please choose only ONE deployment option below**\n"
   ]
  },
  {
   "cell_type": "markdown",
   "id": "3b224dc8-ff1f-4ac1-a508-c5a9e1b75374",
   "metadata": {},
   "source": [
    "### 2.3 Option 1: Deploy a model from SageMaker JumpStart"
   ]
  },
  {
   "cell_type": "code",
   "execution_count": 5,
   "id": "741d59fd-d135-462d-8611-9205032eeb7b",
   "metadata": {},
   "outputs": [
    {
     "name": "stdout",
     "output_type": "stream",
     "text": [
      "----!------------------!"
     ]
    },
    {
     "data": {
      "text/plain": [
       "<sagemaker.base_predictor.Predictor at 0x7f009a062900>"
      ]
     },
     "execution_count": 5,
     "metadata": {},
     "output_type": "execute_result"
    }
   ],
   "source": [
    "from sagemaker.jumpstart.model import JumpStartModel\n",
    "from sagemaker.compute_resource_requirements.resource_requirements import ResourceRequirements\n",
    "\n",
    "model_id, model_version = \"meta-textgeneration-llama-3-1-8b-instruct\", \"2.7.2\"\n",
    "\n",
    "model_name = endpoint_name = sagemaker.utils.name_from_base(\"test\")\n",
    "base_inference_component_name = \"base-\" + model_name\n",
    "\n",
    "env = {\n",
    "    \"HF_MODEL_ID\": \"/opt/ml/model\",\n",
    "    \"OPTION_ROLLING_BATCH\": \"lmi-dist\",\n",
    "    \"OPTION_MAX_ROLLING_BATCH_SIZE\": \"16\",\n",
    "    \"OPTION_TENSOR_PARALLEL_DEGREE\": \"max\",\n",
    "    \"OPTION_ENABLE_LORA\": \"true\",\n",
    "    \"OPTION_MAX_LORAS\": \"1\",\n",
    "    \"OPTION_MAX_CPU_LORAS\": \"2\",\n",
    "    \"OPTION_DTYPE\": \"fp16\",\n",
    "    \"OPTION_MAX_MODEL_LEN\": \"6000\"\n",
    "}\n",
    "\n",
    "jumpstart_model = JumpStartModel(model_id=model_id, \n",
    "                                 model_version=model_version, \n",
    "                                 name=model_name,\n",
    "                                 image_uri=inference_image_uri,\n",
    "                                 env=env)\n",
    "\n",
    "jumpstart_model.deploy(\n",
    "    accept_eula=True,\n",
    "    instance_type=\"ml.g5.2xlarge\",\n",
    "    initial_instance_count=1,\n",
    "    container_startup_health_check_timeout=900,\n",
    "    endpoint_name=endpoint_name,\n",
    "    endpoint_type=sagemaker.enums.EndpointType.INFERENCE_COMPONENT_BASED,\n",
    "    inference_component_name=base_inference_component_name,\n",
    "    resources=ResourceRequirements(requests={\"num_accelerators\": 1, \"memory\": 4096, \"copies\": 1,}),\n",
    ")"
   ]
  },
  {
   "cell_type": "markdown",
   "id": "9e49cdd8-03c9-48ee-966d-35760f8ef1ce",
   "metadata": {
    "jp-MarkdownHeadingCollapsed": true
   },
   "source": [
    "### 2.3 Option 2: Deploy a model from HuggingFace model hub( Skip)"
   ]
  },
  {
   "cell_type": "code",
   "execution_count": null,
   "id": "7c3f397a-b5bf-48da-acb1-b1564e842e02",
   "metadata": {},
   "outputs": [],
   "source": [
    "from sagemaker.compute_resource_requirements.resource_requirements import ResourceRequirements\n",
    "\n",
    "model_id = \"meta-llama/Llama-3.1-8B-Instruct\"\n",
    "\n",
    "model_name = endpoint_name = sagemaker.utils.name_from_base(\"test\")\n",
    "base_inference_component_name = \"base-\" + model_name\n",
    "\n",
    "env = {\n",
    "    \"HF_MODEL_ID\": model_id,\n",
    "    \"HF_TOKEN\": \"<YOUR_HF_TOKEN>\",\n",
    "    \"OPTION_ROLLING_BATCH\": \"lmi-dist\",\n",
    "    \"OPTION_MAX_ROLLING_BATCH_SIZE\": \"16\",\n",
    "    \"OPTION_TENSOR_PARALLEL_DEGREE\": \"max\",\n",
    "    \"OPTION_ENABLE_LORA\": \"true\",\n",
    "    \"OPTION_MAX_LORAS\": \"1\",\n",
    "    \"OPTION_MAX_CPU_LORAS\": \"2\",\n",
    "    \"OPTION_DTYPE\": \"fp16\",\n",
    "    \"OPTION_MAX_MODEL_LEN\": \"6000\"\n",
    "}\n",
    "\n",
    "lmi_model = sagemaker.Model(image_uri = inference_image_uri,\n",
    "                            env = env,\n",
    "                            role = role,\n",
    "                            name = model_name)\n",
    "\n",
    "\n",
    "lmi_model.deploy(instance_type = \"ml.g5.2xlarge\",\n",
    "                 initial_instance_count = 1,\n",
    "                 container_startup_health_check_timeout = 900,\n",
    "                 endpoint_name = endpoint_name,\n",
    "                 endpoint_type = sagemaker.enums.EndpointType.INFERENCE_COMPONENT_BASED,\n",
    "                 inference_component_name = base_inference_component_name,\n",
    "                 resources = ResourceRequirements(requests={\"num_accelerators\": 1, \"memory\": 4096, \"copies\": 1}))"
   ]
  },
  {
   "cell_type": "markdown",
   "id": "b92e0abf-48a8-4c2c-9b13-952693b8fe4b",
   "metadata": {
    "jp-MarkdownHeadingCollapsed": true
   },
   "source": [
    "### 2.3 Option 3: S3 bucket (Skip)"
   ]
  },
  {
   "cell_type": "code",
   "execution_count": null,
   "id": "71882768-861c-4232-b1e7-1955864dc674",
   "metadata": {},
   "outputs": [],
   "source": [
    "from sagemaker.compute_resource_requirements.resource_requirements import ResourceRequirements\n",
    "\n",
    "model_id = \"s3://YOUR_BUCKET\"\n",
    "\n",
    "model_name = endpoint_name = sagemaker.utils.name_from_base(\"test\")\n",
    "base_inference_component_name = \"base-\" + model_name\n",
    "\n",
    "env = {\n",
    "    \"HF_MODEL_ID\": model_id,\n",
    "    \"OPTION_ROLLING_BATCH\": \"lmi-dist\",\n",
    "    \"OPTION_MAX_ROLLING_BATCH_SIZE\": \"16\",\n",
    "    \"OPTION_TENSOR_PARALLEL_DEGREE\": \"max\",\n",
    "    \"OPTION_ENABLE_LORA\": \"true\",\n",
    "    \"OPTION_MAX_LORAS\": \"1\",\n",
    "    \"OPTION_MAX_CPU_LORAS\": \"2\",\n",
    "    \"OPTION_DTYPE\": \"fp16\",\n",
    "    \"OPTION_MAX_MODEL_LEN\": \"6000\"\n",
    "}\n",
    "\n",
    "lmi_model = sagemaker.Model(image_uri = inference_image_uri,\n",
    "                            env = env,\n",
    "                            role = role,\n",
    "                            name = model_name)\n",
    "\n",
    "\n",
    "lmi_model.deploy(instance_type = \"ml.g5.2xlarge\",\n",
    "                 initial_instance_count = 1,\n",
    "                 container_startup_health_check_timeout = 900,\n",
    "                 endpoint_name = endpoint_name,\n",
    "                 endpoint_type = sagemaker.enums.EndpointType.INFERENCE_COMPONENT_BASED,\n",
    "                 inference_component_name = base_inference_component_name,\n",
    "                 resources = ResourceRequirements(requests={\"num_accelerators\": 1, \"memory\": 4096, \"copies\": 1}))"
   ]
  },
  {
   "cell_type": "markdown",
   "id": "761490c5-fd56-4251-88ca-4479a7254032",
   "metadata": {},
   "source": [
    "### 2.4 View logs for the base inference component (and adapters after they're loaded)"
   ]
  },
  {
   "cell_type": "code",
   "execution_count": 6,
   "id": "89f5d691-7ca6-4947-8286-bade442fc5ff",
   "metadata": {},
   "outputs": [
    {
     "name": "stdout",
     "output_type": "stream",
     "text": [
      "You can view your inference component logs here:\n",
      "\n",
      " https://us-east-1.console.aws.amazon.com/cloudwatch/home?region=us-east-1#logsV2:log-groups/log-group/%2Faws%2Fsagemaker%2FInferenceComponents%2Fbase-test-2025-08-28-19-54-59-710\n"
     ]
    }
   ],
   "source": [
    "import urllib\n",
    "\n",
    "cw_path = urllib.parse.quote_plus(f'/aws/sagemaker/InferenceComponents/{base_inference_component_name}', safe='', encoding=None, errors=None)\n",
    "\n",
    "print(f'You can view your inference component logs here:\\n\\n https://{region}.console.aws.amazon.com/cloudwatch/home?region={region}#logsV2:log-groups/log-group/{cw_path}')"
   ]
  },
  {
   "cell_type": "markdown",
   "id": "0ff0f789-57fc-4016-8758-5b60ac7d797c",
   "metadata": {},
   "source": [
    "### 2.5 Create the Inference Components (ICs) for the adapters\n",
    "\n",
    "In this example you’ll create a single adapter, but you could host up to hundreds of them per endpoint. They will need to be compressed and uploaded to S3.\n",
    "\n",
    "The adapter package has the following files at the root of the archive with no sub-folders:\n",
    "\n",
    "![](./images/adapter_files.png)\n",
    "\n",
    "For this example, an adapter was fine tuned using QLoRA and [Fully Sharded Data Parallel (FSDP)](https://docs.aws.amazon.com/sagemaker/latest/dg/model-parallel-v2.html) on the training split of the [ECTSum dataset](https://huggingface.co/datasets/mrSoul7766/ECTSum). Training took 21 minutes on a ml.p4d.24xlarge and cost ~$13 using current [on-demand pricing](https://aws.amazon.com/sagemaker/pricing/)."
   ]
  },
  {
   "cell_type": "markdown",
   "id": "e3ed24d7-5af5-4703-aaed-bc1ca2515de6",
   "metadata": {},
   "source": [
    "### 2.6 Copy the compressed local adapter ectsum-adapter.tar.gz to S3"
   ]
  },
  {
   "cell_type": "code",
   "execution_count": 7,
   "id": "68fc5c97-e2cd-4665-8174-33c718035f39",
   "metadata": {},
   "outputs": [
    {
     "name": "stdout",
     "output_type": "stream",
     "text": [
      "s3://sagemaker-us-east-1-230904922206/adapters/ectsum-adapter.tar.gz\n",
      "upload: ./ectsum-adapter.tar.gz to s3://sagemaker-us-east-1-230904922206/adapters/ectsum-adapter.tar.gz\n"
     ]
    }
   ],
   "source": [
    "ectsum_adapter_filename = \"ectsum-adapter.tar.gz\"\n",
    "ectsum_adapter_s3_uri = f\"s3://{bucket}/adapters/{ectsum_adapter_filename}\"\n",
    "print(ectsum_adapter_s3_uri)\n",
    "\n",
    "!aws s3 cp ./{ectsum_adapter_filename} {ectsum_adapter_s3_uri}"
   ]
  },
  {
   "cell_type": "markdown",
   "id": "2a46534a-056a-4710-9cdd-d71bd42b883b",
   "metadata": {},
   "source": [
    "### 2.7 Create ECTSum adapter inference component\n",
    "\n",
    "For each adapter that you are going to deploy, you need to specify an **`InferenceComponentName`**, an **`ArtifactUrl`** with the S3 location of the adapter archive, and a **`BaseInferenceComponentName`** to create the connection between the base model IC and the new adapter ICs. You will repeat this process for each additional adapter."
   ]
  },
  {
   "cell_type": "markdown",
   "id": "f7e64b79-605c-4888-9ec0-6e395550b13c",
   "metadata": {},
   "source": [
    "#### This step can take around 2 minutes"
   ]
  },
  {
   "cell_type": "code",
   "execution_count": 8,
   "id": "5ade7085-0d71-4ac3-a4cc-a96774a57f0f",
   "metadata": {},
   "outputs": [
    {
     "name": "stdout",
     "output_type": "stream",
     "text": [
      "------!\n",
      "Created Adapter inference component ARN: arn:aws:sagemaker:us-east-1:230904922206:inference-component/ic1-ectsum-test-2025-08-28-19-54-59-710\n",
      "CPU times: user 51.9 ms, sys: 2.86 ms, total: 54.7 ms\n",
      "Wall time: 2min 21s\n"
     ]
    }
   ],
   "source": [
    "%%time\n",
    "\n",
    "ic1_adapter_name = f\"ic1-ectsum-{model_name}\"\n",
    "\n",
    "adapter_create_inference_component_response = sm_client.create_inference_component(\n",
    "    InferenceComponentName = ic1_adapter_name,\n",
    "    EndpointName = endpoint_name,\n",
    "    Specification={\n",
    "        \"BaseInferenceComponentName\": base_inference_component_name,\n",
    "        \"Container\": {\n",
    "            \"ArtifactUrl\": ectsum_adapter_s3_uri\n",
    "        },\n",
    "    },\n",
    ")\n",
    "\n",
    "sess.wait_for_inference_component(ic1_adapter_name)\n",
    "\n",
    "print(f\"\\nCreated Adapter inference component ARN: {adapter_create_inference_component_response['InferenceComponentArn']}\")"
   ]
  },
  {
   "cell_type": "markdown",
   "id": "5a49ff5d-9ef8-4bd5-9537-bb057a6d941e",
   "metadata": {},
   "source": [
    "### 2.8 View Cloudwatch Inference logs \n",
    "Look at base inference component logs again. It should show a line that looks like:\n",
    "\n",
    "`Registered adapter <ADAPTER_NAME> from /opt/ml/models/ ... successfully`."
   ]
  },
  {
   "cell_type": "code",
   "execution_count": 9,
   "id": "52e3339c-b636-499b-95af-43498202a12c",
   "metadata": {},
   "outputs": [
    {
     "name": "stdout",
     "output_type": "stream",
     "text": [
      "You can view your inference component logs here:\n",
      "\n",
      " https://us-east-1.console.aws.amazon.com/cloudwatch/home?region=us-east-1#logsV2:log-groups/log-group/%2Faws%2Fsagemaker%2FInferenceComponents%2Fbase-test-2025-08-28-19-54-59-710\n"
     ]
    }
   ],
   "source": [
    "print(f'You can view your inference component logs here:\\n\\n https://{region}.console.aws.amazon.com/cloudwatch/home?region={region}#logsV2:log-groups/log-group/{cw_path}')"
   ]
  },
  {
   "cell_type": "markdown",
   "id": "58be20f4-15ba-4659-b8a9-358e79e7c119",
   "metadata": {},
   "source": [
    "## Step 3: Invoking the Endpoint"
   ]
  },
  {
   "cell_type": "markdown",
   "id": "1cfd6344-6ecc-4abd-90e5-1dac9c0c9d5d",
   "metadata": {},
   "source": [
    "### 3.1 Get sample dataset \n",
    "First you will pull a random datapoint form the ECTSum test split. You'll use the `text` field to invoke the model and the `summary` filed to compare with ground truth later."
   ]
  },
  {
   "cell_type": "code",
   "execution_count": 10,
   "id": "24b84715-2d62-4180-9ab9-4d257be94b22",
   "metadata": {},
   "outputs": [
    {
     "name": "stdout",
     "output_type": "stream",
     "text": [
      "sample_size 2077.25\n"
     ]
    }
   ],
   "source": [
    "from datasets import load_dataset\n",
    "dataset_name = \"mrSoul7766/ECTSum\"\n",
    "\n",
    "test_dataset = load_dataset(dataset_name, split=\"test\")\n",
    "\n",
    "#due to GPU memory limitations on ml.g5.2xlarge, we have limited the max sequence length to 6000 tokens. \n",
    "#Some of the ECTSum samples are too large.\n",
    "#This code will loop until it gets a sample that is < 5500 so that inference does not throw errors.\n",
    "\n",
    "valid_test_value = False\n",
    "while not valid_test_value:\n",
    "    test_item = test_dataset.shuffle().select(range(1))\n",
    "    sample_size = len(test_item[\"text\"][0])/4\n",
    "    if sample_size > 5500:\n",
    "        print(f'sample size {sample_size} > 5500, fetching new sample.')\n",
    "    else:\n",
    "        print(f'sample_size {sample_size}')\n",
    "        valid_test_value = True\n",
    "\n",
    "ground_truth_response = test_item[\"summary\"]"
   ]
  },
  {
   "cell_type": "markdown",
   "id": "19b32ab6-38ec-4137-bf1c-0b30aa25f32a",
   "metadata": {},
   "source": [
    "### 3.2 Create the prompt to invoke the LLM\n",
    "Next you will build a prompt **to invoke the model for earnings summarization**, filling in the source text with a random item from the ECTSum dataset. "
   ]
  },
  {
   "cell_type": "code",
   "execution_count": 11,
   "id": "a688e97f-92be-426b-9e34-cf90c8e51d23",
   "metadata": {},
   "outputs": [],
   "source": [
    "prompt =f\"\"\"<|begin_of_text|><|start_header_id|>system<|end_header_id|>\n",
    "                You are an AI assistant trained to summarize earnings calls. Provide a concise summary of the call, capturing the key points and overall context. Focus on quarter over quarter revenue, earnings per share, changes in debt, highlighted risks, and growth opportunities.\n",
    "                <|eot_id|><|start_header_id|>user<|end_header_id|>\n",
    "                Summarize the following earnings call:\n",
    "\n",
    "                {test_item[\"text\"]}\n",
    "                <|eot_id|><|start_header_id|>assistant<|end_header_id|>\"\"\""
   ]
  },
  {
   "cell_type": "markdown",
   "id": "df59c49c-e5d0-4567-b301-7d36bf4a70b9",
   "metadata": {},
   "source": [
    "### 3.3 Invoke base model without any adapters and observe response\n",
    "\n",
    "To test the base model, specify the `EndpointName` for the endpoint you created earlier and the name of the base inference component as `InferenceComponentName` along with your prompt and other inference parameters in the `Body` parameter."
   ]
  },
  {
   "cell_type": "code",
   "execution_count": 22,
   "id": "993ac417-6a69-4ad9-a311-0bc7f0de5b72",
   "metadata": {
    "tags": []
   },
   "outputs": [
    {
     "data": {
      "text/html": [
       "<pre style=\"white-space:pre;overflow-x:auto;line-height:normal;font-family:Menlo,'DejaVu Sans Mono',consolas,'Courier New',monospace\"><span style=\"color: #ff0000; text-decoration-color: #ff0000\">╭─────────────────────────────── </span><span style=\"color: #ff0000; text-decoration-color: #ff0000; font-weight: bold\">Traceback </span><span style=\"color: #ff7f7f; text-decoration-color: #ff7f7f; font-weight: bold\">(most recent call last)</span><span style=\"color: #ff0000; text-decoration-color: #ff0000\"> ────────────────────────────────╮</span>\n",
       "<span style=\"color: #ff0000; text-decoration-color: #ff0000\">│</span> <span style=\"color: #7f7f7f; text-decoration-color: #7f7f7f\">/opt/conda/lib/python3.12/site-packages/IPython/core/magics/</span><span style=\"font-weight: bold\">execution.py</span>:1364 in time            <span style=\"color: #ff0000; text-decoration-color: #ff0000\">│</span>\n",
       "<span style=\"color: #ff0000; text-decoration-color: #ff0000\">│</span>                                                                                                  <span style=\"color: #ff0000; text-decoration-color: #ff0000\">│</span>\n",
       "<span style=\"color: #ff0000; text-decoration-color: #ff0000\">│</span>   <span style=\"color: #7f7f7f; text-decoration-color: #7f7f7f\">1361 </span><span style=\"color: #7f7f7f; text-decoration-color: #7f7f7f\">│   │   </span><span style=\"color: #0000ff; text-decoration-color: #0000ff\">else</span>:                                                                             <span style=\"color: #ff0000; text-decoration-color: #ff0000\">│</span>\n",
       "<span style=\"color: #ff0000; text-decoration-color: #ff0000\">│</span>   <span style=\"color: #7f7f7f; text-decoration-color: #7f7f7f\">1362 </span><span style=\"color: #7f7f7f; text-decoration-color: #7f7f7f\">│   │   │   </span>st = clock2()                                                                 <span style=\"color: #ff0000; text-decoration-color: #ff0000\">│</span>\n",
       "<span style=\"color: #ff0000; text-decoration-color: #ff0000\">│</span>   <span style=\"color: #7f7f7f; text-decoration-color: #7f7f7f\">1363 </span><span style=\"color: #7f7f7f; text-decoration-color: #7f7f7f\">│   │   │   </span><span style=\"color: #0000ff; text-decoration-color: #0000ff\">try</span>:                                                                          <span style=\"color: #ff0000; text-decoration-color: #ff0000\">│</span>\n",
       "<span style=\"color: #ff0000; text-decoration-color: #ff0000\">│</span> <span style=\"color: #800000; text-decoration-color: #800000\">❱ </span>1364 <span style=\"color: #7f7f7f; text-decoration-color: #7f7f7f\">│   │   │   │   </span>exec(code, glob, local_ns)                                                <span style=\"color: #ff0000; text-decoration-color: #ff0000\">│</span>\n",
       "<span style=\"color: #ff0000; text-decoration-color: #ff0000\">│</span>   <span style=\"color: #7f7f7f; text-decoration-color: #7f7f7f\">1365 </span><span style=\"color: #7f7f7f; text-decoration-color: #7f7f7f\">│   │   │   │   </span>out=<span style=\"color: #0000ff; text-decoration-color: #0000ff\">None</span>                                                                  <span style=\"color: #ff0000; text-decoration-color: #ff0000\">│</span>\n",
       "<span style=\"color: #ff0000; text-decoration-color: #ff0000\">│</span>   <span style=\"color: #7f7f7f; text-decoration-color: #7f7f7f\">1366 </span><span style=\"color: #7f7f7f; text-decoration-color: #7f7f7f\">│   │   │   │   </span><span style=\"color: #7f7f7f; text-decoration-color: #7f7f7f\"># multi-line %%time case</span>                                                  <span style=\"color: #ff0000; text-decoration-color: #ff0000\">│</span>\n",
       "<span style=\"color: #ff0000; text-decoration-color: #ff0000\">│</span>   <span style=\"color: #7f7f7f; text-decoration-color: #7f7f7f\">1367 </span><span style=\"color: #7f7f7f; text-decoration-color: #7f7f7f\">│   │   │   │   </span><span style=\"color: #0000ff; text-decoration-color: #0000ff\">if</span> expr_val <span style=\"color: #ff00ff; text-decoration-color: #ff00ff\">is</span> <span style=\"color: #ff00ff; text-decoration-color: #ff00ff\">not</span> <span style=\"color: #0000ff; text-decoration-color: #0000ff\">None</span>:                                                  <span style=\"color: #ff0000; text-decoration-color: #ff0000\">│</span>\n",
       "<span style=\"color: #ff0000; text-decoration-color: #ff0000\">│</span> in &lt;module&gt;:3                                                                                    <span style=\"color: #ff0000; text-decoration-color: #ff0000\">│</span>\n",
       "<span style=\"color: #ff0000; text-decoration-color: #ff0000\">│</span>                                                                                                  <span style=\"color: #ff0000; text-decoration-color: #ff0000\">│</span>\n",
       "<span style=\"color: #ff0000; text-decoration-color: #ff0000\">│</span> <span style=\"color: #7f7f7f; text-decoration-color: #7f7f7f\">/opt/conda/lib/python3.12/site-packages/botocore/</span><span style=\"font-weight: bold\">client.py</span>:602 in _api_call                      <span style=\"color: #ff0000; text-decoration-color: #ff0000\">│</span>\n",
       "<span style=\"color: #ff0000; text-decoration-color: #ff0000\">│</span>                                                                                                  <span style=\"color: #ff0000; text-decoration-color: #ff0000\">│</span>\n",
       "<span style=\"color: #ff0000; text-decoration-color: #ff0000\">│</span>   <span style=\"color: #7f7f7f; text-decoration-color: #7f7f7f\"> 599 </span><span style=\"color: #7f7f7f; text-decoration-color: #7f7f7f\">│   │   │   │   │   </span><span style=\"color: #808000; text-decoration-color: #808000\">f\"{</span>py_operation_name<span style=\"color: #808000; text-decoration-color: #808000\">}() only accepts keyword arguments.\"</span>              <span style=\"color: #ff0000; text-decoration-color: #ff0000\">│</span>\n",
       "<span style=\"color: #ff0000; text-decoration-color: #ff0000\">│</span>   <span style=\"color: #7f7f7f; text-decoration-color: #7f7f7f\"> 600 </span><span style=\"color: #7f7f7f; text-decoration-color: #7f7f7f\">│   │   │   │   </span>)                                                                         <span style=\"color: #ff0000; text-decoration-color: #ff0000\">│</span>\n",
       "<span style=\"color: #ff0000; text-decoration-color: #ff0000\">│</span>   <span style=\"color: #7f7f7f; text-decoration-color: #7f7f7f\"> 601 </span><span style=\"color: #7f7f7f; text-decoration-color: #7f7f7f\">│   │   │   </span><span style=\"color: #7f7f7f; text-decoration-color: #7f7f7f\"># The \"self\" in this scope is referring to the BaseClient.</span>                    <span style=\"color: #ff0000; text-decoration-color: #ff0000\">│</span>\n",
       "<span style=\"color: #ff0000; text-decoration-color: #ff0000\">│</span> <span style=\"color: #800000; text-decoration-color: #800000\">❱ </span> 602 <span style=\"color: #7f7f7f; text-decoration-color: #7f7f7f\">│   │   │   </span><span style=\"color: #0000ff; text-decoration-color: #0000ff\">return</span> <span style=\"color: #00ffff; text-decoration-color: #00ffff; font-weight: bold; text-decoration: underline\">self</span><span style=\"font-weight: bold; text-decoration: underline\">._make_api_call(operation_name, kwargs)</span>                            <span style=\"color: #ff0000; text-decoration-color: #ff0000\">│</span>\n",
       "<span style=\"color: #ff0000; text-decoration-color: #ff0000\">│</span>   <span style=\"color: #7f7f7f; text-decoration-color: #7f7f7f\"> 603 </span><span style=\"color: #7f7f7f; text-decoration-color: #7f7f7f\">│   │   </span>                                                                                  <span style=\"color: #ff0000; text-decoration-color: #ff0000\">│</span>\n",
       "<span style=\"color: #ff0000; text-decoration-color: #ff0000\">│</span>   <span style=\"color: #7f7f7f; text-decoration-color: #7f7f7f\"> 604 </span><span style=\"color: #7f7f7f; text-decoration-color: #7f7f7f\">│   │   </span>_api_call.<span style=\"color: #ff0000; text-decoration-color: #ff0000\">__name__</span> = <span style=\"color: #00ffff; text-decoration-color: #00ffff\">str</span>(py_operation_name)                                       <span style=\"color: #ff0000; text-decoration-color: #ff0000\">│</span>\n",
       "<span style=\"color: #ff0000; text-decoration-color: #ff0000\">│</span>   <span style=\"color: #7f7f7f; text-decoration-color: #7f7f7f\"> 605 </span>                                                                                          <span style=\"color: #ff0000; text-decoration-color: #ff0000\">│</span>\n",
       "<span style=\"color: #ff0000; text-decoration-color: #ff0000\">│</span>                                                                                                  <span style=\"color: #ff0000; text-decoration-color: #ff0000\">│</span>\n",
       "<span style=\"color: #ff0000; text-decoration-color: #ff0000\">│</span> <span style=\"color: #7f7f7f; text-decoration-color: #7f7f7f\">/opt/conda/lib/python3.12/site-packages/botocore/</span><span style=\"font-weight: bold\">context.py</span>:123 in wrapper                       <span style=\"color: #ff0000; text-decoration-color: #ff0000\">│</span>\n",
       "<span style=\"color: #ff0000; text-decoration-color: #ff0000\">│</span>                                                                                                  <span style=\"color: #ff0000; text-decoration-color: #ff0000\">│</span>\n",
       "<span style=\"color: #ff0000; text-decoration-color: #ff0000\">│</span>   <span style=\"color: #7f7f7f; text-decoration-color: #7f7f7f\">120 </span><span style=\"color: #7f7f7f; text-decoration-color: #7f7f7f\">│   │   │   </span><span style=\"color: #0000ff; text-decoration-color: #0000ff\">with</span> start_as_current_context():                                               <span style=\"color: #ff0000; text-decoration-color: #ff0000\">│</span>\n",
       "<span style=\"color: #ff0000; text-decoration-color: #ff0000\">│</span>   <span style=\"color: #7f7f7f; text-decoration-color: #7f7f7f\">121 </span><span style=\"color: #7f7f7f; text-decoration-color: #7f7f7f\">│   │   │   │   </span><span style=\"color: #0000ff; text-decoration-color: #0000ff\">if</span> hook:                                                                   <span style=\"color: #ff0000; text-decoration-color: #ff0000\">│</span>\n",
       "<span style=\"color: #ff0000; text-decoration-color: #ff0000\">│</span>   <span style=\"color: #7f7f7f; text-decoration-color: #7f7f7f\">122 </span><span style=\"color: #7f7f7f; text-decoration-color: #7f7f7f\">│   │   │   │   │   </span>hook()                                                                 <span style=\"color: #ff0000; text-decoration-color: #ff0000\">│</span>\n",
       "<span style=\"color: #ff0000; text-decoration-color: #ff0000\">│</span> <span style=\"color: #800000; text-decoration-color: #800000\">❱ </span>123 <span style=\"color: #7f7f7f; text-decoration-color: #7f7f7f\">│   │   │   │   </span><span style=\"color: #0000ff; text-decoration-color: #0000ff\">return</span> <span style=\"font-weight: bold; text-decoration: underline\">func(*args, **kwargs)</span>                                               <span style=\"color: #ff0000; text-decoration-color: #ff0000\">│</span>\n",
       "<span style=\"color: #ff0000; text-decoration-color: #ff0000\">│</span>   <span style=\"color: #7f7f7f; text-decoration-color: #7f7f7f\">124 </span><span style=\"color: #7f7f7f; text-decoration-color: #7f7f7f\">│   │   </span>                                                                                   <span style=\"color: #ff0000; text-decoration-color: #ff0000\">│</span>\n",
       "<span style=\"color: #ff0000; text-decoration-color: #ff0000\">│</span>   <span style=\"color: #7f7f7f; text-decoration-color: #7f7f7f\">125 </span><span style=\"color: #7f7f7f; text-decoration-color: #7f7f7f\">│   │   </span><span style=\"color: #0000ff; text-decoration-color: #0000ff\">return</span> wrapper                                                                     <span style=\"color: #ff0000; text-decoration-color: #ff0000\">│</span>\n",
       "<span style=\"color: #ff0000; text-decoration-color: #ff0000\">│</span>   <span style=\"color: #7f7f7f; text-decoration-color: #7f7f7f\">126 </span>                                                                                           <span style=\"color: #ff0000; text-decoration-color: #ff0000\">│</span>\n",
       "<span style=\"color: #ff0000; text-decoration-color: #ff0000\">│</span>                                                                                                  <span style=\"color: #ff0000; text-decoration-color: #ff0000\">│</span>\n",
       "<span style=\"color: #ff0000; text-decoration-color: #ff0000\">│</span> <span style=\"color: #7f7f7f; text-decoration-color: #7f7f7f\">/opt/conda/lib/python3.12/site-packages/botocore/</span><span style=\"font-weight: bold\">client.py</span>:1060 in _make_api_call                <span style=\"color: #ff0000; text-decoration-color: #ff0000\">│</span>\n",
       "<span style=\"color: #ff0000; text-decoration-color: #ff0000\">│</span>                                                                                                  <span style=\"color: #ff0000; text-decoration-color: #ff0000\">│</span>\n",
       "<span style=\"color: #ff0000; text-decoration-color: #ff0000\">│</span>   <span style=\"color: #7f7f7f; text-decoration-color: #7f7f7f\">1057 </span><span style=\"color: #7f7f7f; text-decoration-color: #7f7f7f\">│   │   │   │   </span><span style=\"color: #00ffff; text-decoration-color: #00ffff\">self</span>.meta.config, request_dict, operation_model                           <span style=\"color: #ff0000; text-decoration-color: #ff0000\">│</span>\n",
       "<span style=\"color: #ff0000; text-decoration-color: #ff0000\">│</span>   <span style=\"color: #7f7f7f; text-decoration-color: #7f7f7f\">1058 </span><span style=\"color: #7f7f7f; text-decoration-color: #7f7f7f\">│   │   │   </span>)                                                                             <span style=\"color: #ff0000; text-decoration-color: #ff0000\">│</span>\n",
       "<span style=\"color: #ff0000; text-decoration-color: #ff0000\">│</span>   <span style=\"color: #7f7f7f; text-decoration-color: #7f7f7f\">1059 </span><span style=\"color: #7f7f7f; text-decoration-color: #7f7f7f\">│   │   │   </span>apply_request_checksum(request_dict)                                          <span style=\"color: #ff0000; text-decoration-color: #ff0000\">│</span>\n",
       "<span style=\"color: #ff0000; text-decoration-color: #ff0000\">│</span> <span style=\"color: #800000; text-decoration-color: #800000\">❱ </span>1060 <span style=\"color: #7f7f7f; text-decoration-color: #7f7f7f\">│   │   │   </span>http, parsed_response = <span style=\"color: #00ffff; text-decoration-color: #00ffff; font-weight: bold; text-decoration: underline\">self</span><span style=\"font-weight: bold; text-decoration: underline\">._make_request(</span>                                   <span style=\"color: #ff0000; text-decoration-color: #ff0000\">│</span>\n",
       "<span style=\"color: #ff0000; text-decoration-color: #ff0000\">│</span>   <span style=\"color: #7f7f7f; text-decoration-color: #7f7f7f\">1061 </span><span style=\"color: #7f7f7f; text-decoration-color: #7f7f7f\">│   │   │   │   </span><span style=\"font-weight: bold; text-decoration: underline\">operation_model, request_dict, request_context</span>                            <span style=\"color: #ff0000; text-decoration-color: #ff0000\">│</span>\n",
       "<span style=\"color: #ff0000; text-decoration-color: #ff0000\">│</span>   <span style=\"color: #7f7f7f; text-decoration-color: #7f7f7f\">1062 </span><span style=\"color: #7f7f7f; text-decoration-color: #7f7f7f\">│   │   │   </span><span style=\"font-weight: bold; text-decoration: underline\">)</span>                                                                             <span style=\"color: #ff0000; text-decoration-color: #ff0000\">│</span>\n",
       "<span style=\"color: #ff0000; text-decoration-color: #ff0000\">│</span>   <span style=\"color: #7f7f7f; text-decoration-color: #7f7f7f\">1063 </span>                                                                                          <span style=\"color: #ff0000; text-decoration-color: #ff0000\">│</span>\n",
       "<span style=\"color: #ff0000; text-decoration-color: #ff0000\">│</span>                                                                                                  <span style=\"color: #ff0000; text-decoration-color: #ff0000\">│</span>\n",
       "<span style=\"color: #ff0000; text-decoration-color: #ff0000\">│</span> <span style=\"color: #7f7f7f; text-decoration-color: #7f7f7f\">/opt/conda/lib/python3.12/site-packages/botocore/</span><span style=\"font-weight: bold\">client.py</span>:1084 in _make_request                 <span style=\"color: #ff0000; text-decoration-color: #ff0000\">│</span>\n",
       "<span style=\"color: #ff0000; text-decoration-color: #ff0000\">│</span>                                                                                                  <span style=\"color: #ff0000; text-decoration-color: #ff0000\">│</span>\n",
       "<span style=\"color: #ff0000; text-decoration-color: #ff0000\">│</span>   <span style=\"color: #7f7f7f; text-decoration-color: #7f7f7f\">1081 </span><span style=\"color: #7f7f7f; text-decoration-color: #7f7f7f\">│   </span>                                                                                      <span style=\"color: #ff0000; text-decoration-color: #ff0000\">│</span>\n",
       "<span style=\"color: #ff0000; text-decoration-color: #ff0000\">│</span>   <span style=\"color: #7f7f7f; text-decoration-color: #7f7f7f\">1082 </span><span style=\"color: #7f7f7f; text-decoration-color: #7f7f7f\">│   </span><span style=\"color: #0000ff; text-decoration-color: #0000ff\">def</span><span style=\"color: #808080; text-decoration-color: #808080\"> </span><span style=\"color: #00ff00; text-decoration-color: #00ff00\">_make_request</span>(<span style=\"color: #00ffff; text-decoration-color: #00ffff\">self</span>, operation_model, request_dict, request_context):              <span style=\"color: #ff0000; text-decoration-color: #ff0000\">│</span>\n",
       "<span style=\"color: #ff0000; text-decoration-color: #ff0000\">│</span>   <span style=\"color: #7f7f7f; text-decoration-color: #7f7f7f\">1083 </span><span style=\"color: #7f7f7f; text-decoration-color: #7f7f7f\">│   │   </span><span style=\"color: #0000ff; text-decoration-color: #0000ff\">try</span>:                                                                              <span style=\"color: #ff0000; text-decoration-color: #ff0000\">│</span>\n",
       "<span style=\"color: #ff0000; text-decoration-color: #ff0000\">│</span> <span style=\"color: #800000; text-decoration-color: #800000\">❱ </span>1084 <span style=\"color: #7f7f7f; text-decoration-color: #7f7f7f\">│   │   │   </span><span style=\"color: #0000ff; text-decoration-color: #0000ff\">return</span> <span style=\"color: #00ffff; text-decoration-color: #00ffff\">self</span>._endpoint.make_request(operation_model, request_dict)             <span style=\"color: #ff0000; text-decoration-color: #ff0000\">│</span>\n",
       "<span style=\"color: #ff0000; text-decoration-color: #ff0000\">│</span>   <span style=\"color: #7f7f7f; text-decoration-color: #7f7f7f\">1085 </span><span style=\"color: #7f7f7f; text-decoration-color: #7f7f7f\">│   │   </span><span style=\"color: #0000ff; text-decoration-color: #0000ff; font-weight: bold; text-decoration: underline\">except</span><span style=\"font-weight: bold; text-decoration: underline\"> </span><span style=\"color: #00ffff; text-decoration-color: #00ffff; font-weight: bold; text-decoration: underline\">Exception</span><span style=\"font-weight: bold; text-decoration: underline\"> </span><span style=\"color: #0000ff; text-decoration-color: #0000ff; font-weight: bold; text-decoration: underline\">as</span><span style=\"font-weight: bold; text-decoration: underline\"> e:</span>                                                            <span style=\"color: #ff0000; text-decoration-color: #ff0000\">│</span>\n",
       "<span style=\"color: #ff0000; text-decoration-color: #ff0000\">│</span>   <span style=\"color: #7f7f7f; text-decoration-color: #7f7f7f\">1086 </span><span style=\"color: #7f7f7f; text-decoration-color: #7f7f7f\">│   │   │   </span><span style=\"color: #00ffff; text-decoration-color: #00ffff; font-weight: bold; text-decoration: underline\">self</span><span style=\"font-weight: bold; text-decoration: underline\">.meta.events.emit(</span>                                                        <span style=\"color: #ff0000; text-decoration-color: #ff0000\">│</span>\n",
       "<span style=\"color: #ff0000; text-decoration-color: #ff0000\">│</span>   <span style=\"color: #7f7f7f; text-decoration-color: #7f7f7f\">1087 </span><span style=\"color: #7f7f7f; text-decoration-color: #7f7f7f\">│   │   │   │   </span><span style=\"color: #808000; text-decoration-color: #808000; font-weight: bold; text-decoration: underline\">f'after-call-error.{</span><span style=\"color: #00ffff; text-decoration-color: #00ffff; font-weight: bold; text-decoration: underline\">self</span><span style=\"font-weight: bold; text-decoration: underline\">._service_model.service_id.hyphenize()</span><span style=\"color: #808000; text-decoration-color: #808000; font-weight: bold; text-decoration: underline\">}.{</span><span style=\"font-weight: bold; text-decoration: underline\">operati</span>  <span style=\"color: #ff0000; text-decoration-color: #ff0000\">│</span>\n",
       "<span style=\"color: #ff0000; text-decoration-color: #ff0000\">│</span>                                                                                                  <span style=\"color: #ff0000; text-decoration-color: #ff0000\">│</span>\n",
       "<span style=\"color: #ff0000; text-decoration-color: #ff0000\">│</span> <span style=\"color: #7f7f7f; text-decoration-color: #7f7f7f\">/opt/conda/lib/python3.12/site-packages/botocore/</span><span style=\"font-weight: bold\">endpoint.py</span>:119 in make_request                 <span style=\"color: #ff0000; text-decoration-color: #ff0000\">│</span>\n",
       "<span style=\"color: #ff0000; text-decoration-color: #ff0000\">│</span>                                                                                                  <span style=\"color: #ff0000; text-decoration-color: #ff0000\">│</span>\n",
       "<span style=\"color: #ff0000; text-decoration-color: #ff0000\">│</span>   <span style=\"color: #7f7f7f; text-decoration-color: #7f7f7f\">116 </span><span style=\"color: #7f7f7f; text-decoration-color: #7f7f7f\">│   │   │   </span>operation_model,                                                               <span style=\"color: #ff0000; text-decoration-color: #ff0000\">│</span>\n",
       "<span style=\"color: #ff0000; text-decoration-color: #ff0000\">│</span>   <span style=\"color: #7f7f7f; text-decoration-color: #7f7f7f\">117 </span><span style=\"color: #7f7f7f; text-decoration-color: #7f7f7f\">│   │   │   </span>request_dict,                                                                  <span style=\"color: #ff0000; text-decoration-color: #ff0000\">│</span>\n",
       "<span style=\"color: #ff0000; text-decoration-color: #ff0000\">│</span>   <span style=\"color: #7f7f7f; text-decoration-color: #7f7f7f\">118 </span><span style=\"color: #7f7f7f; text-decoration-color: #7f7f7f\">│   │   </span>)                                                                                  <span style=\"color: #ff0000; text-decoration-color: #ff0000\">│</span>\n",
       "<span style=\"color: #ff0000; text-decoration-color: #ff0000\">│</span> <span style=\"color: #800000; text-decoration-color: #800000\">❱ </span>119 <span style=\"color: #7f7f7f; text-decoration-color: #7f7f7f\">│   │   </span><span style=\"color: #0000ff; text-decoration-color: #0000ff\">return</span> <span style=\"color: #00ffff; text-decoration-color: #00ffff; font-weight: bold; text-decoration: underline\">self</span><span style=\"font-weight: bold; text-decoration: underline\">._send_request(request_dict, operation_model)</span>                           <span style=\"color: #ff0000; text-decoration-color: #ff0000\">│</span>\n",
       "<span style=\"color: #ff0000; text-decoration-color: #ff0000\">│</span>   <span style=\"color: #7f7f7f; text-decoration-color: #7f7f7f\">120 </span><span style=\"color: #7f7f7f; text-decoration-color: #7f7f7f\">│   </span>                                                                                       <span style=\"color: #ff0000; text-decoration-color: #ff0000\">│</span>\n",
       "<span style=\"color: #ff0000; text-decoration-color: #ff0000\">│</span>   <span style=\"color: #7f7f7f; text-decoration-color: #7f7f7f\">121 </span><span style=\"color: #7f7f7f; text-decoration-color: #7f7f7f\">│   </span><span style=\"color: #0000ff; text-decoration-color: #0000ff\">def</span><span style=\"color: #808080; text-decoration-color: #808080\"> </span><span style=\"color: #00ff00; text-decoration-color: #00ff00\">create_request</span>(<span style=\"color: #00ffff; text-decoration-color: #00ffff\">self</span>, params, operation_model=<span style=\"color: #0000ff; text-decoration-color: #0000ff\">None</span>):                                <span style=\"color: #ff0000; text-decoration-color: #ff0000\">│</span>\n",
       "<span style=\"color: #ff0000; text-decoration-color: #ff0000\">│</span>   <span style=\"color: #7f7f7f; text-decoration-color: #7f7f7f\">122 </span><span style=\"color: #7f7f7f; text-decoration-color: #7f7f7f\">│   │   </span>request = create_request_object(params)                                            <span style=\"color: #ff0000; text-decoration-color: #ff0000\">│</span>\n",
       "<span style=\"color: #ff0000; text-decoration-color: #ff0000\">│</span>                                                                                                  <span style=\"color: #ff0000; text-decoration-color: #ff0000\">│</span>\n",
       "<span style=\"color: #ff0000; text-decoration-color: #ff0000\">│</span> <span style=\"color: #7f7f7f; text-decoration-color: #7f7f7f\">/opt/conda/lib/python3.12/site-packages/botocore/</span><span style=\"font-weight: bold\">endpoint.py</span>:197 in _send_request                <span style=\"color: #ff0000; text-decoration-color: #ff0000\">│</span>\n",
       "<span style=\"color: #ff0000; text-decoration-color: #ff0000\">│</span>                                                                                                  <span style=\"color: #ff0000; text-decoration-color: #ff0000\">│</span>\n",
       "<span style=\"color: #ff0000; text-decoration-color: #ff0000\">│</span>   <span style=\"color: #7f7f7f; text-decoration-color: #7f7f7f\">194 </span><span style=\"color: #7f7f7f; text-decoration-color: #7f7f7f\">│   │   </span>context = request_dict[<span style=\"color: #808000; text-decoration-color: #808000\">'context'</span>]                                                  <span style=\"color: #ff0000; text-decoration-color: #ff0000\">│</span>\n",
       "<span style=\"color: #ff0000; text-decoration-color: #ff0000\">│</span>   <span style=\"color: #7f7f7f; text-decoration-color: #7f7f7f\">195 </span><span style=\"color: #7f7f7f; text-decoration-color: #7f7f7f\">│   │   </span><span style=\"color: #00ffff; text-decoration-color: #00ffff\">self</span>._update_retries_context(context, attempts)                                    <span style=\"color: #ff0000; text-decoration-color: #ff0000\">│</span>\n",
       "<span style=\"color: #ff0000; text-decoration-color: #ff0000\">│</span>   <span style=\"color: #7f7f7f; text-decoration-color: #7f7f7f\">196 </span><span style=\"color: #7f7f7f; text-decoration-color: #7f7f7f\">│   │   </span>request = <span style=\"color: #00ffff; text-decoration-color: #00ffff\">self</span>.create_request(request_dict, operation_model)                       <span style=\"color: #ff0000; text-decoration-color: #ff0000\">│</span>\n",
       "<span style=\"color: #ff0000; text-decoration-color: #ff0000\">│</span> <span style=\"color: #800000; text-decoration-color: #800000\">❱ </span>197 <span style=\"color: #7f7f7f; text-decoration-color: #7f7f7f\">│   │   </span>success_response, exception = <span style=\"color: #00ffff; text-decoration-color: #00ffff; font-weight: bold; text-decoration: underline\">self</span><span style=\"font-weight: bold; text-decoration: underline\">._get_response(</span>                                  <span style=\"color: #ff0000; text-decoration-color: #ff0000\">│</span>\n",
       "<span style=\"color: #ff0000; text-decoration-color: #ff0000\">│</span>   <span style=\"color: #7f7f7f; text-decoration-color: #7f7f7f\">198 </span><span style=\"color: #7f7f7f; text-decoration-color: #7f7f7f\">│   │   │   </span><span style=\"font-weight: bold; text-decoration: underline\">request, operation_model, context</span>                                              <span style=\"color: #ff0000; text-decoration-color: #ff0000\">│</span>\n",
       "<span style=\"color: #ff0000; text-decoration-color: #ff0000\">│</span>   <span style=\"color: #7f7f7f; text-decoration-color: #7f7f7f\">199 </span><span style=\"color: #7f7f7f; text-decoration-color: #7f7f7f\">│   │   </span><span style=\"font-weight: bold; text-decoration: underline\">)</span>                                                                                  <span style=\"color: #ff0000; text-decoration-color: #ff0000\">│</span>\n",
       "<span style=\"color: #ff0000; text-decoration-color: #ff0000\">│</span>   <span style=\"color: #7f7f7f; text-decoration-color: #7f7f7f\">200 </span><span style=\"color: #7f7f7f; text-decoration-color: #7f7f7f\">│   │   </span><span style=\"color: #0000ff; text-decoration-color: #0000ff\">while</span> <span style=\"color: #00ffff; text-decoration-color: #00ffff\">self</span>._needs_retry(                                                           <span style=\"color: #ff0000; text-decoration-color: #ff0000\">│</span>\n",
       "<span style=\"color: #ff0000; text-decoration-color: #ff0000\">│</span>                                                                                                  <span style=\"color: #ff0000; text-decoration-color: #ff0000\">│</span>\n",
       "<span style=\"color: #ff0000; text-decoration-color: #ff0000\">│</span> <span style=\"color: #7f7f7f; text-decoration-color: #7f7f7f\">/opt/conda/lib/python3.12/site-packages/botocore/</span><span style=\"font-weight: bold\">endpoint.py</span>:239 in _get_response                <span style=\"color: #ff0000; text-decoration-color: #ff0000\">│</span>\n",
       "<span style=\"color: #ff0000; text-decoration-color: #ff0000\">│</span>                                                                                                  <span style=\"color: #ff0000; text-decoration-color: #ff0000\">│</span>\n",
       "<span style=\"color: #ff0000; text-decoration-color: #ff0000\">│</span>   <span style=\"color: #7f7f7f; text-decoration-color: #7f7f7f\">236 </span><span style=\"color: #7f7f7f; text-decoration-color: #7f7f7f\">│   │   </span><span style=\"color: #7f7f7f; text-decoration-color: #7f7f7f\"># (http_response, parsed_dict).</span>                                                    <span style=\"color: #ff0000; text-decoration-color: #ff0000\">│</span>\n",
       "<span style=\"color: #ff0000; text-decoration-color: #ff0000\">│</span>   <span style=\"color: #7f7f7f; text-decoration-color: #7f7f7f\">237 </span><span style=\"color: #7f7f7f; text-decoration-color: #7f7f7f\">│   │   </span><span style=\"color: #7f7f7f; text-decoration-color: #7f7f7f\"># If an exception occurs then the success_response is None.</span>                        <span style=\"color: #ff0000; text-decoration-color: #ff0000\">│</span>\n",
       "<span style=\"color: #ff0000; text-decoration-color: #ff0000\">│</span>   <span style=\"color: #7f7f7f; text-decoration-color: #7f7f7f\">238 </span><span style=\"color: #7f7f7f; text-decoration-color: #7f7f7f\">│   │   </span><span style=\"color: #7f7f7f; text-decoration-color: #7f7f7f\"># If no exception occurs then exception is None.</span>                                   <span style=\"color: #ff0000; text-decoration-color: #ff0000\">│</span>\n",
       "<span style=\"color: #ff0000; text-decoration-color: #ff0000\">│</span> <span style=\"color: #800000; text-decoration-color: #800000\">❱ </span>239 <span style=\"color: #7f7f7f; text-decoration-color: #7f7f7f\">│   │   </span>success_response, exception = <span style=\"color: #00ffff; text-decoration-color: #00ffff; font-weight: bold; text-decoration: underline\">self</span><span style=\"font-weight: bold; text-decoration: underline\">._do_get_response(</span>                               <span style=\"color: #ff0000; text-decoration-color: #ff0000\">│</span>\n",
       "<span style=\"color: #ff0000; text-decoration-color: #ff0000\">│</span>   <span style=\"color: #7f7f7f; text-decoration-color: #7f7f7f\">240 </span><span style=\"color: #7f7f7f; text-decoration-color: #7f7f7f\">│   │   │   </span><span style=\"font-weight: bold; text-decoration: underline\">request, operation_model, context</span>                                              <span style=\"color: #ff0000; text-decoration-color: #ff0000\">│</span>\n",
       "<span style=\"color: #ff0000; text-decoration-color: #ff0000\">│</span>   <span style=\"color: #7f7f7f; text-decoration-color: #7f7f7f\">241 </span><span style=\"color: #7f7f7f; text-decoration-color: #7f7f7f\">│   │   </span><span style=\"font-weight: bold; text-decoration: underline\">)</span>                                                                                  <span style=\"color: #ff0000; text-decoration-color: #ff0000\">│</span>\n",
       "<span style=\"color: #ff0000; text-decoration-color: #ff0000\">│</span>   <span style=\"color: #7f7f7f; text-decoration-color: #7f7f7f\">242 </span><span style=\"color: #7f7f7f; text-decoration-color: #7f7f7f\">│   │   </span>kwargs_to_emit = {                                                                 <span style=\"color: #ff0000; text-decoration-color: #ff0000\">│</span>\n",
       "<span style=\"color: #ff0000; text-decoration-color: #ff0000\">│</span>                                                                                                  <span style=\"color: #ff0000; text-decoration-color: #ff0000\">│</span>\n",
       "<span style=\"color: #ff0000; text-decoration-color: #ff0000\">│</span> <span style=\"color: #7f7f7f; text-decoration-color: #7f7f7f\">/opt/conda/lib/python3.12/site-packages/botocore/</span><span style=\"font-weight: bold\">endpoint.py</span>:279 in _do_get_response             <span style=\"color: #ff0000; text-decoration-color: #ff0000\">│</span>\n",
       "<span style=\"color: #ff0000; text-decoration-color: #ff0000\">│</span>                                                                                                  <span style=\"color: #ff0000; text-decoration-color: #ff0000\">│</span>\n",
       "<span style=\"color: #ff0000; text-decoration-color: #ff0000\">│</span>   <span style=\"color: #7f7f7f; text-decoration-color: #7f7f7f\">276 </span><span style=\"color: #7f7f7f; text-decoration-color: #7f7f7f\">│   │   │   </span>responses = <span style=\"color: #00ffff; text-decoration-color: #00ffff\">self</span>._event_emitter.emit(event_name, request=request)              <span style=\"color: #ff0000; text-decoration-color: #ff0000\">│</span>\n",
       "<span style=\"color: #ff0000; text-decoration-color: #ff0000\">│</span>   <span style=\"color: #7f7f7f; text-decoration-color: #7f7f7f\">277 </span><span style=\"color: #7f7f7f; text-decoration-color: #7f7f7f\">│   │   │   </span>http_response = first_non_none_response(responses)                             <span style=\"color: #ff0000; text-decoration-color: #ff0000\">│</span>\n",
       "<span style=\"color: #ff0000; text-decoration-color: #ff0000\">│</span>   <span style=\"color: #7f7f7f; text-decoration-color: #7f7f7f\">278 </span><span style=\"color: #7f7f7f; text-decoration-color: #7f7f7f\">│   │   │   </span><span style=\"color: #0000ff; text-decoration-color: #0000ff\">if</span> http_response <span style=\"color: #ff00ff; text-decoration-color: #ff00ff\">is</span> <span style=\"color: #0000ff; text-decoration-color: #0000ff\">None</span>:                                                      <span style=\"color: #ff0000; text-decoration-color: #ff0000\">│</span>\n",
       "<span style=\"color: #ff0000; text-decoration-color: #ff0000\">│</span> <span style=\"color: #800000; text-decoration-color: #800000\">❱ </span>279 <span style=\"color: #7f7f7f; text-decoration-color: #7f7f7f\">│   │   │   │   </span>http_response = <span style=\"color: #00ffff; text-decoration-color: #00ffff\">self</span>._send(request)                                        <span style=\"color: #ff0000; text-decoration-color: #ff0000\">│</span>\n",
       "<span style=\"color: #ff0000; text-decoration-color: #ff0000\">│</span>   <span style=\"color: #7f7f7f; text-decoration-color: #7f7f7f\">280 </span><span style=\"color: #7f7f7f; text-decoration-color: #7f7f7f\">│   │   </span><span style=\"color: #0000ff; text-decoration-color: #0000ff\">except</span> HTTPClientError <span style=\"color: #0000ff; text-decoration-color: #0000ff\">as</span> e:                                                       <span style=\"color: #ff0000; text-decoration-color: #ff0000\">│</span>\n",
       "<span style=\"color: #ff0000; text-decoration-color: #ff0000\">│</span>   <span style=\"color: #7f7f7f; text-decoration-color: #7f7f7f\">281 </span><span style=\"color: #7f7f7f; text-decoration-color: #7f7f7f\">│   │   │   </span><span style=\"color: #0000ff; text-decoration-color: #0000ff\">return</span> (<span style=\"color: #0000ff; text-decoration-color: #0000ff\">None</span>, e)                                                               <span style=\"color: #ff0000; text-decoration-color: #ff0000\">│</span>\n",
       "<span style=\"color: #ff0000; text-decoration-color: #ff0000\">│</span>   <span style=\"color: #7f7f7f; text-decoration-color: #7f7f7f\">282 </span><span style=\"color: #7f7f7f; text-decoration-color: #7f7f7f\">│   │   </span><span style=\"color: #0000ff; text-decoration-color: #0000ff; font-weight: bold; text-decoration: underline\">except</span><span style=\"font-weight: bold; text-decoration: underline\"> </span><span style=\"color: #00ffff; text-decoration-color: #00ffff; font-weight: bold; text-decoration: underline\">Exception</span><span style=\"font-weight: bold; text-decoration: underline\"> </span><span style=\"color: #0000ff; text-decoration-color: #0000ff; font-weight: bold; text-decoration: underline\">as</span><span style=\"font-weight: bold; text-decoration: underline\"> e:</span>                                                             <span style=\"color: #ff0000; text-decoration-color: #ff0000\">│</span>\n",
       "<span style=\"color: #ff0000; text-decoration-color: #ff0000\">│</span>                                                                                                  <span style=\"color: #ff0000; text-decoration-color: #ff0000\">│</span>\n",
       "<span style=\"color: #ff0000; text-decoration-color: #ff0000\">│</span> <span style=\"color: #7f7f7f; text-decoration-color: #7f7f7f\">/opt/conda/lib/python3.12/site-packages/botocore/</span><span style=\"font-weight: bold\">endpoint.py</span>:383 in _send                        <span style=\"color: #ff0000; text-decoration-color: #ff0000\">│</span>\n",
       "<span style=\"color: #ff0000; text-decoration-color: #ff0000\">│</span>                                                                                                  <span style=\"color: #ff0000; text-decoration-color: #ff0000\">│</span>\n",
       "<span style=\"color: #ff0000; text-decoration-color: #ff0000\">│</span>   <span style=\"color: #7f7f7f; text-decoration-color: #7f7f7f\">380 </span><span style=\"color: #7f7f7f; text-decoration-color: #7f7f7f\">│   │   │   </span><span style=\"color: #0000ff; text-decoration-color: #0000ff\">return</span> <span style=\"color: #0000ff; text-decoration-color: #0000ff\">True</span>                                                                    <span style=\"color: #ff0000; text-decoration-color: #ff0000\">│</span>\n",
       "<span style=\"color: #ff0000; text-decoration-color: #ff0000\">│</span>   <span style=\"color: #7f7f7f; text-decoration-color: #7f7f7f\">381 </span><span style=\"color: #7f7f7f; text-decoration-color: #7f7f7f\">│   </span>                                                                                       <span style=\"color: #ff0000; text-decoration-color: #ff0000\">│</span>\n",
       "<span style=\"color: #ff0000; text-decoration-color: #ff0000\">│</span>   <span style=\"color: #7f7f7f; text-decoration-color: #7f7f7f\">382 </span><span style=\"color: #7f7f7f; text-decoration-color: #7f7f7f\">│   </span><span style=\"color: #0000ff; text-decoration-color: #0000ff\">def</span><span style=\"color: #808080; text-decoration-color: #808080\"> </span><span style=\"color: #00ff00; text-decoration-color: #00ff00\">_send</span>(<span style=\"color: #00ffff; text-decoration-color: #00ffff\">self</span>, request):                                                              <span style=\"color: #ff0000; text-decoration-color: #ff0000\">│</span>\n",
       "<span style=\"color: #ff0000; text-decoration-color: #ff0000\">│</span> <span style=\"color: #800000; text-decoration-color: #800000\">❱ </span>383 <span style=\"color: #7f7f7f; text-decoration-color: #7f7f7f\">│   │   </span><span style=\"color: #0000ff; text-decoration-color: #0000ff\">return</span> <span style=\"color: #00ffff; text-decoration-color: #00ffff; font-weight: bold; text-decoration: underline\">self</span><span style=\"font-weight: bold; text-decoration: underline\">.http_session.send(request)</span>                                             <span style=\"color: #ff0000; text-decoration-color: #ff0000\">│</span>\n",
       "<span style=\"color: #ff0000; text-decoration-color: #ff0000\">│</span>   <span style=\"color: #7f7f7f; text-decoration-color: #7f7f7f\">384 </span>                                                                                           <span style=\"color: #ff0000; text-decoration-color: #ff0000\">│</span>\n",
       "<span style=\"color: #ff0000; text-decoration-color: #ff0000\">│</span>   <span style=\"color: #7f7f7f; text-decoration-color: #7f7f7f\">385 </span>                                                                                           <span style=\"color: #ff0000; text-decoration-color: #ff0000\">│</span>\n",
       "<span style=\"color: #ff0000; text-decoration-color: #ff0000\">│</span>   <span style=\"color: #7f7f7f; text-decoration-color: #7f7f7f\">386 </span><span style=\"color: #0000ff; text-decoration-color: #0000ff\">class</span><span style=\"color: #808080; text-decoration-color: #808080\"> </span><span style=\"color: #00ff00; text-decoration-color: #00ff00; text-decoration: underline\">EndpointCreator</span>:                                                                     <span style=\"color: #ff0000; text-decoration-color: #ff0000\">│</span>\n",
       "<span style=\"color: #ff0000; text-decoration-color: #ff0000\">│</span>                                                                                                  <span style=\"color: #ff0000; text-decoration-color: #ff0000\">│</span>\n",
       "<span style=\"color: #ff0000; text-decoration-color: #ff0000\">│</span> <span style=\"color: #7f7f7f; text-decoration-color: #7f7f7f\">/opt/conda/lib/python3.12/site-packages/botocore/</span><span style=\"font-weight: bold\">httpsession.py</span>:464 in send                      <span style=\"color: #ff0000; text-decoration-color: #ff0000\">│</span>\n",
       "<span style=\"color: #ff0000; text-decoration-color: #ff0000\">│</span>                                                                                                  <span style=\"color: #ff0000; text-decoration-color: #ff0000\">│</span>\n",
       "<span style=\"color: #ff0000; text-decoration-color: #ff0000\">│</span>   <span style=\"color: #7f7f7f; text-decoration-color: #7f7f7f\">461 </span><span style=\"color: #7f7f7f; text-decoration-color: #7f7f7f\">│   │   │   │   </span>conn.proxy_headers[<span style=\"color: #808000; text-decoration-color: #808000\">'host'</span>] = host                                          <span style=\"color: #ff0000; text-decoration-color: #ff0000\">│</span>\n",
       "<span style=\"color: #ff0000; text-decoration-color: #ff0000\">│</span>   <span style=\"color: #7f7f7f; text-decoration-color: #7f7f7f\">462 </span><span style=\"color: #7f7f7f; text-decoration-color: #7f7f7f\">│   │   │   </span>                                                                               <span style=\"color: #ff0000; text-decoration-color: #ff0000\">│</span>\n",
       "<span style=\"color: #ff0000; text-decoration-color: #ff0000\">│</span>   <span style=\"color: #7f7f7f; text-decoration-color: #7f7f7f\">463 </span><span style=\"color: #7f7f7f; text-decoration-color: #7f7f7f\">│   │   │   </span>request_target = <span style=\"color: #00ffff; text-decoration-color: #00ffff\">self</span>._get_request_target(request.url, proxy_url)              <span style=\"color: #ff0000; text-decoration-color: #ff0000\">│</span>\n",
       "<span style=\"color: #ff0000; text-decoration-color: #ff0000\">│</span> <span style=\"color: #800000; text-decoration-color: #800000\">❱ </span>464 <span style=\"color: #7f7f7f; text-decoration-color: #7f7f7f\">│   │   │   </span>urllib_response = conn.urlopen(                                                <span style=\"color: #ff0000; text-decoration-color: #ff0000\">│</span>\n",
       "<span style=\"color: #ff0000; text-decoration-color: #ff0000\">│</span>   <span style=\"color: #7f7f7f; text-decoration-color: #7f7f7f\">465 </span><span style=\"color: #7f7f7f; text-decoration-color: #7f7f7f\">│   │   │   │   </span>method=request.method,                                                     <span style=\"color: #ff0000; text-decoration-color: #ff0000\">│</span>\n",
       "<span style=\"color: #ff0000; text-decoration-color: #ff0000\">│</span>   <span style=\"color: #7f7f7f; text-decoration-color: #7f7f7f\">466 </span><span style=\"color: #7f7f7f; text-decoration-color: #7f7f7f\">│   │   │   │   </span>url=request_target,                                                        <span style=\"color: #ff0000; text-decoration-color: #ff0000\">│</span>\n",
       "<span style=\"color: #ff0000; text-decoration-color: #ff0000\">│</span>   <span style=\"color: #7f7f7f; text-decoration-color: #7f7f7f\">467 </span><span style=\"color: #7f7f7f; text-decoration-color: #7f7f7f\">│   │   │   │   </span>body=request.body,                                                         <span style=\"color: #ff0000; text-decoration-color: #ff0000\">│</span>\n",
       "<span style=\"color: #ff0000; text-decoration-color: #ff0000\">│</span>                                                                                                  <span style=\"color: #ff0000; text-decoration-color: #ff0000\">│</span>\n",
       "<span style=\"color: #ff0000; text-decoration-color: #ff0000\">│</span> <span style=\"color: #7f7f7f; text-decoration-color: #7f7f7f\">/opt/conda/lib/python3.12/site-packages/urllib3/</span><span style=\"font-weight: bold\">connectionpool.py</span>:787 in urlopen                 <span style=\"color: #ff0000; text-decoration-color: #ff0000\">│</span>\n",
       "<span style=\"color: #ff0000; text-decoration-color: #ff0000\">│</span>                                                                                                  <span style=\"color: #ff0000; text-decoration-color: #ff0000\">│</span>\n",
       "<span style=\"color: #ff0000; text-decoration-color: #ff0000\">│</span>   <span style=\"color: #7f7f7f; text-decoration-color: #7f7f7f\"> 784 </span><span style=\"color: #7f7f7f; text-decoration-color: #7f7f7f\">│   │   │   </span>response_conn = conn <span style=\"color: #0000ff; text-decoration-color: #0000ff\">if</span> <span style=\"color: #ff00ff; text-decoration-color: #ff00ff\">not</span> release_conn <span style=\"color: #0000ff; text-decoration-color: #0000ff\">else</span> <span style=\"color: #0000ff; text-decoration-color: #0000ff\">None</span>                            <span style=\"color: #ff0000; text-decoration-color: #ff0000\">│</span>\n",
       "<span style=\"color: #ff0000; text-decoration-color: #ff0000\">│</span>   <span style=\"color: #7f7f7f; text-decoration-color: #7f7f7f\"> 785 </span><span style=\"color: #7f7f7f; text-decoration-color: #7f7f7f\">│   │   │   </span>                                                                              <span style=\"color: #ff0000; text-decoration-color: #ff0000\">│</span>\n",
       "<span style=\"color: #ff0000; text-decoration-color: #ff0000\">│</span>   <span style=\"color: #7f7f7f; text-decoration-color: #7f7f7f\"> 786 </span><span style=\"color: #7f7f7f; text-decoration-color: #7f7f7f\">│   │   │   </span><span style=\"color: #7f7f7f; text-decoration-color: #7f7f7f\"># Make the request on the HTTPConnection object</span>                               <span style=\"color: #ff0000; text-decoration-color: #ff0000\">│</span>\n",
       "<span style=\"color: #ff0000; text-decoration-color: #ff0000\">│</span> <span style=\"color: #800000; text-decoration-color: #800000\">❱ </span> 787 <span style=\"color: #7f7f7f; text-decoration-color: #7f7f7f\">│   │   │   </span>response = <span style=\"color: #00ffff; text-decoration-color: #00ffff\">self</span>._make_request(                                                <span style=\"color: #ff0000; text-decoration-color: #ff0000\">│</span>\n",
       "<span style=\"color: #ff0000; text-decoration-color: #ff0000\">│</span>   <span style=\"color: #7f7f7f; text-decoration-color: #7f7f7f\"> 788 </span><span style=\"color: #7f7f7f; text-decoration-color: #7f7f7f\">│   │   │   │   </span>conn,                                                                     <span style=\"color: #ff0000; text-decoration-color: #ff0000\">│</span>\n",
       "<span style=\"color: #ff0000; text-decoration-color: #ff0000\">│</span>   <span style=\"color: #7f7f7f; text-decoration-color: #7f7f7f\"> 789 </span><span style=\"color: #7f7f7f; text-decoration-color: #7f7f7f\">│   │   │   │   </span>method,                                                                   <span style=\"color: #ff0000; text-decoration-color: #ff0000\">│</span>\n",
       "<span style=\"color: #ff0000; text-decoration-color: #ff0000\">│</span>   <span style=\"color: #7f7f7f; text-decoration-color: #7f7f7f\"> 790 </span><span style=\"color: #7f7f7f; text-decoration-color: #7f7f7f\">│   │   │   │   </span>url,                                                                      <span style=\"color: #ff0000; text-decoration-color: #ff0000\">│</span>\n",
       "<span style=\"color: #ff0000; text-decoration-color: #ff0000\">│</span>                                                                                                  <span style=\"color: #ff0000; text-decoration-color: #ff0000\">│</span>\n",
       "<span style=\"color: #ff0000; text-decoration-color: #ff0000\">│</span> <span style=\"color: #7f7f7f; text-decoration-color: #7f7f7f\">/opt/conda/lib/python3.12/site-packages/urllib3/</span><span style=\"font-weight: bold\">connectionpool.py</span>:534 in _make_request           <span style=\"color: #ff0000; text-decoration-color: #ff0000\">│</span>\n",
       "<span style=\"color: #ff0000; text-decoration-color: #ff0000\">│</span>                                                                                                  <span style=\"color: #ff0000; text-decoration-color: #ff0000\">│</span>\n",
       "<span style=\"color: #ff0000; text-decoration-color: #ff0000\">│</span>   <span style=\"color: #7f7f7f; text-decoration-color: #7f7f7f\"> 531 </span><span style=\"color: #7f7f7f; text-decoration-color: #7f7f7f\">│   │   </span>                                                                                  <span style=\"color: #ff0000; text-decoration-color: #ff0000\">│</span>\n",
       "<span style=\"color: #ff0000; text-decoration-color: #ff0000\">│</span>   <span style=\"color: #7f7f7f; text-decoration-color: #7f7f7f\"> 532 </span><span style=\"color: #7f7f7f; text-decoration-color: #7f7f7f\">│   │   </span><span style=\"color: #7f7f7f; text-decoration-color: #7f7f7f\"># Receive the response from the server</span>                                            <span style=\"color: #ff0000; text-decoration-color: #ff0000\">│</span>\n",
       "<span style=\"color: #ff0000; text-decoration-color: #ff0000\">│</span>   <span style=\"color: #7f7f7f; text-decoration-color: #7f7f7f\"> 533 </span><span style=\"color: #7f7f7f; text-decoration-color: #7f7f7f\">│   │   </span><span style=\"color: #0000ff; text-decoration-color: #0000ff\">try</span>:                                                                              <span style=\"color: #ff0000; text-decoration-color: #ff0000\">│</span>\n",
       "<span style=\"color: #ff0000; text-decoration-color: #ff0000\">│</span> <span style=\"color: #800000; text-decoration-color: #800000\">❱ </span> 534 <span style=\"color: #7f7f7f; text-decoration-color: #7f7f7f\">│   │   │   </span>response = conn.getresponse()                                                 <span style=\"color: #ff0000; text-decoration-color: #ff0000\">│</span>\n",
       "<span style=\"color: #ff0000; text-decoration-color: #ff0000\">│</span>   <span style=\"color: #7f7f7f; text-decoration-color: #7f7f7f\"> 535 </span><span style=\"color: #7f7f7f; text-decoration-color: #7f7f7f\">│   │   </span><span style=\"color: #0000ff; text-decoration-color: #0000ff; font-weight: bold; text-decoration: underline\">except</span><span style=\"font-weight: bold; text-decoration: underline\"> (BaseSSLError, </span><span style=\"color: #00ffff; text-decoration-color: #00ffff; font-weight: bold; text-decoration: underline\">OSError</span><span style=\"font-weight: bold; text-decoration: underline\">) </span><span style=\"color: #0000ff; text-decoration-color: #0000ff; font-weight: bold; text-decoration: underline\">as</span><span style=\"font-weight: bold; text-decoration: underline\"> e:</span>                                              <span style=\"color: #ff0000; text-decoration-color: #ff0000\">│</span>\n",
       "<span style=\"color: #ff0000; text-decoration-color: #ff0000\">│</span>   <span style=\"color: #7f7f7f; text-decoration-color: #7f7f7f\"> 536 </span><span style=\"color: #7f7f7f; text-decoration-color: #7f7f7f\">│   │   │   </span><span style=\"color: #00ffff; text-decoration-color: #00ffff; font-weight: bold; text-decoration: underline\">self</span><span style=\"font-weight: bold; text-decoration: underline\">._raise_timeout(err=e, url=url, timeout_value=read_timeout)</span>               <span style=\"color: #ff0000; text-decoration-color: #ff0000\">│</span>\n",
       "<span style=\"color: #ff0000; text-decoration-color: #ff0000\">│</span>   <span style=\"color: #7f7f7f; text-decoration-color: #7f7f7f\"> 537 </span><span style=\"color: #7f7f7f; text-decoration-color: #7f7f7f\">│   │   │   </span><span style=\"color: #0000ff; text-decoration-color: #0000ff; font-weight: bold; text-decoration: underline\">raise</span>                                                                         <span style=\"color: #ff0000; text-decoration-color: #ff0000\">│</span>\n",
       "<span style=\"color: #ff0000; text-decoration-color: #ff0000\">│</span>                                                                                                  <span style=\"color: #ff0000; text-decoration-color: #ff0000\">│</span>\n",
       "<span style=\"color: #ff0000; text-decoration-color: #ff0000\">│</span> <span style=\"color: #7f7f7f; text-decoration-color: #7f7f7f\">/opt/conda/lib/python3.12/site-packages/urllib3/</span><span style=\"font-weight: bold\">connection.py</span>:516 in getresponse                 <span style=\"color: #ff0000; text-decoration-color: #ff0000\">│</span>\n",
       "<span style=\"color: #ff0000; text-decoration-color: #ff0000\">│</span>                                                                                                  <span style=\"color: #ff0000; text-decoration-color: #ff0000\">│</span>\n",
       "<span style=\"color: #ff0000; text-decoration-color: #ff0000\">│</span>   <span style=\"color: #7f7f7f; text-decoration-color: #7f7f7f\"> 513 </span><span style=\"color: #7f7f7f; text-decoration-color: #7f7f7f\">│   │   </span>_shutdown = <span style=\"color: #00ffff; text-decoration-color: #00ffff\">getattr</span>(<span style=\"color: #00ffff; text-decoration-color: #00ffff\">self</span>.sock, <span style=\"color: #808000; text-decoration-color: #808000\">\"shutdown\"</span>, <span style=\"color: #0000ff; text-decoration-color: #0000ff\">None</span>)                                  <span style=\"color: #ff0000; text-decoration-color: #ff0000\">│</span>\n",
       "<span style=\"color: #ff0000; text-decoration-color: #ff0000\">│</span>   <span style=\"color: #7f7f7f; text-decoration-color: #7f7f7f\"> 514 </span><span style=\"color: #7f7f7f; text-decoration-color: #7f7f7f\">│   │   </span>                                                                                  <span style=\"color: #ff0000; text-decoration-color: #ff0000\">│</span>\n",
       "<span style=\"color: #ff0000; text-decoration-color: #ff0000\">│</span>   <span style=\"color: #7f7f7f; text-decoration-color: #7f7f7f\"> 515 </span><span style=\"color: #7f7f7f; text-decoration-color: #7f7f7f\">│   │   </span><span style=\"color: #7f7f7f; text-decoration-color: #7f7f7f\"># Get the response from http.client.HTTPConnection</span>                                <span style=\"color: #ff0000; text-decoration-color: #ff0000\">│</span>\n",
       "<span style=\"color: #ff0000; text-decoration-color: #ff0000\">│</span> <span style=\"color: #800000; text-decoration-color: #800000\">❱ </span> 516 <span style=\"color: #7f7f7f; text-decoration-color: #7f7f7f\">│   │   </span>httplib_response = <span style=\"color: #00ffff; text-decoration-color: #00ffff; font-weight: bold; text-decoration: underline\">super</span><span style=\"font-weight: bold; text-decoration: underline\">().getresponse()</span>                                          <span style=\"color: #ff0000; text-decoration-color: #ff0000\">│</span>\n",
       "<span style=\"color: #ff0000; text-decoration-color: #ff0000\">│</span>   <span style=\"color: #7f7f7f; text-decoration-color: #7f7f7f\"> 517 </span><span style=\"color: #7f7f7f; text-decoration-color: #7f7f7f\">│   │   </span>                                                                                  <span style=\"color: #ff0000; text-decoration-color: #ff0000\">│</span>\n",
       "<span style=\"color: #ff0000; text-decoration-color: #ff0000\">│</span>   <span style=\"color: #7f7f7f; text-decoration-color: #7f7f7f\"> 518 </span><span style=\"color: #7f7f7f; text-decoration-color: #7f7f7f\">│   │   </span><span style=\"color: #0000ff; text-decoration-color: #0000ff\">try</span>:                                                                              <span style=\"color: #ff0000; text-decoration-color: #ff0000\">│</span>\n",
       "<span style=\"color: #ff0000; text-decoration-color: #ff0000\">│</span>   <span style=\"color: #7f7f7f; text-decoration-color: #7f7f7f\"> 519 </span><span style=\"color: #7f7f7f; text-decoration-color: #7f7f7f\">│   │   │   </span>assert_header_parsing(httplib_response.msg)                                   <span style=\"color: #ff0000; text-decoration-color: #ff0000\">│</span>\n",
       "<span style=\"color: #ff0000; text-decoration-color: #ff0000\">│</span>                                                                                                  <span style=\"color: #ff0000; text-decoration-color: #ff0000\">│</span>\n",
       "<span style=\"color: #ff0000; text-decoration-color: #ff0000\">│</span> <span style=\"color: #7f7f7f; text-decoration-color: #7f7f7f\">/opt/conda/lib/python3.12/http/</span><span style=\"font-weight: bold\">client.py</span>:1430 in getresponse                                     <span style=\"color: #ff0000; text-decoration-color: #ff0000\">│</span>\n",
       "<span style=\"color: #ff0000; text-decoration-color: #ff0000\">│</span>                                                                                                  <span style=\"color: #ff0000; text-decoration-color: #ff0000\">│</span>\n",
       "<span style=\"color: #ff0000; text-decoration-color: #ff0000\">│</span>   <span style=\"color: #7f7f7f; text-decoration-color: #7f7f7f\">1427 </span><span style=\"color: #7f7f7f; text-decoration-color: #7f7f7f\">│   │   </span>                                                                                  <span style=\"color: #ff0000; text-decoration-color: #ff0000\">│</span>\n",
       "<span style=\"color: #ff0000; text-decoration-color: #ff0000\">│</span>   <span style=\"color: #7f7f7f; text-decoration-color: #7f7f7f\">1428 </span><span style=\"color: #7f7f7f; text-decoration-color: #7f7f7f\">│   │   </span><span style=\"color: #0000ff; text-decoration-color: #0000ff\">try</span>:                                                                              <span style=\"color: #ff0000; text-decoration-color: #ff0000\">│</span>\n",
       "<span style=\"color: #ff0000; text-decoration-color: #ff0000\">│</span>   <span style=\"color: #7f7f7f; text-decoration-color: #7f7f7f\">1429 </span><span style=\"color: #7f7f7f; text-decoration-color: #7f7f7f\">│   │   │   </span><span style=\"color: #0000ff; text-decoration-color: #0000ff\">try</span>:                                                                          <span style=\"color: #ff0000; text-decoration-color: #ff0000\">│</span>\n",
       "<span style=\"color: #ff0000; text-decoration-color: #ff0000\">│</span> <span style=\"color: #800000; text-decoration-color: #800000\">❱ </span>1430 <span style=\"color: #7f7f7f; text-decoration-color: #7f7f7f\">│   │   │   │   </span>response.begin()                                                          <span style=\"color: #ff0000; text-decoration-color: #ff0000\">│</span>\n",
       "<span style=\"color: #ff0000; text-decoration-color: #ff0000\">│</span>   <span style=\"color: #7f7f7f; text-decoration-color: #7f7f7f\">1431 </span><span style=\"color: #7f7f7f; text-decoration-color: #7f7f7f\">│   │   │   </span><span style=\"color: #0000ff; text-decoration-color: #0000ff\">except</span> <span style=\"color: #00ffff; text-decoration-color: #00ffff\">ConnectionError</span>:                                                       <span style=\"color: #ff0000; text-decoration-color: #ff0000\">│</span>\n",
       "<span style=\"color: #ff0000; text-decoration-color: #ff0000\">│</span>   <span style=\"color: #7f7f7f; text-decoration-color: #7f7f7f\">1432 </span><span style=\"color: #7f7f7f; text-decoration-color: #7f7f7f\">│   │   │   │   </span><span style=\"color: #00ffff; text-decoration-color: #00ffff\">self</span>.close()                                                              <span style=\"color: #ff0000; text-decoration-color: #ff0000\">│</span>\n",
       "<span style=\"color: #ff0000; text-decoration-color: #ff0000\">│</span>   <span style=\"color: #7f7f7f; text-decoration-color: #7f7f7f\">1433 </span><span style=\"color: #7f7f7f; text-decoration-color: #7f7f7f\">│   │   │   │   </span><span style=\"color: #0000ff; text-decoration-color: #0000ff\">raise</span>                                                                     <span style=\"color: #ff0000; text-decoration-color: #ff0000\">│</span>\n",
       "<span style=\"color: #ff0000; text-decoration-color: #ff0000\">│</span>                                                                                                  <span style=\"color: #ff0000; text-decoration-color: #ff0000\">│</span>\n",
       "<span style=\"color: #ff0000; text-decoration-color: #ff0000\">│</span> <span style=\"color: #7f7f7f; text-decoration-color: #7f7f7f\">/opt/conda/lib/python3.12/http/</span><span style=\"font-weight: bold\">client.py</span>:331 in begin                                            <span style=\"color: #ff0000; text-decoration-color: #ff0000\">│</span>\n",
       "<span style=\"color: #ff0000; text-decoration-color: #ff0000\">│</span>                                                                                                  <span style=\"color: #ff0000; text-decoration-color: #ff0000\">│</span>\n",
       "<span style=\"color: #ff0000; text-decoration-color: #ff0000\">│</span>   <span style=\"color: #7f7f7f; text-decoration-color: #7f7f7f\"> 328 </span><span style=\"color: #7f7f7f; text-decoration-color: #7f7f7f\">│   │   </span>                                                                                  <span style=\"color: #ff0000; text-decoration-color: #ff0000\">│</span>\n",
       "<span style=\"color: #ff0000; text-decoration-color: #ff0000\">│</span>   <span style=\"color: #7f7f7f; text-decoration-color: #7f7f7f\"> 329 </span><span style=\"color: #7f7f7f; text-decoration-color: #7f7f7f\">│   │   </span><span style=\"color: #7f7f7f; text-decoration-color: #7f7f7f\"># read until we get a non-100 response</span>                                            <span style=\"color: #ff0000; text-decoration-color: #ff0000\">│</span>\n",
       "<span style=\"color: #ff0000; text-decoration-color: #ff0000\">│</span>   <span style=\"color: #7f7f7f; text-decoration-color: #7f7f7f\"> 330 </span><span style=\"color: #7f7f7f; text-decoration-color: #7f7f7f\">│   │   </span><span style=\"color: #0000ff; text-decoration-color: #0000ff\">while</span> <span style=\"color: #0000ff; text-decoration-color: #0000ff\">True</span>:                                                                       <span style=\"color: #ff0000; text-decoration-color: #ff0000\">│</span>\n",
       "<span style=\"color: #ff0000; text-decoration-color: #ff0000\">│</span> <span style=\"color: #800000; text-decoration-color: #800000\">❱ </span> 331 <span style=\"color: #7f7f7f; text-decoration-color: #7f7f7f\">│   │   │   </span>version, status, reason = <span style=\"color: #00ffff; text-decoration-color: #00ffff; font-weight: bold; text-decoration: underline\">self</span><span style=\"font-weight: bold; text-decoration: underline\">._read_status()</span>                                 <span style=\"color: #ff0000; text-decoration-color: #ff0000\">│</span>\n",
       "<span style=\"color: #ff0000; text-decoration-color: #ff0000\">│</span>   <span style=\"color: #7f7f7f; text-decoration-color: #7f7f7f\"> 332 </span><span style=\"color: #7f7f7f; text-decoration-color: #7f7f7f\">│   │   │   </span><span style=\"color: #0000ff; text-decoration-color: #0000ff\">if</span> status != CONTINUE:                                                        <span style=\"color: #ff0000; text-decoration-color: #ff0000\">│</span>\n",
       "<span style=\"color: #ff0000; text-decoration-color: #ff0000\">│</span>   <span style=\"color: #7f7f7f; text-decoration-color: #7f7f7f\"> 333 </span><span style=\"color: #7f7f7f; text-decoration-color: #7f7f7f\">│   │   │   │   </span><span style=\"color: #0000ff; text-decoration-color: #0000ff\">break</span>                                                                     <span style=\"color: #ff0000; text-decoration-color: #ff0000\">│</span>\n",
       "<span style=\"color: #ff0000; text-decoration-color: #ff0000\">│</span>   <span style=\"color: #7f7f7f; text-decoration-color: #7f7f7f\"> 334 </span><span style=\"color: #7f7f7f; text-decoration-color: #7f7f7f\">│   │   │   </span><span style=\"color: #7f7f7f; text-decoration-color: #7f7f7f\"># skip the header from the 100 response</span>                                       <span style=\"color: #ff0000; text-decoration-color: #ff0000\">│</span>\n",
       "<span style=\"color: #ff0000; text-decoration-color: #ff0000\">│</span>                                                                                                  <span style=\"color: #ff0000; text-decoration-color: #ff0000\">│</span>\n",
       "<span style=\"color: #ff0000; text-decoration-color: #ff0000\">│</span> <span style=\"color: #7f7f7f; text-decoration-color: #7f7f7f\">/opt/conda/lib/python3.12/http/</span><span style=\"font-weight: bold\">client.py</span>:292 in _read_status                                     <span style=\"color: #ff0000; text-decoration-color: #ff0000\">│</span>\n",
       "<span style=\"color: #ff0000; text-decoration-color: #ff0000\">│</span>                                                                                                  <span style=\"color: #ff0000; text-decoration-color: #ff0000\">│</span>\n",
       "<span style=\"color: #ff0000; text-decoration-color: #ff0000\">│</span>   <span style=\"color: #7f7f7f; text-decoration-color: #7f7f7f\"> 289 </span><span style=\"color: #7f7f7f; text-decoration-color: #7f7f7f\">│   │   </span><span style=\"color: #00ffff; text-decoration-color: #00ffff\">self</span>.will_close = _UNKNOWN      <span style=\"color: #7f7f7f; text-decoration-color: #7f7f7f\"># conn will close at end of response</span>              <span style=\"color: #ff0000; text-decoration-color: #ff0000\">│</span>\n",
       "<span style=\"color: #ff0000; text-decoration-color: #ff0000\">│</span>   <span style=\"color: #7f7f7f; text-decoration-color: #7f7f7f\"> 290 </span><span style=\"color: #7f7f7f; text-decoration-color: #7f7f7f\">│   </span>                                                                                      <span style=\"color: #ff0000; text-decoration-color: #ff0000\">│</span>\n",
       "<span style=\"color: #ff0000; text-decoration-color: #ff0000\">│</span>   <span style=\"color: #7f7f7f; text-decoration-color: #7f7f7f\"> 291 </span><span style=\"color: #7f7f7f; text-decoration-color: #7f7f7f\">│   </span><span style=\"color: #0000ff; text-decoration-color: #0000ff\">def</span><span style=\"color: #808080; text-decoration-color: #808080\"> </span><span style=\"color: #00ff00; text-decoration-color: #00ff00\">_read_status</span>(<span style=\"color: #00ffff; text-decoration-color: #00ffff\">self</span>):                                                               <span style=\"color: #ff0000; text-decoration-color: #ff0000\">│</span>\n",
       "<span style=\"color: #ff0000; text-decoration-color: #ff0000\">│</span> <span style=\"color: #800000; text-decoration-color: #800000\">❱ </span> 292 <span style=\"color: #7f7f7f; text-decoration-color: #7f7f7f\">│   │   </span>line = <span style=\"color: #00ffff; text-decoration-color: #00ffff\">str</span>(<span style=\"color: #00ffff; text-decoration-color: #00ffff; font-weight: bold; text-decoration: underline\">self</span><span style=\"font-weight: bold; text-decoration: underline\">.fp.readline(_MAXLINE + </span><span style=\"color: #0000ff; text-decoration-color: #0000ff; font-weight: bold; text-decoration: underline\">1</span><span style=\"font-weight: bold; text-decoration: underline\">)</span>, <span style=\"color: #808000; text-decoration-color: #808000\">\"iso-8859-1\"</span>)                          <span style=\"color: #ff0000; text-decoration-color: #ff0000\">│</span>\n",
       "<span style=\"color: #ff0000; text-decoration-color: #ff0000\">│</span>   <span style=\"color: #7f7f7f; text-decoration-color: #7f7f7f\"> 293 </span><span style=\"color: #7f7f7f; text-decoration-color: #7f7f7f\">│   │   </span><span style=\"color: #0000ff; text-decoration-color: #0000ff\">if</span> <span style=\"color: #00ffff; text-decoration-color: #00ffff\">len</span>(line) &gt; _MAXLINE:                                                          <span style=\"color: #ff0000; text-decoration-color: #ff0000\">│</span>\n",
       "<span style=\"color: #ff0000; text-decoration-color: #ff0000\">│</span>   <span style=\"color: #7f7f7f; text-decoration-color: #7f7f7f\"> 294 </span><span style=\"color: #7f7f7f; text-decoration-color: #7f7f7f\">│   │   │   </span><span style=\"color: #0000ff; text-decoration-color: #0000ff\">raise</span> LineTooLong(<span style=\"color: #808000; text-decoration-color: #808000\">\"status line\"</span>)                                              <span style=\"color: #ff0000; text-decoration-color: #ff0000\">│</span>\n",
       "<span style=\"color: #ff0000; text-decoration-color: #ff0000\">│</span>   <span style=\"color: #7f7f7f; text-decoration-color: #7f7f7f\"> 295 </span><span style=\"color: #7f7f7f; text-decoration-color: #7f7f7f\">│   │   </span><span style=\"color: #0000ff; text-decoration-color: #0000ff\">if</span> <span style=\"color: #00ffff; text-decoration-color: #00ffff\">self</span>.debuglevel &gt; <span style=\"color: #0000ff; text-decoration-color: #0000ff\">0</span>:                                                           <span style=\"color: #ff0000; text-decoration-color: #ff0000\">│</span>\n",
       "<span style=\"color: #ff0000; text-decoration-color: #ff0000\">│</span>                                                                                                  <span style=\"color: #ff0000; text-decoration-color: #ff0000\">│</span>\n",
       "<span style=\"color: #ff0000; text-decoration-color: #ff0000\">│</span> <span style=\"color: #7f7f7f; text-decoration-color: #7f7f7f\">/opt/conda/lib/python3.12/</span><span style=\"font-weight: bold\">socket.py</span>:720 in readinto                                              <span style=\"color: #ff0000; text-decoration-color: #ff0000\">│</span>\n",
       "<span style=\"color: #ff0000; text-decoration-color: #ff0000\">│</span>                                                                                                  <span style=\"color: #ff0000; text-decoration-color: #ff0000\">│</span>\n",
       "<span style=\"color: #ff0000; text-decoration-color: #ff0000\">│</span>   <span style=\"color: #7f7f7f; text-decoration-color: #7f7f7f\">717 </span><span style=\"color: #7f7f7f; text-decoration-color: #7f7f7f\">│   │   │   </span><span style=\"color: #0000ff; text-decoration-color: #0000ff\">raise</span> <span style=\"color: #00ffff; text-decoration-color: #00ffff\">OSError</span>(<span style=\"color: #808000; text-decoration-color: #808000\">\"cannot read from timed out object\"</span>)                             <span style=\"color: #ff0000; text-decoration-color: #ff0000\">│</span>\n",
       "<span style=\"color: #ff0000; text-decoration-color: #ff0000\">│</span>   <span style=\"color: #7f7f7f; text-decoration-color: #7f7f7f\">718 </span><span style=\"color: #7f7f7f; text-decoration-color: #7f7f7f\">│   │   </span><span style=\"color: #0000ff; text-decoration-color: #0000ff\">while</span> <span style=\"color: #0000ff; text-decoration-color: #0000ff\">True</span>:                                                                        <span style=\"color: #ff0000; text-decoration-color: #ff0000\">│</span>\n",
       "<span style=\"color: #ff0000; text-decoration-color: #ff0000\">│</span>   <span style=\"color: #7f7f7f; text-decoration-color: #7f7f7f\">719 </span><span style=\"color: #7f7f7f; text-decoration-color: #7f7f7f\">│   │   │   </span><span style=\"color: #0000ff; text-decoration-color: #0000ff\">try</span>:                                                                           <span style=\"color: #ff0000; text-decoration-color: #ff0000\">│</span>\n",
       "<span style=\"color: #ff0000; text-decoration-color: #ff0000\">│</span> <span style=\"color: #800000; text-decoration-color: #800000\">❱ </span>720 <span style=\"color: #7f7f7f; text-decoration-color: #7f7f7f\">│   │   │   │   </span><span style=\"color: #0000ff; text-decoration-color: #0000ff\">return</span> <span style=\"color: #00ffff; text-decoration-color: #00ffff\">self</span>._sock.recv_into(b)                                             <span style=\"color: #ff0000; text-decoration-color: #ff0000\">│</span>\n",
       "<span style=\"color: #ff0000; text-decoration-color: #ff0000\">│</span>   <span style=\"color: #7f7f7f; text-decoration-color: #7f7f7f\">721 </span><span style=\"color: #7f7f7f; text-decoration-color: #7f7f7f\">│   │   │   </span><span style=\"color: #0000ff; text-decoration-color: #0000ff\">except</span> timeout:                                                                <span style=\"color: #ff0000; text-decoration-color: #ff0000\">│</span>\n",
       "<span style=\"color: #ff0000; text-decoration-color: #ff0000\">│</span>   <span style=\"color: #7f7f7f; text-decoration-color: #7f7f7f\">722 </span><span style=\"color: #7f7f7f; text-decoration-color: #7f7f7f\">│   │   │   │   </span><span style=\"color: #00ffff; text-decoration-color: #00ffff\">self</span>._timeout_occurred = <span style=\"color: #0000ff; text-decoration-color: #0000ff\">True</span>                                              <span style=\"color: #ff0000; text-decoration-color: #ff0000\">│</span>\n",
       "<span style=\"color: #ff0000; text-decoration-color: #ff0000\">│</span>   <span style=\"color: #7f7f7f; text-decoration-color: #7f7f7f\">723 </span><span style=\"color: #7f7f7f; text-decoration-color: #7f7f7f\">│   │   │   │   </span><span style=\"color: #0000ff; text-decoration-color: #0000ff\">raise</span>                                                                      <span style=\"color: #ff0000; text-decoration-color: #ff0000\">│</span>\n",
       "<span style=\"color: #ff0000; text-decoration-color: #ff0000\">│</span>                                                                                                  <span style=\"color: #ff0000; text-decoration-color: #ff0000\">│</span>\n",
       "<span style=\"color: #ff0000; text-decoration-color: #ff0000\">│</span> <span style=\"color: #7f7f7f; text-decoration-color: #7f7f7f\">/opt/conda/lib/python3.12/</span><span style=\"font-weight: bold\">ssl.py</span>:1251 in recv_into                                               <span style=\"color: #ff0000; text-decoration-color: #ff0000\">│</span>\n",
       "<span style=\"color: #ff0000; text-decoration-color: #ff0000\">│</span>                                                                                                  <span style=\"color: #ff0000; text-decoration-color: #ff0000\">│</span>\n",
       "<span style=\"color: #ff0000; text-decoration-color: #ff0000\">│</span>   <span style=\"color: #7f7f7f; text-decoration-color: #7f7f7f\">1248 </span><span style=\"color: #7f7f7f; text-decoration-color: #7f7f7f\">│   │   │   │   </span><span style=\"color: #0000ff; text-decoration-color: #0000ff\">raise</span> <span style=\"color: #00ffff; text-decoration-color: #00ffff\">ValueError</span>(                                                         <span style=\"color: #ff0000; text-decoration-color: #ff0000\">│</span>\n",
       "<span style=\"color: #ff0000; text-decoration-color: #ff0000\">│</span>   <span style=\"color: #7f7f7f; text-decoration-color: #7f7f7f\">1249 </span><span style=\"color: #7f7f7f; text-decoration-color: #7f7f7f\">│   │   │   │     </span><span style=\"color: #808000; text-decoration-color: #808000\">\"non-zero flags not allowed in calls to recv_into() on %s\"</span> %            <span style=\"color: #ff0000; text-decoration-color: #ff0000\">│</span>\n",
       "<span style=\"color: #ff0000; text-decoration-color: #ff0000\">│</span>   <span style=\"color: #7f7f7f; text-decoration-color: #7f7f7f\">1250 </span><span style=\"color: #7f7f7f; text-decoration-color: #7f7f7f\">│   │   │   │     </span><span style=\"color: #00ffff; text-decoration-color: #00ffff\">self</span>.<span style=\"color: #ff0000; text-decoration-color: #ff0000\">__class__</span>)                                                         <span style=\"color: #ff0000; text-decoration-color: #ff0000\">│</span>\n",
       "<span style=\"color: #ff0000; text-decoration-color: #ff0000\">│</span> <span style=\"color: #800000; text-decoration-color: #800000\">❱ </span>1251 <span style=\"color: #7f7f7f; text-decoration-color: #7f7f7f\">│   │   │   </span><span style=\"color: #0000ff; text-decoration-color: #0000ff\">return</span> <span style=\"color: #00ffff; text-decoration-color: #00ffff; font-weight: bold; text-decoration: underline\">self</span><span style=\"font-weight: bold; text-decoration: underline\">.read(nbytes, buffer)</span>                                              <span style=\"color: #ff0000; text-decoration-color: #ff0000\">│</span>\n",
       "<span style=\"color: #ff0000; text-decoration-color: #ff0000\">│</span>   <span style=\"color: #7f7f7f; text-decoration-color: #7f7f7f\">1252 </span><span style=\"color: #7f7f7f; text-decoration-color: #7f7f7f\">│   │   </span><span style=\"color: #0000ff; text-decoration-color: #0000ff\">else</span>:                                                                             <span style=\"color: #ff0000; text-decoration-color: #ff0000\">│</span>\n",
       "<span style=\"color: #ff0000; text-decoration-color: #ff0000\">│</span>   <span style=\"color: #7f7f7f; text-decoration-color: #7f7f7f\">1253 </span><span style=\"color: #7f7f7f; text-decoration-color: #7f7f7f\">│   │   │   </span><span style=\"color: #0000ff; text-decoration-color: #0000ff\">return</span> <span style=\"color: #00ffff; text-decoration-color: #00ffff\">super</span>().recv_into(buffer, nbytes, flags)                               <span style=\"color: #ff0000; text-decoration-color: #ff0000\">│</span>\n",
       "<span style=\"color: #ff0000; text-decoration-color: #ff0000\">│</span>   <span style=\"color: #7f7f7f; text-decoration-color: #7f7f7f\">1254 </span>                                                                                          <span style=\"color: #ff0000; text-decoration-color: #ff0000\">│</span>\n",
       "<span style=\"color: #ff0000; text-decoration-color: #ff0000\">│</span>                                                                                                  <span style=\"color: #ff0000; text-decoration-color: #ff0000\">│</span>\n",
       "<span style=\"color: #ff0000; text-decoration-color: #ff0000\">│</span> <span style=\"color: #7f7f7f; text-decoration-color: #7f7f7f\">/opt/conda/lib/python3.12/</span><span style=\"font-weight: bold\">ssl.py</span>:1103 in read                                                    <span style=\"color: #ff0000; text-decoration-color: #ff0000\">│</span>\n",
       "<span style=\"color: #ff0000; text-decoration-color: #ff0000\">│</span>                                                                                                  <span style=\"color: #ff0000; text-decoration-color: #ff0000\">│</span>\n",
       "<span style=\"color: #ff0000; text-decoration-color: #ff0000\">│</span>   <span style=\"color: #7f7f7f; text-decoration-color: #7f7f7f\">1100 </span><span style=\"color: #7f7f7f; text-decoration-color: #7f7f7f\">│   │   │   </span><span style=\"color: #0000ff; text-decoration-color: #0000ff\">raise</span> <span style=\"color: #00ffff; text-decoration-color: #00ffff\">ValueError</span>(<span style=\"color: #808000; text-decoration-color: #808000\">\"Read on closed or unwrapped SSL socket.\"</span>)                   <span style=\"color: #ff0000; text-decoration-color: #ff0000\">│</span>\n",
       "<span style=\"color: #ff0000; text-decoration-color: #ff0000\">│</span>   <span style=\"color: #7f7f7f; text-decoration-color: #7f7f7f\">1101 </span><span style=\"color: #7f7f7f; text-decoration-color: #7f7f7f\">│   │   </span><span style=\"color: #0000ff; text-decoration-color: #0000ff\">try</span>:                                                                              <span style=\"color: #ff0000; text-decoration-color: #ff0000\">│</span>\n",
       "<span style=\"color: #ff0000; text-decoration-color: #ff0000\">│</span>   <span style=\"color: #7f7f7f; text-decoration-color: #7f7f7f\">1102 </span><span style=\"color: #7f7f7f; text-decoration-color: #7f7f7f\">│   │   │   </span><span style=\"color: #0000ff; text-decoration-color: #0000ff\">if</span> buffer <span style=\"color: #ff00ff; text-decoration-color: #ff00ff\">is</span> <span style=\"color: #ff00ff; text-decoration-color: #ff00ff\">not</span> <span style=\"color: #0000ff; text-decoration-color: #0000ff\">None</span>:                                                        <span style=\"color: #ff0000; text-decoration-color: #ff0000\">│</span>\n",
       "<span style=\"color: #ff0000; text-decoration-color: #ff0000\">│</span> <span style=\"color: #800000; text-decoration-color: #800000\">❱ </span>1103 <span style=\"color: #7f7f7f; text-decoration-color: #7f7f7f\">│   │   │   │   </span><span style=\"color: #0000ff; text-decoration-color: #0000ff\">return</span> <span style=\"color: #00ffff; text-decoration-color: #00ffff\">self</span>._sslobj.read(<span style=\"color: #00ffff; text-decoration-color: #00ffff\">len</span>, buffer)                                     <span style=\"color: #ff0000; text-decoration-color: #ff0000\">│</span>\n",
       "<span style=\"color: #ff0000; text-decoration-color: #ff0000\">│</span>   <span style=\"color: #7f7f7f; text-decoration-color: #7f7f7f\">1104 </span><span style=\"color: #7f7f7f; text-decoration-color: #7f7f7f\">│   │   │   </span><span style=\"color: #0000ff; text-decoration-color: #0000ff\">else</span>:                                                                         <span style=\"color: #ff0000; text-decoration-color: #ff0000\">│</span>\n",
       "<span style=\"color: #ff0000; text-decoration-color: #ff0000\">│</span>   <span style=\"color: #7f7f7f; text-decoration-color: #7f7f7f\">1105 </span><span style=\"color: #7f7f7f; text-decoration-color: #7f7f7f\">│   │   │   │   </span><span style=\"color: #0000ff; text-decoration-color: #0000ff\">return</span> <span style=\"color: #00ffff; text-decoration-color: #00ffff\">self</span>._sslobj.read(<span style=\"color: #00ffff; text-decoration-color: #00ffff\">len</span>)                                             <span style=\"color: #ff0000; text-decoration-color: #ff0000\">│</span>\n",
       "<span style=\"color: #ff0000; text-decoration-color: #ff0000\">│</span>   <span style=\"color: #7f7f7f; text-decoration-color: #7f7f7f\">1106 </span><span style=\"color: #7f7f7f; text-decoration-color: #7f7f7f\">│   │   </span><span style=\"color: #0000ff; text-decoration-color: #0000ff; font-weight: bold; text-decoration: underline\">except</span><span style=\"font-weight: bold; text-decoration: underline\"> SSLError </span><span style=\"color: #0000ff; text-decoration-color: #0000ff; font-weight: bold; text-decoration: underline\">as</span><span style=\"font-weight: bold; text-decoration: underline\"> x:</span>                                                             <span style=\"color: #ff0000; text-decoration-color: #ff0000\">│</span>\n",
       "<span style=\"color: #ff0000; text-decoration-color: #ff0000\">╰──────────────────────────────────────────────────────────────────────────────────────────────────╯</span>\n",
       "<span style=\"color: #ff0000; text-decoration-color: #ff0000; font-weight: bold\">KeyboardInterrupt</span>\n",
       "</pre>\n"
      ],
      "text/plain": [
       "\u001b[38;2;255;0;0m╭─\u001b[0m\u001b[38;2;255;0;0m──────────────────────────────\u001b[0m\u001b[38;2;255;0;0m \u001b[0m\u001b[1;38;2;255;0;0mTraceback \u001b[0m\u001b[1;2;38;2;255;0;0m(most recent call last)\u001b[0m\u001b[38;2;255;0;0m \u001b[0m\u001b[38;2;255;0;0m───────────────────────────────\u001b[0m\u001b[38;2;255;0;0m─╮\u001b[0m\n",
       "\u001b[38;2;255;0;0m│\u001b[0m \u001b[2m/opt/conda/lib/python3.12/site-packages/IPython/core/magics/\u001b[0m\u001b[1mexecution.py\u001b[0m:1364 in time            \u001b[38;2;255;0;0m│\u001b[0m\n",
       "\u001b[38;2;255;0;0m│\u001b[0m                                                                                                  \u001b[38;2;255;0;0m│\u001b[0m\n",
       "\u001b[38;2;255;0;0m│\u001b[0m   \u001b[2m1361 \u001b[0m\u001b[2m│   │   \u001b[0m\u001b[94melse\u001b[0m:                                                                             \u001b[38;2;255;0;0m│\u001b[0m\n",
       "\u001b[38;2;255;0;0m│\u001b[0m   \u001b[2m1362 \u001b[0m\u001b[2m│   │   │   \u001b[0mst = clock2()                                                                 \u001b[38;2;255;0;0m│\u001b[0m\n",
       "\u001b[38;2;255;0;0m│\u001b[0m   \u001b[2m1363 \u001b[0m\u001b[2m│   │   │   \u001b[0m\u001b[94mtry\u001b[0m:                                                                          \u001b[38;2;255;0;0m│\u001b[0m\n",
       "\u001b[38;2;255;0;0m│\u001b[0m \u001b[31m❱ \u001b[0m1364 \u001b[2m│   │   │   │   \u001b[0mexec(code, glob, local_ns)                                                \u001b[38;2;255;0;0m│\u001b[0m\n",
       "\u001b[38;2;255;0;0m│\u001b[0m   \u001b[2m1365 \u001b[0m\u001b[2m│   │   │   │   \u001b[0mout=\u001b[94mNone\u001b[0m                                                                  \u001b[38;2;255;0;0m│\u001b[0m\n",
       "\u001b[38;2;255;0;0m│\u001b[0m   \u001b[2m1366 \u001b[0m\u001b[2m│   │   │   │   \u001b[0m\u001b[2m# multi-line %%time case\u001b[0m                                                  \u001b[38;2;255;0;0m│\u001b[0m\n",
       "\u001b[38;2;255;0;0m│\u001b[0m   \u001b[2m1367 \u001b[0m\u001b[2m│   │   │   │   \u001b[0m\u001b[94mif\u001b[0m expr_val \u001b[95mis\u001b[0m \u001b[95mnot\u001b[0m \u001b[94mNone\u001b[0m:                                                  \u001b[38;2;255;0;0m│\u001b[0m\n",
       "\u001b[38;2;255;0;0m│\u001b[0m in <module>:3                                                                                    \u001b[38;2;255;0;0m│\u001b[0m\n",
       "\u001b[38;2;255;0;0m│\u001b[0m                                                                                                  \u001b[38;2;255;0;0m│\u001b[0m\n",
       "\u001b[38;2;255;0;0m│\u001b[0m \u001b[2m/opt/conda/lib/python3.12/site-packages/botocore/\u001b[0m\u001b[1mclient.py\u001b[0m:602 in _api_call                      \u001b[38;2;255;0;0m│\u001b[0m\n",
       "\u001b[38;2;255;0;0m│\u001b[0m                                                                                                  \u001b[38;2;255;0;0m│\u001b[0m\n",
       "\u001b[38;2;255;0;0m│\u001b[0m   \u001b[2m 599 \u001b[0m\u001b[2m│   │   │   │   │   \u001b[0m\u001b[33mf\u001b[0m\u001b[33m\"\u001b[0m\u001b[33m{\u001b[0mpy_operation_name\u001b[33m}\u001b[0m\u001b[33m() only accepts keyword arguments.\u001b[0m\u001b[33m\"\u001b[0m              \u001b[38;2;255;0;0m│\u001b[0m\n",
       "\u001b[38;2;255;0;0m│\u001b[0m   \u001b[2m 600 \u001b[0m\u001b[2m│   │   │   │   \u001b[0m)                                                                         \u001b[38;2;255;0;0m│\u001b[0m\n",
       "\u001b[38;2;255;0;0m│\u001b[0m   \u001b[2m 601 \u001b[0m\u001b[2m│   │   │   \u001b[0m\u001b[2m# The \"self\" in this scope is referring to the BaseClient.\u001b[0m                    \u001b[38;2;255;0;0m│\u001b[0m\n",
       "\u001b[38;2;255;0;0m│\u001b[0m \u001b[31m❱ \u001b[0m 602 \u001b[2m│   │   │   \u001b[0m\u001b[94mreturn\u001b[0m \u001b[1;4;96mself\u001b[0m\u001b[1;4m._make_api_call(operation_name, kwargs)\u001b[0m                            \u001b[38;2;255;0;0m│\u001b[0m\n",
       "\u001b[38;2;255;0;0m│\u001b[0m   \u001b[2m 603 \u001b[0m\u001b[2m│   │   \u001b[0m                                                                                  \u001b[38;2;255;0;0m│\u001b[0m\n",
       "\u001b[38;2;255;0;0m│\u001b[0m   \u001b[2m 604 \u001b[0m\u001b[2m│   │   \u001b[0m_api_call.\u001b[91m__name__\u001b[0m = \u001b[96mstr\u001b[0m(py_operation_name)                                       \u001b[38;2;255;0;0m│\u001b[0m\n",
       "\u001b[38;2;255;0;0m│\u001b[0m   \u001b[2m 605 \u001b[0m                                                                                          \u001b[38;2;255;0;0m│\u001b[0m\n",
       "\u001b[38;2;255;0;0m│\u001b[0m                                                                                                  \u001b[38;2;255;0;0m│\u001b[0m\n",
       "\u001b[38;2;255;0;0m│\u001b[0m \u001b[2m/opt/conda/lib/python3.12/site-packages/botocore/\u001b[0m\u001b[1mcontext.py\u001b[0m:123 in wrapper                       \u001b[38;2;255;0;0m│\u001b[0m\n",
       "\u001b[38;2;255;0;0m│\u001b[0m                                                                                                  \u001b[38;2;255;0;0m│\u001b[0m\n",
       "\u001b[38;2;255;0;0m│\u001b[0m   \u001b[2m120 \u001b[0m\u001b[2m│   │   │   \u001b[0m\u001b[94mwith\u001b[0m start_as_current_context():                                               \u001b[38;2;255;0;0m│\u001b[0m\n",
       "\u001b[38;2;255;0;0m│\u001b[0m   \u001b[2m121 \u001b[0m\u001b[2m│   │   │   │   \u001b[0m\u001b[94mif\u001b[0m hook:                                                                   \u001b[38;2;255;0;0m│\u001b[0m\n",
       "\u001b[38;2;255;0;0m│\u001b[0m   \u001b[2m122 \u001b[0m\u001b[2m│   │   │   │   │   \u001b[0mhook()                                                                 \u001b[38;2;255;0;0m│\u001b[0m\n",
       "\u001b[38;2;255;0;0m│\u001b[0m \u001b[31m❱ \u001b[0m123 \u001b[2m│   │   │   │   \u001b[0m\u001b[94mreturn\u001b[0m \u001b[1;4mfunc(*args, **kwargs)\u001b[0m                                               \u001b[38;2;255;0;0m│\u001b[0m\n",
       "\u001b[38;2;255;0;0m│\u001b[0m   \u001b[2m124 \u001b[0m\u001b[2m│   │   \u001b[0m                                                                                   \u001b[38;2;255;0;0m│\u001b[0m\n",
       "\u001b[38;2;255;0;0m│\u001b[0m   \u001b[2m125 \u001b[0m\u001b[2m│   │   \u001b[0m\u001b[94mreturn\u001b[0m wrapper                                                                     \u001b[38;2;255;0;0m│\u001b[0m\n",
       "\u001b[38;2;255;0;0m│\u001b[0m   \u001b[2m126 \u001b[0m                                                                                           \u001b[38;2;255;0;0m│\u001b[0m\n",
       "\u001b[38;2;255;0;0m│\u001b[0m                                                                                                  \u001b[38;2;255;0;0m│\u001b[0m\n",
       "\u001b[38;2;255;0;0m│\u001b[0m \u001b[2m/opt/conda/lib/python3.12/site-packages/botocore/\u001b[0m\u001b[1mclient.py\u001b[0m:1060 in _make_api_call                \u001b[38;2;255;0;0m│\u001b[0m\n",
       "\u001b[38;2;255;0;0m│\u001b[0m                                                                                                  \u001b[38;2;255;0;0m│\u001b[0m\n",
       "\u001b[38;2;255;0;0m│\u001b[0m   \u001b[2m1057 \u001b[0m\u001b[2m│   │   │   │   \u001b[0m\u001b[96mself\u001b[0m.meta.config, request_dict, operation_model                           \u001b[38;2;255;0;0m│\u001b[0m\n",
       "\u001b[38;2;255;0;0m│\u001b[0m   \u001b[2m1058 \u001b[0m\u001b[2m│   │   │   \u001b[0m)                                                                             \u001b[38;2;255;0;0m│\u001b[0m\n",
       "\u001b[38;2;255;0;0m│\u001b[0m   \u001b[2m1059 \u001b[0m\u001b[2m│   │   │   \u001b[0mapply_request_checksum(request_dict)                                          \u001b[38;2;255;0;0m│\u001b[0m\n",
       "\u001b[38;2;255;0;0m│\u001b[0m \u001b[31m❱ \u001b[0m1060 \u001b[2m│   │   │   \u001b[0mhttp, parsed_response = \u001b[1;4;96mself\u001b[0m\u001b[1;4m._make_request(\u001b[0m                                   \u001b[38;2;255;0;0m│\u001b[0m\n",
       "\u001b[38;2;255;0;0m│\u001b[0m   \u001b[2m1061 \u001b[0m\u001b[2m│   │   │   │   \u001b[0m\u001b[1;4moperation_model, request_dict, request_context\u001b[0m                            \u001b[38;2;255;0;0m│\u001b[0m\n",
       "\u001b[38;2;255;0;0m│\u001b[0m   \u001b[2m1062 \u001b[0m\u001b[2m│   │   │   \u001b[0m\u001b[1;4m)\u001b[0m                                                                             \u001b[38;2;255;0;0m│\u001b[0m\n",
       "\u001b[38;2;255;0;0m│\u001b[0m   \u001b[2m1063 \u001b[0m                                                                                          \u001b[38;2;255;0;0m│\u001b[0m\n",
       "\u001b[38;2;255;0;0m│\u001b[0m                                                                                                  \u001b[38;2;255;0;0m│\u001b[0m\n",
       "\u001b[38;2;255;0;0m│\u001b[0m \u001b[2m/opt/conda/lib/python3.12/site-packages/botocore/\u001b[0m\u001b[1mclient.py\u001b[0m:1084 in _make_request                 \u001b[38;2;255;0;0m│\u001b[0m\n",
       "\u001b[38;2;255;0;0m│\u001b[0m                                                                                                  \u001b[38;2;255;0;0m│\u001b[0m\n",
       "\u001b[38;2;255;0;0m│\u001b[0m   \u001b[2m1081 \u001b[0m\u001b[2m│   \u001b[0m                                                                                      \u001b[38;2;255;0;0m│\u001b[0m\n",
       "\u001b[38;2;255;0;0m│\u001b[0m   \u001b[2m1082 \u001b[0m\u001b[2m│   \u001b[0m\u001b[94mdef\u001b[0m\u001b[90m \u001b[0m\u001b[92m_make_request\u001b[0m(\u001b[96mself\u001b[0m, operation_model, request_dict, request_context):              \u001b[38;2;255;0;0m│\u001b[0m\n",
       "\u001b[38;2;255;0;0m│\u001b[0m   \u001b[2m1083 \u001b[0m\u001b[2m│   │   \u001b[0m\u001b[94mtry\u001b[0m:                                                                              \u001b[38;2;255;0;0m│\u001b[0m\n",
       "\u001b[38;2;255;0;0m│\u001b[0m \u001b[31m❱ \u001b[0m1084 \u001b[2m│   │   │   \u001b[0m\u001b[94mreturn\u001b[0m \u001b[96mself\u001b[0m._endpoint.make_request(operation_model, request_dict)             \u001b[38;2;255;0;0m│\u001b[0m\n",
       "\u001b[38;2;255;0;0m│\u001b[0m   \u001b[2m1085 \u001b[0m\u001b[2m│   │   \u001b[0m\u001b[1;4;94mexcept\u001b[0m\u001b[1;4m \u001b[0m\u001b[1;4;96mException\u001b[0m\u001b[1;4m \u001b[0m\u001b[1;4;94mas\u001b[0m\u001b[1;4m e:\u001b[0m                                                            \u001b[38;2;255;0;0m│\u001b[0m\n",
       "\u001b[38;2;255;0;0m│\u001b[0m   \u001b[2m1086 \u001b[0m\u001b[2m│   │   │   \u001b[0m\u001b[1;4;96mself\u001b[0m\u001b[1;4m.meta.events.emit(\u001b[0m                                                        \u001b[38;2;255;0;0m│\u001b[0m\n",
       "\u001b[38;2;255;0;0m│\u001b[0m   \u001b[2m1087 \u001b[0m\u001b[2m│   │   │   │   \u001b[0m\u001b[1;4;33mf\u001b[0m\u001b[1;4;33m'\u001b[0m\u001b[1;4;33mafter-call-error.\u001b[0m\u001b[1;4;33m{\u001b[0m\u001b[1;4;96mself\u001b[0m\u001b[1;4m._service_model.service_id.hyphenize()\u001b[0m\u001b[1;4;33m}\u001b[0m\u001b[1;4;33m.\u001b[0m\u001b[1;4;33m{\u001b[0m\u001b[1;4moperati\u001b[0m  \u001b[38;2;255;0;0m│\u001b[0m\n",
       "\u001b[38;2;255;0;0m│\u001b[0m                                                                                                  \u001b[38;2;255;0;0m│\u001b[0m\n",
       "\u001b[38;2;255;0;0m│\u001b[0m \u001b[2m/opt/conda/lib/python3.12/site-packages/botocore/\u001b[0m\u001b[1mendpoint.py\u001b[0m:119 in make_request                 \u001b[38;2;255;0;0m│\u001b[0m\n",
       "\u001b[38;2;255;0;0m│\u001b[0m                                                                                                  \u001b[38;2;255;0;0m│\u001b[0m\n",
       "\u001b[38;2;255;0;0m│\u001b[0m   \u001b[2m116 \u001b[0m\u001b[2m│   │   │   \u001b[0moperation_model,                                                               \u001b[38;2;255;0;0m│\u001b[0m\n",
       "\u001b[38;2;255;0;0m│\u001b[0m   \u001b[2m117 \u001b[0m\u001b[2m│   │   │   \u001b[0mrequest_dict,                                                                  \u001b[38;2;255;0;0m│\u001b[0m\n",
       "\u001b[38;2;255;0;0m│\u001b[0m   \u001b[2m118 \u001b[0m\u001b[2m│   │   \u001b[0m)                                                                                  \u001b[38;2;255;0;0m│\u001b[0m\n",
       "\u001b[38;2;255;0;0m│\u001b[0m \u001b[31m❱ \u001b[0m119 \u001b[2m│   │   \u001b[0m\u001b[94mreturn\u001b[0m \u001b[1;4;96mself\u001b[0m\u001b[1;4m._send_request(request_dict, operation_model)\u001b[0m                           \u001b[38;2;255;0;0m│\u001b[0m\n",
       "\u001b[38;2;255;0;0m│\u001b[0m   \u001b[2m120 \u001b[0m\u001b[2m│   \u001b[0m                                                                                       \u001b[38;2;255;0;0m│\u001b[0m\n",
       "\u001b[38;2;255;0;0m│\u001b[0m   \u001b[2m121 \u001b[0m\u001b[2m│   \u001b[0m\u001b[94mdef\u001b[0m\u001b[90m \u001b[0m\u001b[92mcreate_request\u001b[0m(\u001b[96mself\u001b[0m, params, operation_model=\u001b[94mNone\u001b[0m):                                \u001b[38;2;255;0;0m│\u001b[0m\n",
       "\u001b[38;2;255;0;0m│\u001b[0m   \u001b[2m122 \u001b[0m\u001b[2m│   │   \u001b[0mrequest = create_request_object(params)                                            \u001b[38;2;255;0;0m│\u001b[0m\n",
       "\u001b[38;2;255;0;0m│\u001b[0m                                                                                                  \u001b[38;2;255;0;0m│\u001b[0m\n",
       "\u001b[38;2;255;0;0m│\u001b[0m \u001b[2m/opt/conda/lib/python3.12/site-packages/botocore/\u001b[0m\u001b[1mendpoint.py\u001b[0m:197 in _send_request                \u001b[38;2;255;0;0m│\u001b[0m\n",
       "\u001b[38;2;255;0;0m│\u001b[0m                                                                                                  \u001b[38;2;255;0;0m│\u001b[0m\n",
       "\u001b[38;2;255;0;0m│\u001b[0m   \u001b[2m194 \u001b[0m\u001b[2m│   │   \u001b[0mcontext = request_dict[\u001b[33m'\u001b[0m\u001b[33mcontext\u001b[0m\u001b[33m'\u001b[0m]                                                  \u001b[38;2;255;0;0m│\u001b[0m\n",
       "\u001b[38;2;255;0;0m│\u001b[0m   \u001b[2m195 \u001b[0m\u001b[2m│   │   \u001b[0m\u001b[96mself\u001b[0m._update_retries_context(context, attempts)                                    \u001b[38;2;255;0;0m│\u001b[0m\n",
       "\u001b[38;2;255;0;0m│\u001b[0m   \u001b[2m196 \u001b[0m\u001b[2m│   │   \u001b[0mrequest = \u001b[96mself\u001b[0m.create_request(request_dict, operation_model)                       \u001b[38;2;255;0;0m│\u001b[0m\n",
       "\u001b[38;2;255;0;0m│\u001b[0m \u001b[31m❱ \u001b[0m197 \u001b[2m│   │   \u001b[0msuccess_response, exception = \u001b[1;4;96mself\u001b[0m\u001b[1;4m._get_response(\u001b[0m                                  \u001b[38;2;255;0;0m│\u001b[0m\n",
       "\u001b[38;2;255;0;0m│\u001b[0m   \u001b[2m198 \u001b[0m\u001b[2m│   │   │   \u001b[0m\u001b[1;4mrequest, operation_model, context\u001b[0m                                              \u001b[38;2;255;0;0m│\u001b[0m\n",
       "\u001b[38;2;255;0;0m│\u001b[0m   \u001b[2m199 \u001b[0m\u001b[2m│   │   \u001b[0m\u001b[1;4m)\u001b[0m                                                                                  \u001b[38;2;255;0;0m│\u001b[0m\n",
       "\u001b[38;2;255;0;0m│\u001b[0m   \u001b[2m200 \u001b[0m\u001b[2m│   │   \u001b[0m\u001b[94mwhile\u001b[0m \u001b[96mself\u001b[0m._needs_retry(                                                           \u001b[38;2;255;0;0m│\u001b[0m\n",
       "\u001b[38;2;255;0;0m│\u001b[0m                                                                                                  \u001b[38;2;255;0;0m│\u001b[0m\n",
       "\u001b[38;2;255;0;0m│\u001b[0m \u001b[2m/opt/conda/lib/python3.12/site-packages/botocore/\u001b[0m\u001b[1mendpoint.py\u001b[0m:239 in _get_response                \u001b[38;2;255;0;0m│\u001b[0m\n",
       "\u001b[38;2;255;0;0m│\u001b[0m                                                                                                  \u001b[38;2;255;0;0m│\u001b[0m\n",
       "\u001b[38;2;255;0;0m│\u001b[0m   \u001b[2m236 \u001b[0m\u001b[2m│   │   \u001b[0m\u001b[2m# (http_response, parsed_dict).\u001b[0m                                                    \u001b[38;2;255;0;0m│\u001b[0m\n",
       "\u001b[38;2;255;0;0m│\u001b[0m   \u001b[2m237 \u001b[0m\u001b[2m│   │   \u001b[0m\u001b[2m# If an exception occurs then the success_response is None.\u001b[0m                        \u001b[38;2;255;0;0m│\u001b[0m\n",
       "\u001b[38;2;255;0;0m│\u001b[0m   \u001b[2m238 \u001b[0m\u001b[2m│   │   \u001b[0m\u001b[2m# If no exception occurs then exception is None.\u001b[0m                                   \u001b[38;2;255;0;0m│\u001b[0m\n",
       "\u001b[38;2;255;0;0m│\u001b[0m \u001b[31m❱ \u001b[0m239 \u001b[2m│   │   \u001b[0msuccess_response, exception = \u001b[1;4;96mself\u001b[0m\u001b[1;4m._do_get_response(\u001b[0m                               \u001b[38;2;255;0;0m│\u001b[0m\n",
       "\u001b[38;2;255;0;0m│\u001b[0m   \u001b[2m240 \u001b[0m\u001b[2m│   │   │   \u001b[0m\u001b[1;4mrequest, operation_model, context\u001b[0m                                              \u001b[38;2;255;0;0m│\u001b[0m\n",
       "\u001b[38;2;255;0;0m│\u001b[0m   \u001b[2m241 \u001b[0m\u001b[2m│   │   \u001b[0m\u001b[1;4m)\u001b[0m                                                                                  \u001b[38;2;255;0;0m│\u001b[0m\n",
       "\u001b[38;2;255;0;0m│\u001b[0m   \u001b[2m242 \u001b[0m\u001b[2m│   │   \u001b[0mkwargs_to_emit = {                                                                 \u001b[38;2;255;0;0m│\u001b[0m\n",
       "\u001b[38;2;255;0;0m│\u001b[0m                                                                                                  \u001b[38;2;255;0;0m│\u001b[0m\n",
       "\u001b[38;2;255;0;0m│\u001b[0m \u001b[2m/opt/conda/lib/python3.12/site-packages/botocore/\u001b[0m\u001b[1mendpoint.py\u001b[0m:279 in _do_get_response             \u001b[38;2;255;0;0m│\u001b[0m\n",
       "\u001b[38;2;255;0;0m│\u001b[0m                                                                                                  \u001b[38;2;255;0;0m│\u001b[0m\n",
       "\u001b[38;2;255;0;0m│\u001b[0m   \u001b[2m276 \u001b[0m\u001b[2m│   │   │   \u001b[0mresponses = \u001b[96mself\u001b[0m._event_emitter.emit(event_name, request=request)              \u001b[38;2;255;0;0m│\u001b[0m\n",
       "\u001b[38;2;255;0;0m│\u001b[0m   \u001b[2m277 \u001b[0m\u001b[2m│   │   │   \u001b[0mhttp_response = first_non_none_response(responses)                             \u001b[38;2;255;0;0m│\u001b[0m\n",
       "\u001b[38;2;255;0;0m│\u001b[0m   \u001b[2m278 \u001b[0m\u001b[2m│   │   │   \u001b[0m\u001b[94mif\u001b[0m http_response \u001b[95mis\u001b[0m \u001b[94mNone\u001b[0m:                                                      \u001b[38;2;255;0;0m│\u001b[0m\n",
       "\u001b[38;2;255;0;0m│\u001b[0m \u001b[31m❱ \u001b[0m279 \u001b[2m│   │   │   │   \u001b[0mhttp_response = \u001b[96mself\u001b[0m._send(request)                                        \u001b[38;2;255;0;0m│\u001b[0m\n",
       "\u001b[38;2;255;0;0m│\u001b[0m   \u001b[2m280 \u001b[0m\u001b[2m│   │   \u001b[0m\u001b[94mexcept\u001b[0m HTTPClientError \u001b[94mas\u001b[0m e:                                                       \u001b[38;2;255;0;0m│\u001b[0m\n",
       "\u001b[38;2;255;0;0m│\u001b[0m   \u001b[2m281 \u001b[0m\u001b[2m│   │   │   \u001b[0m\u001b[94mreturn\u001b[0m (\u001b[94mNone\u001b[0m, e)                                                               \u001b[38;2;255;0;0m│\u001b[0m\n",
       "\u001b[38;2;255;0;0m│\u001b[0m   \u001b[2m282 \u001b[0m\u001b[2m│   │   \u001b[0m\u001b[1;4;94mexcept\u001b[0m\u001b[1;4m \u001b[0m\u001b[1;4;96mException\u001b[0m\u001b[1;4m \u001b[0m\u001b[1;4;94mas\u001b[0m\u001b[1;4m e:\u001b[0m                                                             \u001b[38;2;255;0;0m│\u001b[0m\n",
       "\u001b[38;2;255;0;0m│\u001b[0m                                                                                                  \u001b[38;2;255;0;0m│\u001b[0m\n",
       "\u001b[38;2;255;0;0m│\u001b[0m \u001b[2m/opt/conda/lib/python3.12/site-packages/botocore/\u001b[0m\u001b[1mendpoint.py\u001b[0m:383 in _send                        \u001b[38;2;255;0;0m│\u001b[0m\n",
       "\u001b[38;2;255;0;0m│\u001b[0m                                                                                                  \u001b[38;2;255;0;0m│\u001b[0m\n",
       "\u001b[38;2;255;0;0m│\u001b[0m   \u001b[2m380 \u001b[0m\u001b[2m│   │   │   \u001b[0m\u001b[94mreturn\u001b[0m \u001b[94mTrue\u001b[0m                                                                    \u001b[38;2;255;0;0m│\u001b[0m\n",
       "\u001b[38;2;255;0;0m│\u001b[0m   \u001b[2m381 \u001b[0m\u001b[2m│   \u001b[0m                                                                                       \u001b[38;2;255;0;0m│\u001b[0m\n",
       "\u001b[38;2;255;0;0m│\u001b[0m   \u001b[2m382 \u001b[0m\u001b[2m│   \u001b[0m\u001b[94mdef\u001b[0m\u001b[90m \u001b[0m\u001b[92m_send\u001b[0m(\u001b[96mself\u001b[0m, request):                                                              \u001b[38;2;255;0;0m│\u001b[0m\n",
       "\u001b[38;2;255;0;0m│\u001b[0m \u001b[31m❱ \u001b[0m383 \u001b[2m│   │   \u001b[0m\u001b[94mreturn\u001b[0m \u001b[1;4;96mself\u001b[0m\u001b[1;4m.http_session.send(request)\u001b[0m                                             \u001b[38;2;255;0;0m│\u001b[0m\n",
       "\u001b[38;2;255;0;0m│\u001b[0m   \u001b[2m384 \u001b[0m                                                                                           \u001b[38;2;255;0;0m│\u001b[0m\n",
       "\u001b[38;2;255;0;0m│\u001b[0m   \u001b[2m385 \u001b[0m                                                                                           \u001b[38;2;255;0;0m│\u001b[0m\n",
       "\u001b[38;2;255;0;0m│\u001b[0m   \u001b[2m386 \u001b[0m\u001b[94mclass\u001b[0m\u001b[90m \u001b[0m\u001b[4;92mEndpointCreator\u001b[0m:                                                                     \u001b[38;2;255;0;0m│\u001b[0m\n",
       "\u001b[38;2;255;0;0m│\u001b[0m                                                                                                  \u001b[38;2;255;0;0m│\u001b[0m\n",
       "\u001b[38;2;255;0;0m│\u001b[0m \u001b[2m/opt/conda/lib/python3.12/site-packages/botocore/\u001b[0m\u001b[1mhttpsession.py\u001b[0m:464 in send                      \u001b[38;2;255;0;0m│\u001b[0m\n",
       "\u001b[38;2;255;0;0m│\u001b[0m                                                                                                  \u001b[38;2;255;0;0m│\u001b[0m\n",
       "\u001b[38;2;255;0;0m│\u001b[0m   \u001b[2m461 \u001b[0m\u001b[2m│   │   │   │   \u001b[0mconn.proxy_headers[\u001b[33m'\u001b[0m\u001b[33mhost\u001b[0m\u001b[33m'\u001b[0m] = host                                          \u001b[38;2;255;0;0m│\u001b[0m\n",
       "\u001b[38;2;255;0;0m│\u001b[0m   \u001b[2m462 \u001b[0m\u001b[2m│   │   │   \u001b[0m                                                                               \u001b[38;2;255;0;0m│\u001b[0m\n",
       "\u001b[38;2;255;0;0m│\u001b[0m   \u001b[2m463 \u001b[0m\u001b[2m│   │   │   \u001b[0mrequest_target = \u001b[96mself\u001b[0m._get_request_target(request.url, proxy_url)              \u001b[38;2;255;0;0m│\u001b[0m\n",
       "\u001b[38;2;255;0;0m│\u001b[0m \u001b[31m❱ \u001b[0m464 \u001b[2m│   │   │   \u001b[0murllib_response = conn.urlopen(                                                \u001b[38;2;255;0;0m│\u001b[0m\n",
       "\u001b[38;2;255;0;0m│\u001b[0m   \u001b[2m465 \u001b[0m\u001b[2m│   │   │   │   \u001b[0mmethod=request.method,                                                     \u001b[38;2;255;0;0m│\u001b[0m\n",
       "\u001b[38;2;255;0;0m│\u001b[0m   \u001b[2m466 \u001b[0m\u001b[2m│   │   │   │   \u001b[0murl=request_target,                                                        \u001b[38;2;255;0;0m│\u001b[0m\n",
       "\u001b[38;2;255;0;0m│\u001b[0m   \u001b[2m467 \u001b[0m\u001b[2m│   │   │   │   \u001b[0mbody=request.body,                                                         \u001b[38;2;255;0;0m│\u001b[0m\n",
       "\u001b[38;2;255;0;0m│\u001b[0m                                                                                                  \u001b[38;2;255;0;0m│\u001b[0m\n",
       "\u001b[38;2;255;0;0m│\u001b[0m \u001b[2m/opt/conda/lib/python3.12/site-packages/urllib3/\u001b[0m\u001b[1mconnectionpool.py\u001b[0m:787 in urlopen                 \u001b[38;2;255;0;0m│\u001b[0m\n",
       "\u001b[38;2;255;0;0m│\u001b[0m                                                                                                  \u001b[38;2;255;0;0m│\u001b[0m\n",
       "\u001b[38;2;255;0;0m│\u001b[0m   \u001b[2m 784 \u001b[0m\u001b[2m│   │   │   \u001b[0mresponse_conn = conn \u001b[94mif\u001b[0m \u001b[95mnot\u001b[0m release_conn \u001b[94melse\u001b[0m \u001b[94mNone\u001b[0m                            \u001b[38;2;255;0;0m│\u001b[0m\n",
       "\u001b[38;2;255;0;0m│\u001b[0m   \u001b[2m 785 \u001b[0m\u001b[2m│   │   │   \u001b[0m                                                                              \u001b[38;2;255;0;0m│\u001b[0m\n",
       "\u001b[38;2;255;0;0m│\u001b[0m   \u001b[2m 786 \u001b[0m\u001b[2m│   │   │   \u001b[0m\u001b[2m# Make the request on the HTTPConnection object\u001b[0m                               \u001b[38;2;255;0;0m│\u001b[0m\n",
       "\u001b[38;2;255;0;0m│\u001b[0m \u001b[31m❱ \u001b[0m 787 \u001b[2m│   │   │   \u001b[0mresponse = \u001b[96mself\u001b[0m._make_request(                                                \u001b[38;2;255;0;0m│\u001b[0m\n",
       "\u001b[38;2;255;0;0m│\u001b[0m   \u001b[2m 788 \u001b[0m\u001b[2m│   │   │   │   \u001b[0mconn,                                                                     \u001b[38;2;255;0;0m│\u001b[0m\n",
       "\u001b[38;2;255;0;0m│\u001b[0m   \u001b[2m 789 \u001b[0m\u001b[2m│   │   │   │   \u001b[0mmethod,                                                                   \u001b[38;2;255;0;0m│\u001b[0m\n",
       "\u001b[38;2;255;0;0m│\u001b[0m   \u001b[2m 790 \u001b[0m\u001b[2m│   │   │   │   \u001b[0murl,                                                                      \u001b[38;2;255;0;0m│\u001b[0m\n",
       "\u001b[38;2;255;0;0m│\u001b[0m                                                                                                  \u001b[38;2;255;0;0m│\u001b[0m\n",
       "\u001b[38;2;255;0;0m│\u001b[0m \u001b[2m/opt/conda/lib/python3.12/site-packages/urllib3/\u001b[0m\u001b[1mconnectionpool.py\u001b[0m:534 in _make_request           \u001b[38;2;255;0;0m│\u001b[0m\n",
       "\u001b[38;2;255;0;0m│\u001b[0m                                                                                                  \u001b[38;2;255;0;0m│\u001b[0m\n",
       "\u001b[38;2;255;0;0m│\u001b[0m   \u001b[2m 531 \u001b[0m\u001b[2m│   │   \u001b[0m                                                                                  \u001b[38;2;255;0;0m│\u001b[0m\n",
       "\u001b[38;2;255;0;0m│\u001b[0m   \u001b[2m 532 \u001b[0m\u001b[2m│   │   \u001b[0m\u001b[2m# Receive the response from the server\u001b[0m                                            \u001b[38;2;255;0;0m│\u001b[0m\n",
       "\u001b[38;2;255;0;0m│\u001b[0m   \u001b[2m 533 \u001b[0m\u001b[2m│   │   \u001b[0m\u001b[94mtry\u001b[0m:                                                                              \u001b[38;2;255;0;0m│\u001b[0m\n",
       "\u001b[38;2;255;0;0m│\u001b[0m \u001b[31m❱ \u001b[0m 534 \u001b[2m│   │   │   \u001b[0mresponse = conn.getresponse()                                                 \u001b[38;2;255;0;0m│\u001b[0m\n",
       "\u001b[38;2;255;0;0m│\u001b[0m   \u001b[2m 535 \u001b[0m\u001b[2m│   │   \u001b[0m\u001b[1;4;94mexcept\u001b[0m\u001b[1;4m (BaseSSLError, \u001b[0m\u001b[1;4;96mOSError\u001b[0m\u001b[1;4m) \u001b[0m\u001b[1;4;94mas\u001b[0m\u001b[1;4m e:\u001b[0m                                              \u001b[38;2;255;0;0m│\u001b[0m\n",
       "\u001b[38;2;255;0;0m│\u001b[0m   \u001b[2m 536 \u001b[0m\u001b[2m│   │   │   \u001b[0m\u001b[1;4;96mself\u001b[0m\u001b[1;4m._raise_timeout(err=e, url=url, timeout_value=read_timeout)\u001b[0m               \u001b[38;2;255;0;0m│\u001b[0m\n",
       "\u001b[38;2;255;0;0m│\u001b[0m   \u001b[2m 537 \u001b[0m\u001b[2m│   │   │   \u001b[0m\u001b[1;4;94mraise\u001b[0m                                                                         \u001b[38;2;255;0;0m│\u001b[0m\n",
       "\u001b[38;2;255;0;0m│\u001b[0m                                                                                                  \u001b[38;2;255;0;0m│\u001b[0m\n",
       "\u001b[38;2;255;0;0m│\u001b[0m \u001b[2m/opt/conda/lib/python3.12/site-packages/urllib3/\u001b[0m\u001b[1mconnection.py\u001b[0m:516 in getresponse                 \u001b[38;2;255;0;0m│\u001b[0m\n",
       "\u001b[38;2;255;0;0m│\u001b[0m                                                                                                  \u001b[38;2;255;0;0m│\u001b[0m\n",
       "\u001b[38;2;255;0;0m│\u001b[0m   \u001b[2m 513 \u001b[0m\u001b[2m│   │   \u001b[0m_shutdown = \u001b[96mgetattr\u001b[0m(\u001b[96mself\u001b[0m.sock, \u001b[33m\"\u001b[0m\u001b[33mshutdown\u001b[0m\u001b[33m\"\u001b[0m, \u001b[94mNone\u001b[0m)                                  \u001b[38;2;255;0;0m│\u001b[0m\n",
       "\u001b[38;2;255;0;0m│\u001b[0m   \u001b[2m 514 \u001b[0m\u001b[2m│   │   \u001b[0m                                                                                  \u001b[38;2;255;0;0m│\u001b[0m\n",
       "\u001b[38;2;255;0;0m│\u001b[0m   \u001b[2m 515 \u001b[0m\u001b[2m│   │   \u001b[0m\u001b[2m# Get the response from http.client.HTTPConnection\u001b[0m                                \u001b[38;2;255;0;0m│\u001b[0m\n",
       "\u001b[38;2;255;0;0m│\u001b[0m \u001b[31m❱ \u001b[0m 516 \u001b[2m│   │   \u001b[0mhttplib_response = \u001b[1;4;96msuper\u001b[0m\u001b[1;4m().getresponse()\u001b[0m                                          \u001b[38;2;255;0;0m│\u001b[0m\n",
       "\u001b[38;2;255;0;0m│\u001b[0m   \u001b[2m 517 \u001b[0m\u001b[2m│   │   \u001b[0m                                                                                  \u001b[38;2;255;0;0m│\u001b[0m\n",
       "\u001b[38;2;255;0;0m│\u001b[0m   \u001b[2m 518 \u001b[0m\u001b[2m│   │   \u001b[0m\u001b[94mtry\u001b[0m:                                                                              \u001b[38;2;255;0;0m│\u001b[0m\n",
       "\u001b[38;2;255;0;0m│\u001b[0m   \u001b[2m 519 \u001b[0m\u001b[2m│   │   │   \u001b[0massert_header_parsing(httplib_response.msg)                                   \u001b[38;2;255;0;0m│\u001b[0m\n",
       "\u001b[38;2;255;0;0m│\u001b[0m                                                                                                  \u001b[38;2;255;0;0m│\u001b[0m\n",
       "\u001b[38;2;255;0;0m│\u001b[0m \u001b[2m/opt/conda/lib/python3.12/http/\u001b[0m\u001b[1mclient.py\u001b[0m:1430 in getresponse                                     \u001b[38;2;255;0;0m│\u001b[0m\n",
       "\u001b[38;2;255;0;0m│\u001b[0m                                                                                                  \u001b[38;2;255;0;0m│\u001b[0m\n",
       "\u001b[38;2;255;0;0m│\u001b[0m   \u001b[2m1427 \u001b[0m\u001b[2m│   │   \u001b[0m                                                                                  \u001b[38;2;255;0;0m│\u001b[0m\n",
       "\u001b[38;2;255;0;0m│\u001b[0m   \u001b[2m1428 \u001b[0m\u001b[2m│   │   \u001b[0m\u001b[94mtry\u001b[0m:                                                                              \u001b[38;2;255;0;0m│\u001b[0m\n",
       "\u001b[38;2;255;0;0m│\u001b[0m   \u001b[2m1429 \u001b[0m\u001b[2m│   │   │   \u001b[0m\u001b[94mtry\u001b[0m:                                                                          \u001b[38;2;255;0;0m│\u001b[0m\n",
       "\u001b[38;2;255;0;0m│\u001b[0m \u001b[31m❱ \u001b[0m1430 \u001b[2m│   │   │   │   \u001b[0mresponse.begin()                                                          \u001b[38;2;255;0;0m│\u001b[0m\n",
       "\u001b[38;2;255;0;0m│\u001b[0m   \u001b[2m1431 \u001b[0m\u001b[2m│   │   │   \u001b[0m\u001b[94mexcept\u001b[0m \u001b[96mConnectionError\u001b[0m:                                                       \u001b[38;2;255;0;0m│\u001b[0m\n",
       "\u001b[38;2;255;0;0m│\u001b[0m   \u001b[2m1432 \u001b[0m\u001b[2m│   │   │   │   \u001b[0m\u001b[96mself\u001b[0m.close()                                                              \u001b[38;2;255;0;0m│\u001b[0m\n",
       "\u001b[38;2;255;0;0m│\u001b[0m   \u001b[2m1433 \u001b[0m\u001b[2m│   │   │   │   \u001b[0m\u001b[94mraise\u001b[0m                                                                     \u001b[38;2;255;0;0m│\u001b[0m\n",
       "\u001b[38;2;255;0;0m│\u001b[0m                                                                                                  \u001b[38;2;255;0;0m│\u001b[0m\n",
       "\u001b[38;2;255;0;0m│\u001b[0m \u001b[2m/opt/conda/lib/python3.12/http/\u001b[0m\u001b[1mclient.py\u001b[0m:331 in begin                                            \u001b[38;2;255;0;0m│\u001b[0m\n",
       "\u001b[38;2;255;0;0m│\u001b[0m                                                                                                  \u001b[38;2;255;0;0m│\u001b[0m\n",
       "\u001b[38;2;255;0;0m│\u001b[0m   \u001b[2m 328 \u001b[0m\u001b[2m│   │   \u001b[0m                                                                                  \u001b[38;2;255;0;0m│\u001b[0m\n",
       "\u001b[38;2;255;0;0m│\u001b[0m   \u001b[2m 329 \u001b[0m\u001b[2m│   │   \u001b[0m\u001b[2m# read until we get a non-100 response\u001b[0m                                            \u001b[38;2;255;0;0m│\u001b[0m\n",
       "\u001b[38;2;255;0;0m│\u001b[0m   \u001b[2m 330 \u001b[0m\u001b[2m│   │   \u001b[0m\u001b[94mwhile\u001b[0m \u001b[94mTrue\u001b[0m:                                                                       \u001b[38;2;255;0;0m│\u001b[0m\n",
       "\u001b[38;2;255;0;0m│\u001b[0m \u001b[31m❱ \u001b[0m 331 \u001b[2m│   │   │   \u001b[0mversion, status, reason = \u001b[1;4;96mself\u001b[0m\u001b[1;4m._read_status()\u001b[0m                                 \u001b[38;2;255;0;0m│\u001b[0m\n",
       "\u001b[38;2;255;0;0m│\u001b[0m   \u001b[2m 332 \u001b[0m\u001b[2m│   │   │   \u001b[0m\u001b[94mif\u001b[0m status != CONTINUE:                                                        \u001b[38;2;255;0;0m│\u001b[0m\n",
       "\u001b[38;2;255;0;0m│\u001b[0m   \u001b[2m 333 \u001b[0m\u001b[2m│   │   │   │   \u001b[0m\u001b[94mbreak\u001b[0m                                                                     \u001b[38;2;255;0;0m│\u001b[0m\n",
       "\u001b[38;2;255;0;0m│\u001b[0m   \u001b[2m 334 \u001b[0m\u001b[2m│   │   │   \u001b[0m\u001b[2m# skip the header from the 100 response\u001b[0m                                       \u001b[38;2;255;0;0m│\u001b[0m\n",
       "\u001b[38;2;255;0;0m│\u001b[0m                                                                                                  \u001b[38;2;255;0;0m│\u001b[0m\n",
       "\u001b[38;2;255;0;0m│\u001b[0m \u001b[2m/opt/conda/lib/python3.12/http/\u001b[0m\u001b[1mclient.py\u001b[0m:292 in _read_status                                     \u001b[38;2;255;0;0m│\u001b[0m\n",
       "\u001b[38;2;255;0;0m│\u001b[0m                                                                                                  \u001b[38;2;255;0;0m│\u001b[0m\n",
       "\u001b[38;2;255;0;0m│\u001b[0m   \u001b[2m 289 \u001b[0m\u001b[2m│   │   \u001b[0m\u001b[96mself\u001b[0m.will_close = _UNKNOWN      \u001b[2m# conn will close at end of response\u001b[0m              \u001b[38;2;255;0;0m│\u001b[0m\n",
       "\u001b[38;2;255;0;0m│\u001b[0m   \u001b[2m 290 \u001b[0m\u001b[2m│   \u001b[0m                                                                                      \u001b[38;2;255;0;0m│\u001b[0m\n",
       "\u001b[38;2;255;0;0m│\u001b[0m   \u001b[2m 291 \u001b[0m\u001b[2m│   \u001b[0m\u001b[94mdef\u001b[0m\u001b[90m \u001b[0m\u001b[92m_read_status\u001b[0m(\u001b[96mself\u001b[0m):                                                               \u001b[38;2;255;0;0m│\u001b[0m\n",
       "\u001b[38;2;255;0;0m│\u001b[0m \u001b[31m❱ \u001b[0m 292 \u001b[2m│   │   \u001b[0mline = \u001b[96mstr\u001b[0m(\u001b[1;4;96mself\u001b[0m\u001b[1;4m.fp.readline(_MAXLINE + \u001b[0m\u001b[1;4;94m1\u001b[0m\u001b[1;4m)\u001b[0m, \u001b[33m\"\u001b[0m\u001b[33miso-8859-1\u001b[0m\u001b[33m\"\u001b[0m)                          \u001b[38;2;255;0;0m│\u001b[0m\n",
       "\u001b[38;2;255;0;0m│\u001b[0m   \u001b[2m 293 \u001b[0m\u001b[2m│   │   \u001b[0m\u001b[94mif\u001b[0m \u001b[96mlen\u001b[0m(line) > _MAXLINE:                                                          \u001b[38;2;255;0;0m│\u001b[0m\n",
       "\u001b[38;2;255;0;0m│\u001b[0m   \u001b[2m 294 \u001b[0m\u001b[2m│   │   │   \u001b[0m\u001b[94mraise\u001b[0m LineTooLong(\u001b[33m\"\u001b[0m\u001b[33mstatus line\u001b[0m\u001b[33m\"\u001b[0m)                                              \u001b[38;2;255;0;0m│\u001b[0m\n",
       "\u001b[38;2;255;0;0m│\u001b[0m   \u001b[2m 295 \u001b[0m\u001b[2m│   │   \u001b[0m\u001b[94mif\u001b[0m \u001b[96mself\u001b[0m.debuglevel > \u001b[94m0\u001b[0m:                                                           \u001b[38;2;255;0;0m│\u001b[0m\n",
       "\u001b[38;2;255;0;0m│\u001b[0m                                                                                                  \u001b[38;2;255;0;0m│\u001b[0m\n",
       "\u001b[38;2;255;0;0m│\u001b[0m \u001b[2m/opt/conda/lib/python3.12/\u001b[0m\u001b[1msocket.py\u001b[0m:720 in readinto                                              \u001b[38;2;255;0;0m│\u001b[0m\n",
       "\u001b[38;2;255;0;0m│\u001b[0m                                                                                                  \u001b[38;2;255;0;0m│\u001b[0m\n",
       "\u001b[38;2;255;0;0m│\u001b[0m   \u001b[2m717 \u001b[0m\u001b[2m│   │   │   \u001b[0m\u001b[94mraise\u001b[0m \u001b[96mOSError\u001b[0m(\u001b[33m\"\u001b[0m\u001b[33mcannot read from timed out object\u001b[0m\u001b[33m\"\u001b[0m)                             \u001b[38;2;255;0;0m│\u001b[0m\n",
       "\u001b[38;2;255;0;0m│\u001b[0m   \u001b[2m718 \u001b[0m\u001b[2m│   │   \u001b[0m\u001b[94mwhile\u001b[0m \u001b[94mTrue\u001b[0m:                                                                        \u001b[38;2;255;0;0m│\u001b[0m\n",
       "\u001b[38;2;255;0;0m│\u001b[0m   \u001b[2m719 \u001b[0m\u001b[2m│   │   │   \u001b[0m\u001b[94mtry\u001b[0m:                                                                           \u001b[38;2;255;0;0m│\u001b[0m\n",
       "\u001b[38;2;255;0;0m│\u001b[0m \u001b[31m❱ \u001b[0m720 \u001b[2m│   │   │   │   \u001b[0m\u001b[94mreturn\u001b[0m \u001b[96mself\u001b[0m._sock.recv_into(b)                                             \u001b[38;2;255;0;0m│\u001b[0m\n",
       "\u001b[38;2;255;0;0m│\u001b[0m   \u001b[2m721 \u001b[0m\u001b[2m│   │   │   \u001b[0m\u001b[94mexcept\u001b[0m timeout:                                                                \u001b[38;2;255;0;0m│\u001b[0m\n",
       "\u001b[38;2;255;0;0m│\u001b[0m   \u001b[2m722 \u001b[0m\u001b[2m│   │   │   │   \u001b[0m\u001b[96mself\u001b[0m._timeout_occurred = \u001b[94mTrue\u001b[0m                                              \u001b[38;2;255;0;0m│\u001b[0m\n",
       "\u001b[38;2;255;0;0m│\u001b[0m   \u001b[2m723 \u001b[0m\u001b[2m│   │   │   │   \u001b[0m\u001b[94mraise\u001b[0m                                                                      \u001b[38;2;255;0;0m│\u001b[0m\n",
       "\u001b[38;2;255;0;0m│\u001b[0m                                                                                                  \u001b[38;2;255;0;0m│\u001b[0m\n",
       "\u001b[38;2;255;0;0m│\u001b[0m \u001b[2m/opt/conda/lib/python3.12/\u001b[0m\u001b[1mssl.py\u001b[0m:1251 in recv_into                                               \u001b[38;2;255;0;0m│\u001b[0m\n",
       "\u001b[38;2;255;0;0m│\u001b[0m                                                                                                  \u001b[38;2;255;0;0m│\u001b[0m\n",
       "\u001b[38;2;255;0;0m│\u001b[0m   \u001b[2m1248 \u001b[0m\u001b[2m│   │   │   │   \u001b[0m\u001b[94mraise\u001b[0m \u001b[96mValueError\u001b[0m(                                                         \u001b[38;2;255;0;0m│\u001b[0m\n",
       "\u001b[38;2;255;0;0m│\u001b[0m   \u001b[2m1249 \u001b[0m\u001b[2m│   │   │   │     \u001b[0m\u001b[33m\"\u001b[0m\u001b[33mnon-zero flags not allowed in calls to recv_into() on \u001b[0m\u001b[33m%s\u001b[0m\u001b[33m\"\u001b[0m %            \u001b[38;2;255;0;0m│\u001b[0m\n",
       "\u001b[38;2;255;0;0m│\u001b[0m   \u001b[2m1250 \u001b[0m\u001b[2m│   │   │   │     \u001b[0m\u001b[96mself\u001b[0m.\u001b[91m__class__\u001b[0m)                                                         \u001b[38;2;255;0;0m│\u001b[0m\n",
       "\u001b[38;2;255;0;0m│\u001b[0m \u001b[31m❱ \u001b[0m1251 \u001b[2m│   │   │   \u001b[0m\u001b[94mreturn\u001b[0m \u001b[1;4;96mself\u001b[0m\u001b[1;4m.read(nbytes, buffer)\u001b[0m                                              \u001b[38;2;255;0;0m│\u001b[0m\n",
       "\u001b[38;2;255;0;0m│\u001b[0m   \u001b[2m1252 \u001b[0m\u001b[2m│   │   \u001b[0m\u001b[94melse\u001b[0m:                                                                             \u001b[38;2;255;0;0m│\u001b[0m\n",
       "\u001b[38;2;255;0;0m│\u001b[0m   \u001b[2m1253 \u001b[0m\u001b[2m│   │   │   \u001b[0m\u001b[94mreturn\u001b[0m \u001b[96msuper\u001b[0m().recv_into(buffer, nbytes, flags)                               \u001b[38;2;255;0;0m│\u001b[0m\n",
       "\u001b[38;2;255;0;0m│\u001b[0m   \u001b[2m1254 \u001b[0m                                                                                          \u001b[38;2;255;0;0m│\u001b[0m\n",
       "\u001b[38;2;255;0;0m│\u001b[0m                                                                                                  \u001b[38;2;255;0;0m│\u001b[0m\n",
       "\u001b[38;2;255;0;0m│\u001b[0m \u001b[2m/opt/conda/lib/python3.12/\u001b[0m\u001b[1mssl.py\u001b[0m:1103 in read                                                    \u001b[38;2;255;0;0m│\u001b[0m\n",
       "\u001b[38;2;255;0;0m│\u001b[0m                                                                                                  \u001b[38;2;255;0;0m│\u001b[0m\n",
       "\u001b[38;2;255;0;0m│\u001b[0m   \u001b[2m1100 \u001b[0m\u001b[2m│   │   │   \u001b[0m\u001b[94mraise\u001b[0m \u001b[96mValueError\u001b[0m(\u001b[33m\"\u001b[0m\u001b[33mRead on closed or unwrapped SSL socket.\u001b[0m\u001b[33m\"\u001b[0m)                   \u001b[38;2;255;0;0m│\u001b[0m\n",
       "\u001b[38;2;255;0;0m│\u001b[0m   \u001b[2m1101 \u001b[0m\u001b[2m│   │   \u001b[0m\u001b[94mtry\u001b[0m:                                                                              \u001b[38;2;255;0;0m│\u001b[0m\n",
       "\u001b[38;2;255;0;0m│\u001b[0m   \u001b[2m1102 \u001b[0m\u001b[2m│   │   │   \u001b[0m\u001b[94mif\u001b[0m buffer \u001b[95mis\u001b[0m \u001b[95mnot\u001b[0m \u001b[94mNone\u001b[0m:                                                        \u001b[38;2;255;0;0m│\u001b[0m\n",
       "\u001b[38;2;255;0;0m│\u001b[0m \u001b[31m❱ \u001b[0m1103 \u001b[2m│   │   │   │   \u001b[0m\u001b[94mreturn\u001b[0m \u001b[96mself\u001b[0m._sslobj.read(\u001b[96mlen\u001b[0m, buffer)                                     \u001b[38;2;255;0;0m│\u001b[0m\n",
       "\u001b[38;2;255;0;0m│\u001b[0m   \u001b[2m1104 \u001b[0m\u001b[2m│   │   │   \u001b[0m\u001b[94melse\u001b[0m:                                                                         \u001b[38;2;255;0;0m│\u001b[0m\n",
       "\u001b[38;2;255;0;0m│\u001b[0m   \u001b[2m1105 \u001b[0m\u001b[2m│   │   │   │   \u001b[0m\u001b[94mreturn\u001b[0m \u001b[96mself\u001b[0m._sslobj.read(\u001b[96mlen\u001b[0m)                                             \u001b[38;2;255;0;0m│\u001b[0m\n",
       "\u001b[38;2;255;0;0m│\u001b[0m   \u001b[2m1106 \u001b[0m\u001b[2m│   │   \u001b[0m\u001b[1;4;94mexcept\u001b[0m\u001b[1;4m SSLError \u001b[0m\u001b[1;4;94mas\u001b[0m\u001b[1;4m x:\u001b[0m                                                             \u001b[38;2;255;0;0m│\u001b[0m\n",
       "\u001b[38;2;255;0;0m╰──────────────────────────────────────────────────────────────────────────────────────────────────╯\u001b[0m\n",
       "\u001b[1;91mKeyboardInterrupt\u001b[0m\n"
      ]
     },
     "metadata": {},
     "output_type": "display_data"
    }
   ],
   "source": [
    "%%time\n",
    "\n",
    "component_to_invoke = base_inference_component_name\n",
    "\n",
    "response_model = sm_runtime.invoke_endpoint(\n",
    "    EndpointName = endpoint_name,\n",
    "    InferenceComponentName = component_to_invoke,\n",
    "    Body = json.dumps(\n",
    "        {\n",
    "            \"inputs\": prompt,\n",
    "            \"parameters\": {\"do_sample\": True, \"top_p\": 0.9, \"temperature\": 0.9, \"max_new_tokens\": 135, \"temperature\":0.9}\n",
    "        }\n",
    "    ),\n",
    "    ContentType = \"application/json\",\n",
    ")\n",
    "\n",
    "base_response = json.loads(response_model[\"Body\"].read().decode(\"utf8\"))[\"generated_text\"]\n",
    "\n",
    "print(f'Ground Truth:\\n\\n {test_item[\"summary\"]}\\n\\n')\n",
    "print(f'Base Model Response:\\n\\n {base_response}\\n')"
   ]
  },
  {
   "cell_type": "markdown",
   "id": "5dcad263-cf02-464b-ade8-6a9753a955b4",
   "metadata": {},
   "source": [
    "### 3.4 Invoke ECTSum adapter and observe response\n",
    "\n",
    "To invoke the adapter, use the adapter inference component name in your `invoke_endpoint` call."
   ]
  },
  {
   "cell_type": "code",
   "execution_count": 14,
   "id": "500fed91-cdb1-4756-accb-621ca3c5fcfb",
   "metadata": {},
   "outputs": [
    {
     "name": "stdout",
     "output_type": "stream",
     "text": [
      "Ground Truth:\n",
      "\n",
      " ['badger meter q3 earnings per share $0.54.\\nq3 earnings per share $0.54.\\nq3 sales $128.7 million versus refinitiv ibes estimate of $127 million.\\nanticipate component shortages and lengthened lead times will ease over time, but assume they will persist well into 2022.']\n",
      "\n",
      "\n",
      "Adapter Model Response:\n",
      "\n",
      " \n",
      "                Here is a concise summary of the call:\n",
      "\n",
      "                q3 revenue increased 13.3 percent to $128.7 million.\n",
      "q3 earnings per share $0.54 versus $0.51.\n",
      "for the third quarter of 2021, badger meter reported record sales of $128.7 million, representing a 13.3% increase over prior year sales of $113.6 million.\n",
      "q3 diluted earnings per share $0.54.\n",
      "                \n",
      "\n",
      "CPU times: user 10.9 ms, sys: 3.87 ms, total: 14.8 ms\n",
      "Wall time: 4.09 s\n"
     ]
    }
   ],
   "source": [
    "%%time\n",
    "\n",
    "component_to_invoke = ic1_adapter_name\n",
    "\n",
    "response_model = sm_runtime.invoke_endpoint(\n",
    "    EndpointName = endpoint_name,\n",
    "    InferenceComponentName = component_to_invoke,\n",
    "    Body = json.dumps(\n",
    "        {\n",
    "            \"inputs\": prompt,\n",
    "            \"parameters\": {\"do_sample\": True, \"top_p\": 0.9, \"temperature\": 0.9, \"max_new_tokens\": 135, \"temperature\":0.9}\n",
    "        }\n",
    "    ),\n",
    "    ContentType = \"application/json\",\n",
    ")\n",
    "\n",
    "adapter_response = json.loads(response_model[\"Body\"].read().decode(\"utf8\"))[\"generated_text\"]\n",
    "\n",
    "print(f'Ground Truth:\\n\\n {test_item[\"summary\"]}\\n\\n')\n",
    "print(f'Adapter Model Response:\\n\\n {adapter_response}\\n')"
   ]
  },
  {
   "cell_type": "markdown",
   "id": "8dfac2aa-94b0-41db-9a41-e974c16ac1ba",
   "metadata": {},
   "source": [
    "### 3.5 Compare outputs\n",
    "\n",
    "Compare the outputs of the **base model** and **adapter** to ground truth. \n",
    "\n",
    "In this test, notice that while the base model looks subjectively more visually attractive, the adapter response is **significantly closer to ground truth**; which is what you are looking for. This will be proven with metrics in the next section."
   ]
  },
  {
   "cell_type": "code",
   "execution_count": 13,
   "id": "8480b7f7-0d1f-482e-bbfb-0bf2ea1e87a4",
   "metadata": {},
   "outputs": [
    {
     "name": "stdout",
     "output_type": "stream",
     "text": [
      "Ground Truth:\n",
      "\n",
      " compname reports qtrly earnings per share of $0.54.\n",
      "qtrly earnings per share $0.54.\n",
      "continued confidence in sales outlook; fy 2021 adjusted earnings per share guidance of $2.07 to $2.27 increased $0.07.\n",
      "sees q2 2021 total sales to be between $1.25 and $1.33 billion & adjusted earnings per share of $0.54 to $0.60.\n",
      "qtrly sales grew 8% to $1.2 billion; underlying sales grew 5%.\n",
      "overall, full year 2021 sales guidance remains at $4.9 to $5.3 billion.\n",
      "qtrly global transcatheter aortic valve replacement sales of $792 million, up 7% on reported basis.\n",
      "remains confident that tavr global opportunity will exceed $7 billion by 2024.\n",
      "continues to anticipate underlying tavr sales growth in 15 to 20 percent range in 2021.\n",
      "\n",
      "\n",
      "\n",
      "----------------------------------\n",
      "\n",
      "Base Model Response:\n",
      "\n",
      " \n",
      "\n",
      "Here's a summary of the earnings call:\n",
      "\n",
      "**Key Highlights:**\n",
      "\n",
      "* Q1 2021 sales: $1.2 billion, up 5% on a constant currency basis from Q1 2020\n",
      "* Adjusted EPS: $0.54, up 8% from Q1 2020\n",
      "* Raised full-year 2021 adjusted EPS guidance to $2.07-$2.27\n",
      "* Maintained full-year 2021 sales guidance: $4.9 billion-$5.3 billion\n",
      "* Expect Q2 2021 sales to grow sequentially to $1.25-$1.33 billion, with adjusted EPS of $\n",
      "\n",
      "----------------------------------\n",
      "\n",
      "Adapter Model Response:\n",
      "\n",
      " \n",
      "                Here is a concise summary of the call:\n",
      "\n",
      "                compname reports q1 adjusted earnings per share $0.54.\n",
      "q1 adjusted earnings per share $0.54.\n",
      "q1 earnings per share $0.56.\n",
      "compname reports q1 sales $1.23 billion.\n",
      "q1 sales rose 2 percent to $1.23 billion.\n",
      "compname raises guidance for fy 2021.\n",
      "compname now expects fy sales $4.9 billion to $5.3 billion.\n",
      "compname now expects fy adjusted earnings per share $2.07 to $2.27.\n",
      "compname now expects fy sales $4.9 billion to $5.\n"
     ]
    }
   ],
   "source": [
    "print(f'Ground Truth:\\n\\n {test_item[\"summary\"][0]}\\n\\n')\n",
    "print(\"\\n----------------------------------\\n\")\n",
    "print(f'Base Model Response:\\n\\n {base_response}')\n",
    "print(\"\\n----------------------------------\\n\")\n",
    "print(f'Adapter Model Response:\\n\\n {adapter_response}')"
   ]
  },
  {
   "cell_type": "markdown",
   "id": "7a8fab41-e8b0-45e3-b2ca-e3ac52762531",
   "metadata": {},
   "source": [
    "To validate the true adapter performance, you can use a tool like [fmeval](https://github.com/aws/fmeval) to run an evaluation of summarization accuracy. This will calculate the METEOR, ROUGE, and BertScore metrics for the adapter versus the base model. Doing so against the test split of ECTSum yields the following results:\n",
    "\n",
    "![](./images/fmeval-overall.png)\n",
    "\n",
    "The fine-tuned adapter shows a 59% increase in METEOR score, 159% increase in ROUGE score, and 8.6% in BertScore. The following diagram shows the frequency distribution of scores for the different metrics, with the adapter consistently scoring better more often in all metrics. \n",
    "\n",
    "Since the adapter is already loaded into GPU memory, model latency is largely unaffected, with only a difference of 2% between direct base model invocation and the adapter. If the adapter is loaded from CPU memory or disk, it will incur an cold start delay for the first load to GPU.\n",
    "\n",
    "![](./images/fmeval-histogram.png)"
   ]
  },
  {
   "cell_type": "markdown",
   "id": "c7819727-29b5-4a66-9b42-96da93e5c7b6",
   "metadata": {},
   "source": [
    "## Step 4: Swapping adapters between GPU/CPU/disk\n",
    "\n",
    "To illustrate the swapping of adapters between different tiers, you will create 2 more adapter inference components. For simplicity, you can reuse the same adapter artifact code from earlier.\n",
    "\n",
    "When registering new adapters, the newest registration moves into GPU and if `OPTION_MAX_LORAS` is exceeded, will evict the least recently used (LRU) adapter to the CPU tier. If this move causes `OPTION_MAX_CPU_LORAS` to be exceeded, the LRU adapter from the CPU is then evicted to disk.\n",
    "\n",
    "Since you have set up `OPTION_MAX_LORAS` to `1` and `OPTION_MAX_CPU_LORAS` to `2` in the earlier section, the registration of IC2 in the next step will:\n",
    "- precache IC2 in CPU\n",
    "- load IC2 in GPU\n",
    "- evict IC1 to CPU\n",
    "\n",
    "The subsequent registration of IC3 will:\n",
    "- precache IC3 to CPU\n",
    "- evict IC1 from CPU (available from disk)\n",
    "- load IC3 in GPU\n",
    "- evict IC2 from GPU (already precached in CPU)\n",
    "\n",
    "Invoking adapters not currently in GPU will incur a cold start penalty on the first invocation. `max_new_tokens` is set to `1` on to focus on the cold start impact."
   ]
  },
  {
   "cell_type": "markdown",
   "id": "ca3171a3-ab85-488b-a99d-29b2d4f41427",
   "metadata": {},
   "source": [
    "### 4.1 Create second adapter"
   ]
  },
  {
   "cell_type": "code",
   "execution_count": 15,
   "id": "6c3b87e2-b952-4469-a65e-4bf6a7276d5d",
   "metadata": {},
   "outputs": [
    {
     "name": "stdout",
     "output_type": "stream",
     "text": [
      "------!\n",
      "Created Adapter 2 inference component ARN: arn:aws:sagemaker:us-east-1:230904922206:inference-component/ic2-ectsum-base-test-2025-08-28-19-54-59-710\n",
      "CPU times: user 49.8 ms, sys: 5.79 ms, total: 55.6 ms\n",
      "Wall time: 2min 21s\n"
     ]
    }
   ],
   "source": [
    "%%time\n",
    "\n",
    "ic2_adapter_name = f\"ic2-ectsum-{base_inference_component_name}\"\n",
    "\n",
    "adapter_create_inference_component_response = sm_client.create_inference_component(\n",
    "    InferenceComponentName = ic2_adapter_name,\n",
    "    EndpointName = endpoint_name,\n",
    "    Specification={\n",
    "        \"BaseInferenceComponentName\": base_inference_component_name,\n",
    "        \"Container\": {\n",
    "            \"ArtifactUrl\": ectsum_adapter_s3_uri\n",
    "        },\n",
    "    },\n",
    ")\n",
    "\n",
    "sess.wait_for_inference_component(ic2_adapter_name)\n",
    "\n",
    "print(f\"\\nCreated Adapter 2 inference component ARN: {adapter_create_inference_component_response['InferenceComponentArn']}\")"
   ]
  },
  {
   "cell_type": "markdown",
   "id": "66fa45a3-23aa-4b3b-994f-e4444725f354",
   "metadata": {},
   "source": [
    "### 4.2 Create third adapter"
   ]
  },
  {
   "cell_type": "code",
   "execution_count": 16,
   "id": "2b6a39f2-80d4-4fc0-91b7-2aa114ee40a3",
   "metadata": {},
   "outputs": [
    {
     "name": "stdout",
     "output_type": "stream",
     "text": [
      "-----!\n",
      "Created Adapter 3 inference component ARN: arn:aws:sagemaker:us-east-1:230904922206:inference-component/ic3-ectsum-base-test-2025-08-28-19-54-59-710\n",
      "CPU times: user 46.2 ms, sys: 3.44 ms, total: 49.6 ms\n",
      "Wall time: 2min 2s\n"
     ]
    }
   ],
   "source": [
    "%%time\n",
    "\n",
    "ic3_adapter_name = f\"ic3-ectsum-{base_inference_component_name}\"\n",
    "\n",
    "adapter_create_inference_component_response = sm_client.create_inference_component(\n",
    "    InferenceComponentName = ic3_adapter_name,\n",
    "    EndpointName = endpoint_name,\n",
    "    Specification={\n",
    "        \"BaseInferenceComponentName\": base_inference_component_name,\n",
    "        \"Container\": {\n",
    "            \"ArtifactUrl\": ectsum_adapter_s3_uri\n",
    "        },\n",
    "    },\n",
    ")\n",
    "\n",
    "sess.wait_for_inference_component(ic3_adapter_name)\n",
    "\n",
    "print(f\"\\nCreated Adapter 3 inference component ARN: {adapter_create_inference_component_response['InferenceComponentArn']}\")"
   ]
  },
  {
   "cell_type": "code",
   "execution_count": 17,
   "id": "144967e2-87ca-463d-9832-696135d056c8",
   "metadata": {
    "scrolled": true
   },
   "outputs": [
    {
     "name": "stdout",
     "output_type": "stream",
     "text": [
      "call to [ic3] 941 ms. swap: [NONE] [ GPU: ic3 CPU: ic2 Disk: ic1 ]\n",
      "call to [ic2] 936 ms. swap: [FROM_CPU] [ GPU: ic2 CPU: ic3 Disk: ic1 ]\n",
      "call to [ic2] 545 ms. swap: [NONE] [ GPU: ic2 CPU: ic3 Disk: ic1 ]\n",
      "call to [ic1] 611 ms. swap: [FROM_DISK] [ GPU: ic1 CPU: ic2 Disk: ic3 ]\n",
      "call to [ic1] 544 ms. swap: [NONE] [ GPU: ic1 CPU: ic2 Disk: ic3 ]\n",
      "call to [ic2] 556 ms. swap: [FROM_CPU] [ GPU: ic2 CPU: ic1 Disk: ic3 ]\n",
      "call to [ic3] 604 ms. swap: [FROM_DISK] [ GPU: ic3 CPU: ic2 Disk: ic1 ]\n",
      "call to [ic3] 510 ms. swap: [NONE] [ GPU: ic3 CPU: ic2 Disk: ic1 ]\n",
      "call to [ic2] 557 ms. swap: [FROM_CPU] [ GPU: ic2 CPU: ic3 Disk: ic1 ]\n",
      "call to [ic2] 544 ms. swap: [NONE] [ GPU: ic2 CPU: ic3 Disk: ic1 ]\n",
      "call to [ic1] 609 ms. swap: [FROM_DISK] [ GPU: ic1 CPU: ic2 Disk: ic3 ]\n",
      "call to [ic1] 540 ms. swap: [NONE] [ GPU: ic1 CPU: ic2 Disk: ic3 ]\n",
      "call to [ic2] 565 ms. swap: [FROM_CPU] [ GPU: ic2 CPU: ic1 Disk: ic3 ]\n",
      "call to [ic3] 604 ms. swap: [FROM_DISK] [ GPU: ic3 CPU: ic2 Disk: ic1 ]\n",
      "call to [ic3] 542 ms. swap: [NONE] [ GPU: ic3 CPU: ic2 Disk: ic1 ]\n",
      "call to [ic2] 559 ms. swap: [FROM_CPU] [ GPU: ic2 CPU: ic3 Disk: ic1 ]\n",
      "call to [ic2] 636 ms. swap: [NONE] [ GPU: ic2 CPU: ic3 Disk: ic1 ]\n",
      "call to [ic1] 608 ms. swap: [FROM_DISK] [ GPU: ic1 CPU: ic2 Disk: ic3 ]\n",
      "call to [ic1] 545 ms. swap: [NONE] [ GPU: ic1 CPU: ic2 Disk: ic3 ]\n",
      "call to [ic2] 552 ms. swap: [FROM_CPU] [ GPU: ic2 CPU: ic1 Disk: ic3 ]\n",
      "call to [ic3] 607 ms. swap: [FROM_DISK] [ GPU: ic3 CPU: ic2 Disk: ic1 ]\n",
      "call to [ic3] 539 ms. swap: [NONE] [ GPU: ic3 CPU: ic2 Disk: ic1 ]\n",
      "call to [ic2] 785 ms. swap: [FROM_CPU] [ GPU: ic2 CPU: ic3 Disk: ic1 ]\n",
      "call to [ic2] 510 ms. swap: [NONE] [ GPU: ic2 CPU: ic3 Disk: ic1 ]\n",
      "call to [ic1] 605 ms. swap: [FROM_DISK] [ GPU: ic1 CPU: ic2 Disk: ic3 ]\n",
      "call to [ic1] 541 ms. swap: [NONE] [ GPU: ic1 CPU: ic2 Disk: ic3 ]\n",
      "call to [ic2] 557 ms. swap: [FROM_CPU] [ GPU: ic2 CPU: ic1 Disk: ic3 ]\n",
      "call to [ic3] 597 ms. swap: [FROM_DISK] [ GPU: ic3 CPU: ic2 Disk: ic1 ]\n",
      "call to [ic3] 543 ms. swap: [NONE] [ GPU: ic3 CPU: ic2 Disk: ic1 ]\n",
      "call to [ic2] 555 ms. swap: [FROM_CPU] [ GPU: ic2 CPU: ic3 Disk: ic1 ]\n",
      "call to [ic2] 544 ms. swap: [NONE] [ GPU: ic2 CPU: ic3 Disk: ic1 ]\n",
      "call to [ic1] 601 ms. swap: [FROM_DISK] [ GPU: ic1 CPU: ic2 Disk: ic3 ]\n",
      "call to [ic1] 542 ms. swap: [NONE] [ GPU: ic1 CPU: ic2 Disk: ic3 ]\n",
      "call to [ic2] 564 ms. swap: [FROM_CPU] [ GPU: ic2 CPU: ic1 Disk: ic3 ]\n",
      "call to [ic3] 601 ms. swap: [FROM_DISK] [ GPU: ic3 CPU: ic2 Disk: ic1 ]\n",
      "call to [ic3] 550 ms. swap: [NONE] [ GPU: ic3 CPU: ic2 Disk: ic1 ]\n",
      "call to [ic2] 562 ms. swap: [FROM_CPU] [ GPU: ic2 CPU: ic3 Disk: ic1 ]\n",
      "call to [ic2] 535 ms. swap: [NONE] [ GPU: ic2 CPU: ic3 Disk: ic1 ]\n",
      "call to [ic1] 603 ms. swap: [FROM_DISK] [ GPU: ic1 CPU: ic2 Disk: ic3 ]\n",
      "call to [ic1] 538 ms. swap: [NONE] [ GPU: ic1 CPU: ic2 Disk: ic3 ]\n",
      "call to [ic2] 584 ms. swap: [FROM_CPU] [ GPU: ic2 CPU: ic1 Disk: ic3 ]\n",
      "call to [ic3] 602 ms. swap: [FROM_DISK] [ GPU: ic3 CPU: ic2 Disk: ic1 ]\n",
      "call to [ic3] 543 ms. swap: [NONE] [ GPU: ic3 CPU: ic2 Disk: ic1 ]\n",
      "call to [ic2] 557 ms. swap: [FROM_CPU] [ GPU: ic2 CPU: ic3 Disk: ic1 ]\n",
      "call to [ic2] 546 ms. swap: [NONE] [ GPU: ic2 CPU: ic3 Disk: ic1 ]\n",
      "call to [ic1] 594 ms. swap: [FROM_DISK] [ GPU: ic1 CPU: ic2 Disk: ic3 ]\n",
      "call to [ic1] 509 ms. swap: [NONE] [ GPU: ic1 CPU: ic2 Disk: ic3 ]\n",
      "call to [ic2] 556 ms. swap: [FROM_CPU] [ GPU: ic2 CPU: ic1 Disk: ic3 ]\n",
      "call to [ic3] 600 ms. swap: [FROM_DISK] [ GPU: ic3 CPU: ic2 Disk: ic1 ]\n",
      "call to [ic3] 538 ms. swap: [NONE] [ GPU: ic3 CPU: ic2 Disk: ic1 ]\n",
      "call to [ic2] 556 ms. swap: [FROM_CPU] [ GPU: ic2 CPU: ic3 Disk: ic1 ]\n",
      "call to [ic2] 538 ms. swap: [NONE] [ GPU: ic2 CPU: ic3 Disk: ic1 ]\n",
      "call to [ic1] 729 ms. swap: [FROM_DISK] [ GPU: ic1 CPU: ic2 Disk: ic3 ]\n",
      "call to [ic1] 540 ms. swap: [NONE] [ GPU: ic1 CPU: ic2 Disk: ic3 ]\n",
      "call to [ic2] 558 ms. swap: [FROM_CPU] [ GPU: ic2 CPU: ic1 Disk: ic3 ]\n",
      "call to [ic3] 603 ms. swap: [FROM_DISK] [ GPU: ic3 CPU: ic2 Disk: ic1 ]\n",
      "call to [ic3] 504 ms. swap: [NONE] [ GPU: ic3 CPU: ic2 Disk: ic1 ]\n",
      "call to [ic2] 552 ms. swap: [FROM_CPU] [ GPU: ic2 CPU: ic3 Disk: ic1 ]\n",
      "call to [ic2] 544 ms. swap: [NONE] [ GPU: ic2 CPU: ic3 Disk: ic1 ]\n",
      "call to [ic1] 599 ms. swap: [FROM_DISK] [ GPU: ic1 CPU: ic2 Disk: ic3 ]\n",
      "call to [ic1] 543 ms. swap: [NONE] [ GPU: ic1 CPU: ic2 Disk: ic3 ]\n",
      "call to [ic2] 551 ms. swap: [FROM_CPU] [ GPU: ic2 CPU: ic1 Disk: ic3 ]\n",
      "call to [ic3] 597 ms. swap: [FROM_DISK] [ GPU: ic3 CPU: ic2 Disk: ic1 ]\n",
      "call to [ic3] 545 ms. swap: [NONE] [ GPU: ic3 CPU: ic2 Disk: ic1 ]\n",
      "call to [ic2] 555 ms. swap: [FROM_CPU] [ GPU: ic2 CPU: ic3 Disk: ic1 ]\n",
      "call to [ic2] 544 ms. swap: [NONE] [ GPU: ic2 CPU: ic3 Disk: ic1 ]\n",
      "call to [ic1] 602 ms. swap: [FROM_DISK] [ GPU: ic1 CPU: ic2 Disk: ic3 ]\n",
      "call to [ic1] 542 ms. swap: [NONE] [ GPU: ic1 CPU: ic2 Disk: ic3 ]\n",
      "call to [ic2] 565 ms. swap: [FROM_CPU] [ GPU: ic2 CPU: ic1 Disk: ic3 ]\n",
      "call to [ic3] 601 ms. swap: [FROM_DISK] [ GPU: ic3 CPU: ic2 Disk: ic1 ]\n"
     ]
    }
   ],
   "source": [
    "import time\n",
    "\n",
    "#starting tier indexes 0 - GPU, 1 - CPU, 2 - Disk\n",
    "tiers = [ ic3_adapter_name, ic2_adapter_name, ic1_adapter_name ]\n",
    "\n",
    "cycles = 10\n",
    "\n",
    "invocation_order = [\n",
    "    ic3_adapter_name, #ic3 in GPU already.  GPU: ic3 CPU: ic2 DISK: ic1\n",
    "    ic2_adapter_name, #swap ic2 from CPU.   GPU: ic2 CPU: ic3 DISK: ic1\n",
    "    ic2_adapter_name, #ic2 is still in GPU. GPU: ic2 CPU: ic3 DISK: ic1\n",
    "    ic1_adapter_name, #swap ic1 from disk.  GPU: ic1 CPU: ic2 DISK: ic3\n",
    "    ic1_adapter_name, #ic1 is still in GPU. GPU: ic1 CPU: ic2 DISK: ic3\n",
    "    ic2_adapter_name, #swap ic2 from CPU.   GPU: ic2 CPU: ic1 DISK: ic3\n",
    "    ic3_adapter_name, #swap ic3 from disk.  GPU: ic3 CPU: ic2 DISK: ic1\n",
    "    # back to the starting configuration\n",
    "]\n",
    "\n",
    "no_swaps = []\n",
    "cpu_swaps = []\n",
    "disk_swaps = []\n",
    "\n",
    "swap_type = \"\"\n",
    "\n",
    "for cycle in range(cycles):\n",
    "    for invocation in invocation_order:\n",
    "    \n",
    "        if invocation == base_inference_component_name or tiers.index(invocation) == 0:\n",
    "            #do nothing\n",
    "            swap_type = \"NONE\"\n",
    "            pass\n",
    "        elif tiers.index(invocation) == 1:\n",
    "            tiers[1] = tiers[0]\n",
    "            tiers[0] = invocation\n",
    "            swap_type = \"FROM_CPU\"\n",
    "        elif tiers.index(invocation) == 2:\n",
    "            tiers[2] = tiers[1]\n",
    "            tiers[1] = tiers[0]\n",
    "            tiers[0] = invocation\n",
    "            swap_type = \"FROM_DISK\"\n",
    "\n",
    "\n",
    "        component_to_invoke = invocation\n",
    "        \n",
    "        start = time.time()*1000\n",
    "        \n",
    "        response_model = sm_runtime.invoke_endpoint(\n",
    "            EndpointName = endpoint_name,\n",
    "            InferenceComponentName = component_to_invoke,\n",
    "            Body = json.dumps(\n",
    "                {\n",
    "                    \"inputs\": prompt,\n",
    "                    \"parameters\": {\"do_sample\": True, \"top_p\": 0.9, \"temperature\": 0.9, \"max_new_tokens\": 1, \"temperature\":0.9}\n",
    "                }\n",
    "            ),\n",
    "            ContentType = \"application/json\",\n",
    "        )\n",
    "    \n",
    "        end = time.time()*1000\n",
    "\n",
    "        total = int(end - start)\n",
    "        \n",
    "        if swap_type == \"NONE\":\n",
    "            no_swaps.append(total)\n",
    "        elif swap_type == \"FROM_CPU\":\n",
    "            cpu_swaps.append(total)\n",
    "        elif swap_type == \"FROM_DISK\":\n",
    "            disk_swaps.append(total)\n",
    "    \n",
    "        print(f'call to [{invocation.split(\"-\")[0]}] {total} ms. swap: [{swap_type}] [ GPU: {tiers[0].split(\"-\")[0]} CPU: {tiers[1].split(\"-\")[0]} Disk: {tiers[2].split(\"-\")[0]} ]')\n",
    "\n",
    "no_swaps_count = len(no_swaps)\n",
    "no_swaps_avg = int(sum(no_swaps)/len(no_swaps))\n",
    "cpu_swaps_count = len(cpu_swaps)\n",
    "cpu_swaps_avg = int(sum(cpu_swaps)/len(cpu_swaps))\n",
    "disk_swaps_count = len(disk_swaps)\n",
    "disk_swaps_avg = int(sum(disk_swaps)/len(disk_swaps))"
   ]
  },
  {
   "cell_type": "code",
   "execution_count": 18,
   "id": "085fb68e-0210-43d4-846e-78db1aaa4fb6",
   "metadata": {},
   "outputs": [
    {
     "data": {
      "text/html": [
       "<div>\n",
       "<style scoped>\n",
       "    .dataframe tbody tr th:only-of-type {\n",
       "        vertical-align: middle;\n",
       "    }\n",
       "\n",
       "    .dataframe tbody tr th {\n",
       "        vertical-align: top;\n",
       "    }\n",
       "\n",
       "    .dataframe thead th {\n",
       "        text-align: right;\n",
       "    }\n",
       "</style>\n",
       "<table border=\"1\" class=\"dataframe\">\n",
       "  <thead>\n",
       "    <tr style=\"text-align: right;\">\n",
       "      <th></th>\n",
       "      <th>count</th>\n",
       "      <th>average</th>\n",
       "      <th>+latency avg</th>\n",
       "      <th>+%latency avg</th>\n",
       "      <th>p50</th>\n",
       "      <th>p75</th>\n",
       "      <th>p99</th>\n",
       "    </tr>\n",
       "  </thead>\n",
       "  <tbody>\n",
       "    <tr>\n",
       "      <th>no swap</th>\n",
       "      <td>30</td>\n",
       "      <td>554</td>\n",
       "      <td>0</td>\n",
       "      <td>0.000000</td>\n",
       "      <td>542</td>\n",
       "      <td>544</td>\n",
       "      <td>852</td>\n",
       "    </tr>\n",
       "    <tr>\n",
       "      <th>cpu swap</th>\n",
       "      <td>20</td>\n",
       "      <td>589</td>\n",
       "      <td>35</td>\n",
       "      <td>6.317690</td>\n",
       "      <td>557</td>\n",
       "      <td>564</td>\n",
       "      <td>907</td>\n",
       "    </tr>\n",
       "    <tr>\n",
       "      <th>disk swap</th>\n",
       "      <td>20</td>\n",
       "      <td>608</td>\n",
       "      <td>54</td>\n",
       "      <td>9.747292</td>\n",
       "      <td>602</td>\n",
       "      <td>605</td>\n",
       "      <td>706</td>\n",
       "    </tr>\n",
       "  </tbody>\n",
       "</table>\n",
       "</div>"
      ],
      "text/plain": [
       "           count  average  +latency avg  +%latency avg  p50  p75  p99\n",
       "no swap       30      554             0       0.000000  542  544  852\n",
       "cpu swap      20      589            35       6.317690  557  564  907\n",
       "disk swap     20      608            54       9.747292  602  605  706"
      ]
     },
     "execution_count": 18,
     "metadata": {},
     "output_type": "execute_result"
    }
   ],
   "source": [
    "import pandas as pd\n",
    "import numpy as np\n",
    "np_no_swaps = np.array(no_swaps)\n",
    "np_cpu_swaps = np.array(cpu_swaps)\n",
    "np_disk_swaps = np.array(disk_swaps)\n",
    "\n",
    "data = {\n",
    "    \"count\": [no_swaps_count, cpu_swaps_count, disk_swaps_count],\n",
    "    \"average\": [no_swaps_avg, cpu_swaps_avg, disk_swaps_avg],\n",
    "    \"+latency avg\": [0, cpu_swaps_avg-no_swaps_avg, disk_swaps_avg-no_swaps_avg],\n",
    "    \"+%latency avg\": [0, ((cpu_swaps_avg-no_swaps_avg)/no_swaps_avg)*100, ((disk_swaps_avg-no_swaps_avg)/no_swaps_avg)*100],\n",
    "    \"p50\": [int(np.percentile(np_no_swaps, 50)), int(np.percentile(np_cpu_swaps, 50)), int(np.percentile(np_disk_swaps, 50))],\n",
    "    \"p75\": [int(np.percentile(np_no_swaps, 75)), int(np.percentile(np_cpu_swaps, 75)), int(np.percentile(np_disk_swaps, 75))],\n",
    "    \"p99\": [int(np.percentile(np_no_swaps, 99)), int(np.percentile(np_cpu_swaps, 99)), int(np.percentile(np_disk_swaps, 99))]\n",
    "}\n",
    "\n",
    "\n",
    "df = pd.DataFrame(data, index = [\"no swap\", \"cpu swap\", \"disk swap\"])\n",
    "\n",
    "df"
   ]
  },
  {
   "cell_type": "markdown",
   "id": "3b79f1ab",
   "metadata": {},
   "source": [
    "If you were to run a similar test on 1000 cycles (7000 invocations), you'd see the following:\n",
    "\n",
    "![](./images/adapter-load-latency-1000.png)"
   ]
  },
  {
   "cell_type": "markdown",
   "id": "afb5a78f-de3d-4848-b3a1-659f4008acd6",
   "metadata": {},
   "source": [
    "## Step 5. Upload a new ECTSum adapter artifact and update the live adapter inference component\n",
    "\n",
    "Since adapters are managed as Inference Components, you can update them on a running endpoint. SageMaker handles the unloading/deregistering of the old adapter and loading/registering of the new adapter onto every base ICs on all of the instances that it is running on for this endpoint. \n",
    "\n",
    "- To update an adapter IC, use the  ***update_inference_component**  API and supply the existing **IC name** and the **S3 path** to the new compressed adapter archive. \n",
    "\n",
    "You can train a new adapter, or re-upload the existing adapter artifact to test this functionality."
   ]
  },
  {
   "cell_type": "markdown",
   "id": "4f8eade9-b5ac-45e6-8c6e-102850fa3817",
   "metadata": {},
   "source": [
    "### 5.1 Upload compressed adapter to S3"
   ]
  },
  {
   "cell_type": "code",
   "execution_count": 19,
   "id": "c0c2620d-8401-426f-9061-b32f7ef55b29",
   "metadata": {},
   "outputs": [
    {
     "name": "stdout",
     "output_type": "stream",
     "text": [
      "s3://sagemaker-us-east-1-230904922206/adapters/new-ectsum-adapter.tar.gz\n",
      "upload: ./ectsum-adapter.tar.gz to s3://sagemaker-us-east-1-230904922206/adapters/new-ectsum-adapter.tar.gz\n"
     ]
    }
   ],
   "source": [
    "new_ectsum_adapter_s3_uri = f\"s3://{bucket}/adapters/new-ectsum-adapter.tar.gz\"\n",
    "print(new_ectsum_adapter_s3_uri)\n",
    "\n",
    "!aws s3 cp ./ectsum-adapter.tar.gz {new_ectsum_adapter_s3_uri}"
   ]
  },
  {
   "cell_type": "markdown",
   "id": "ef03ba04-78ad-4281-9531-32c16033a4ae",
   "metadata": {},
   "source": [
    "### 5.2 Update Inference component adapter\n",
    "**Note:  This step can take around 5 minutes**"
   ]
  },
  {
   "cell_type": "code",
   "execution_count": 23,
   "id": "63c28ce6-28d0-466a-ae89-e44cb4c4ebcd",
   "metadata": {},
   "outputs": [
    {
     "name": "stdout",
     "output_type": "stream",
     "text": [
      "-------------------------!\n",
      "Updated inference component adapter ARN: arn:aws:sagemaker:us-east-1:230904922206:inference-component/ic1-ectsum-test-2025-08-28-19-54-59-710\n",
      "CPU times: user 129 ms, sys: 11.7 ms, total: 140 ms\n",
      "Wall time: 8min 42s\n"
     ]
    }
   ],
   "source": [
    "%%time\n",
    "\n",
    "update_inference_component_response = sm_client.update_inference_component(\n",
    "    InferenceComponentName = ic1_adapter_name,\n",
    "    Specification={\n",
    "        \"Container\": {\n",
    "            \"ArtifactUrl\": new_ectsum_adapter_s3_uri\n",
    "        },\n",
    "    },\n",
    ")\n",
    "\n",
    "sess.wait_for_inference_component(ic1_adapter_name)\n",
    "\n",
    "print(f'\\nUpdated inference component adapter ARN: {update_inference_component_response[\"InferenceComponentArn\"]}')"
   ]
  },
  {
   "cell_type": "markdown",
   "id": "8284ae38-cc9a-4a5a-8de0-7345e1cc00c8",
   "metadata": {},
   "source": [
    "If you view your inference component logs (link below), you will see log entries for the deregistration of the old adapter and the registration of the new one.\n",
    "\n",
    "You should see something similar to:\n",
    "`[INFO ] PyProcess - W-200-0d1e4741a42db26-stdout: [1,0]<stdout>:INFO::Unregistered adapter ic-ectsum-base-llama-3-1-8b-instruct-2024-11-25-20-41-07-401 successfully`\n",
    "\n",
    "`[INFO ] PyProcess - W-200-0d1e4741a42db26-stdout: [1,0]<stdout>:INFO::Registered adapter ic-ectsum-base-llama-3-1-8b-instruct-2024-11-25-20-41-07-401 from /opt/ml/models/container_340043819279-ic-ectsum-base-llama-3-1-8b-instruct-2024-11-25-20-41-07-401-1732570150851-MaeveWestworldService-1.0.9353.0 successfully`"
   ]
  },
  {
   "cell_type": "code",
   "execution_count": 20,
   "id": "8e68a0fe-0bd8-4b8c-87c6-07ed1b9a1d16",
   "metadata": {},
   "outputs": [
    {
     "name": "stdout",
     "output_type": "stream",
     "text": [
      "You can view your inference component logs here:\n",
      "\n",
      " https://us-east-1.console.aws.amazon.com/cloudwatch/home?region=us-east-1#logsV2:log-groups/log-group/%2Faws%2Fsagemaker%2FInferenceComponents%2Fbase-test-2025-08-27-18-49-32-454\n"
     ]
    }
   ],
   "source": [
    "print(f'You can view your inference component logs here:\\n\\n https://{region}.console.aws.amazon.com/cloudwatch/home?region={region}#logsV2:log-groups/log-group/{cw_path}')"
   ]
  },
  {
   "cell_type": "markdown",
   "id": "70fbb4a9-1c67-433c-8329-b226d82043dd",
   "metadata": {},
   "source": [
    "### 5.3 Retest with updated adapter"
   ]
  },
  {
   "cell_type": "code",
   "execution_count": 21,
   "id": "bf29243c-423f-431b-a076-6ef8254ca1ac",
   "metadata": {},
   "outputs": [
    {
     "name": "stdout",
     "output_type": "stream",
     "text": [
      "Ground Truth:\n",
      "\n",
      " compname reports qtrly earnings per share of $0.54.\n",
      "qtrly earnings per share $0.54.\n",
      "continued confidence in sales outlook; fy 2021 adjusted earnings per share guidance of $2.07 to $2.27 increased $0.07.\n",
      "sees q2 2021 total sales to be between $1.25 and $1.33 billion & adjusted earnings per share of $0.54 to $0.60.\n",
      "qtrly sales grew 8% to $1.2 billion; underlying sales grew 5%.\n",
      "overall, full year 2021 sales guidance remains at $4.9 to $5.3 billion.\n",
      "qtrly global transcatheter aortic valve replacement sales of $792 million, up 7% on reported basis.\n",
      "remains confident that tavr global opportunity will exceed $7 billion by 2024.\n",
      "continues to anticipate underlying tavr sales growth in 15 to 20 percent range in 2021.\n",
      "\n",
      "\n",
      "Updated Adapter Model Response:\n",
      "\n",
      " \n",
      "                Here is a concise summary of the call:\n",
      "\n",
      "                q1 earnings per share $0.54.\n",
      "sees q2 adjusted earnings per share $0.54 to $0.60.\n",
      "sees fy adjusted earnings per share $2.07 to $2.27.\n",
      "sees q2 sales $1.25 billion to $1.33 billion.\n",
      "sees fy sales $4.9 billion to $5.3 billion.\n",
      "sees fy tavr sales $3.2 billion to $3.6 billion.\n",
      "sees fy tmtt sales $80 million.\n",
      "sees fy ssh sales $800 million to $900 million.\n",
      "sees fy\n",
      "\n",
      "CPU times: user 15.3 ms, sys: 467 μs, total: 15.8 ms\n",
      "Wall time: 6.65 s\n"
     ]
    }
   ],
   "source": [
    "%%time\n",
    "\n",
    "component_to_invoke = ic1_adapter_name\n",
    "\n",
    "response_model = sm_runtime.invoke_endpoint(\n",
    "    EndpointName = endpoint_name,\n",
    "    InferenceComponentName = component_to_invoke,\n",
    "    Body = json.dumps(\n",
    "        {\n",
    "            \"inputs\": prompt,\n",
    "            \"parameters\": {\"do_sample\": True, \"top_p\": 0.9, \"temperature\": 0.9, \"max_new_tokens\": 135, \"temperature\":0.9}\n",
    "        }\n",
    "    ),\n",
    "    ContentType = \"application/json\",\n",
    ")\n",
    "\n",
    "adapter_response = json.loads(response_model[\"Body\"].read().decode(\"utf8\"))[\"generated_text\"]\n",
    "\n",
    "print(f'Ground Truth:\\n\\n {test_item[\"summary\"][0]}\\n\\n')\n",
    "print(f'Updated Adapter Model Response:\\n\\n {adapter_response}\\n')"
   ]
  },
  {
   "cell_type": "markdown",
   "id": "c1cd9042",
   "metadata": {},
   "source": [
    "## Step 6: Clean up the environment\n",
    "\n",
    "If you need to delete an adapter, call the **`delete_inference_component`** API with the IC name to remove it. "
   ]
  },
  {
   "cell_type": "code",
   "execution_count": 22,
   "id": "10b1abd0-eb91-4717-a116-a87f81654fc7",
   "metadata": {},
   "outputs": [
    {
     "name": "stdout",
     "output_type": "stream",
     "text": [
      "Adapter Component ic1-ectsum-test-2025-08-27-18-49-32-454 deleted.\n",
      "Adapter Component ic2-ectsum-base-test-2025-08-27-18-49-32-454 deleted.\n",
      "Adapter Component ic3-ectsum-base-test-2025-08-27-18-49-32-454 deleted.\n"
     ]
    }
   ],
   "source": [
    "sess.delete_inference_component(ic1_adapter_name, wait = True)\n",
    "print(f'Adapter Component {ic1_adapter_name} deleted.')\n",
    "\n",
    "sess.delete_inference_component(ic2_adapter_name, wait = True)\n",
    "print(f'Adapter Component {ic2_adapter_name} deleted.')\n",
    "\n",
    "sess.delete_inference_component(ic3_adapter_name, wait = True)\n",
    "print(f'Adapter Component {ic3_adapter_name} deleted.')"
   ]
  },
  {
   "cell_type": "markdown",
   "id": "bc65ab56-3290-4dde-84bb-4c8efcaf87d9",
   "metadata": {},
   "source": [
    "**Deleting the base model IC** will automatically delete the base IC and any associated adapter ICs."
   ]
  },
  {
   "cell_type": "code",
   "execution_count": 24,
   "id": "473d8b60-3aea-493b-b257-874a5e4c05b4",
   "metadata": {},
   "outputs": [
    {
     "name": "stdout",
     "output_type": "stream",
     "text": [
      "Base Component base-test-2025-08-27-18-49-32-454 deleted.\n"
     ]
    }
   ],
   "source": [
    "sess.delete_inference_component(base_inference_component_name, wait = True)\n",
    "\n",
    "print(f'Base Component {base_inference_component_name} deleted.')"
   ]
  },
  {
   "cell_type": "markdown",
   "id": "40c2a06b-7f59-4a12-be34-467e313d2ab0",
   "metadata": {},
   "source": [
    "Clean up the **running endpoint and its configuration**."
   ]
  },
  {
   "cell_type": "code",
   "execution_count": 25,
   "id": "3d674b41",
   "metadata": {
    "tags": []
   },
   "outputs": [
    {
     "name": "stdout",
     "output_type": "stream",
     "text": [
      "Endpoint test-2025-08-27-18-49-32-454 deleted.\n",
      "Endpoint Configuration test-2025-08-27-18-49-32-454 deleted.\n",
      "Model test-2025-08-27-18-49-32-454 deleted.\n"
     ]
    }
   ],
   "source": [
    "sess.delete_endpoint(endpoint_name)\n",
    "print(f'Endpoint {endpoint_name} deleted.')\n",
    "\n",
    "sess.delete_endpoint_config(endpoint_name)\n",
    "print(f'Endpoint Configuration {endpoint_name} deleted.')\n",
    "\n",
    "sess.delete_model(model_name)\n",
    "print(f'Model {model_name} deleted.')"
   ]
  },
  {
   "cell_type": "code",
   "execution_count": null,
   "id": "39fd5151-beac-49cc-ae6c-9dbeaf796c87",
   "metadata": {},
   "outputs": [],
   "source": []
  }
 ],
 "metadata": {
  "kernelspec": {
   "display_name": "Python 3 (ipykernel)",
   "language": "python",
   "name": "python3"
  },
  "language_info": {
   "codemirror_mode": {
    "name": "ipython",
    "version": 3
   },
   "file_extension": ".py",
   "mimetype": "text/x-python",
   "name": "python",
   "nbconvert_exporter": "python",
   "pygments_lexer": "ipython3",
   "version": "3.12.9"
  }
 },
 "nbformat": 4,
 "nbformat_minor": 5
}
