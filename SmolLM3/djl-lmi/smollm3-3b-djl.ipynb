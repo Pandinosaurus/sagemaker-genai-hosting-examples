{
 "cells": [
  {
   "cell_type": "code",
   "execution_count": null,
   "id": "298aa7b5",
   "metadata": {},
   "outputs": [],
   "source": [
    "from sagemaker.djl_inference import DJLModel\n",
    "from sagemaker.session import Session\n",
    "from sagemaker.utils import name_from_base\n",
    "from sagemaker import get_execution_role\n",
    "import boto3\n",
    "import re\n",
    "\n",
    "\n",
    "# Configure IAM permissions\n",
    "try:\n",
    "    role = get_execution_role()\n",
    "except:\n",
    "    role = input(\"Enter your SageMaker role ARN: \")\n",
    "\n",
    "##### PARAMS TO CONFIGURE #####\n",
    "model_id = \"HuggingFaceTB/SmolLM3-3B\"\n",
    "region_name = \"us-east-1\"\n",
    "image_name_and_tag = input(\"> Provide the name of your image like this - image:tag\")\n",
    "###############################\n",
    "\n",
    "clean_model_id = re.sub(r'[^a-zA-Z0-9]', '-', model_id.split(\"/\")[-1])\n",
    "model_name = name_from_base(clean_model_id)\n",
    "endpoint_name = name_from_base(clean_model_id+\"-ep\")\n",
    "\n",
    "boto_session = boto3.Session(region_name=region_name)\n",
    "session = Session(boto_session=boto_session)\n",
    "account_id = boto_session.client(\"sts\").get_caller_identity()[\"Account\"]\n",
    "\n",
    "model = DJLModel(\n",
    "    name=model_name, role=role, sagemaker_session=session,\n",
    "\timage_uri=f\"{account_id}.dkr.ecr.{region_name}.amazonaws.com/{image_name_and_tag}\",\n",
    "    env={\n",
    "        \"HF_MODEL_ID\": model_id,\n",
    "        \"OPTION_MAX_MODEL_LEN\": f\"{1024*16}\",\n",
    "        # \"OPTION_QUANTIZE\": \"fp8\",\n",
    "        \"OPTION_ROLLING_BATCH\": \"vllm\",\n",
    "        \"OPTION_ENABLE_AUTO_TOOL_CHOICE\": \"true\",\n",
    "        \"OPTION_TOOL_CALL_PARSER\": \"hermes\",\n",
    "    },\n",
    ")\n",
    "\n",
    "# deploy model to SageMaker Inference\n",
    "predictor = model.deploy(\n",
    "\tinitial_instance_count=1,\n",
    "\tinstance_type=\"ml.g5.2xlarge\",\n",
    "\tendpoint_name=endpoint_name,\n",
    ")\n",
    "print(\"⌛️ Your endpoint is deploying! Please wait ~10 minutes.\")"
   ]
  },
  {
   "cell_type": "markdown",
   "id": "86f42113",
   "metadata": {},
   "source": [
    "## Testing"
   ]
  },
  {
   "cell_type": "code",
   "execution_count": null,
   "id": "f90feb73",
   "metadata": {},
   "outputs": [],
   "source": [
    "try:\n",
    "\tendpoint_name\n",
    "except:\n",
    "\tendpoint_name = \"\""
   ]
  },
  {
   "cell_type": "code",
   "execution_count": null,
   "id": "9eaf6466",
   "metadata": {},
   "outputs": [],
   "source": [
    "from sagemaker.predictor import Predictor\n",
    "from sagemaker.serializers import JSONSerializer\n",
    "from sagemaker.deserializers import JSONDeserializer\n",
    "from sagemaker.session import Session\n",
    "import boto3\n",
    "\n",
    "boto_session = boto3.Session(region_name=\"us-east-1\")\n",
    "session = Session(boto_session=boto_session)\n",
    "\n",
    "predictor = Predictor(endpoint_name=endpoint_name, serializer=JSONSerializer(), deserializer=JSONDeserializer(), sagemaker_session=session)\n",
    "\n",
    "messages = [{\"role\": \"user\", \"content\": \"What is the weather like in New York?\"}]\n",
    "tools = [\n",
    "\t{\n",
    "\t\t\"type\": \"function\",\n",
    "\t\t\"function\": {\n",
    "\t\t\t\"name\": \"get_current_weather\",\n",
    "\t\t\t\"description\": \"Get the current weather\",\n",
    "\t\t\t\"parameters\": {\n",
    "\t\t\t\t\"type\": \"object\",\n",
    "\t\t\t\t\"properties\": {\n",
    "\t\t\t\t\t\"location\": {\n",
    "\t\t\t\t\t\t\"type\": \"string\",\n",
    "\t\t\t\t\t\t\"description\": \"The city and state, e.g. San Francisco, CA\"\n",
    "\t\t\t\t\t},\n",
    "\t\t\t\t\t\"format\": {\n",
    "\t\t\t\t\t\t\"type\": \"string\",\n",
    "\t\t\t\t\t\t\"enum\": [\"celsius\", \"fahrenheit\"],\n",
    "\t\t\t\t\t\t\"description\": \"The temperature unit to use. Infer this from the users location.\"\n",
    "\t\t\t\t\t}\n",
    "\t\t\t\t},\n",
    "\t\t\t\t\"required\": [\"location\", \"format\"]\n",
    "\t\t\t}\n",
    "\t\t}\n",
    "\t}\n",
    "]\n",
    "tool_choice = \"auto\""
   ]
  },
  {
   "cell_type": "code",
   "execution_count": null,
   "id": "3c7bd671",
   "metadata": {},
   "outputs": [],
   "source": [
    "payload = {\"messages\":messages, \"tools\":tools, \"tool_choice\":tool_choice, \"max_tokens\":1024*3}\n",
    "response = predictor.predict(payload)\n",
    "response"
   ]
  },
  {
   "cell_type": "code",
   "execution_count": null,
   "id": "7905e5d7",
   "metadata": {},
   "outputs": [],
   "source": []
  }
 ],
 "metadata": {
  "kernelspec": {
   "display_name": ".venv",
   "language": "python",
   "name": "python3"
  },
  "language_info": {
   "codemirror_mode": {
    "name": "ipython",
    "version": 3
   },
   "file_extension": ".py",
   "mimetype": "text/x-python",
   "name": "python",
   "nbconvert_exporter": "python",
   "pygments_lexer": "ipython3",
   "version": "3.12.10"
  }
 },
 "nbformat": 4,
 "nbformat_minor": 5
}
